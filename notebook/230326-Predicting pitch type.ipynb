{
 "cells": [
  {
   "attachments": {},
   "cell_type": "markdown",
   "metadata": {},
   "source": [
    "# Predicting Pitch Type"
   ]
  },
  {
   "cell_type": "markdown",
   "metadata": {},
   "source": [
    "### Introduction"
   ]
  },
  {
   "cell_type": "code",
   "execution_count": 2,
   "metadata": {
    "id": "ezN62FsSI-lR"
   },
   "outputs": [],
   "source": [
    "from sklearn.model_selection import train_test_split\n",
    "from sklearn.linear_model import LogisticRegression\n",
    "from sklearn.ensemble import RandomForestClassifier\n",
    "from sklearn.model_selection import GridSearchCV\n",
    "from sklearn.linear_model import SGDClassifier\n",
    "from sklearn.preprocessing import MinMaxScaler\n",
    "from sklearn.ensemble import GradientBoostingClassifier\n",
    "\n",
    "from sklearn.metrics import classification_report, confusion_matrix\n",
    "from sklearn.metrics import r2_score"
   ]
  },
  {
   "cell_type": "code",
   "execution_count": 3,
   "metadata": {},
   "outputs": [
    {
     "data": {
      "text/plain": [
       "(1308544, 196)"
      ]
     },
     "execution_count": 3,
     "metadata": {},
     "output_type": "execute_result"
    }
   ],
   "source": [
    "import numpy as np\n",
    "import pandas as pd\n",
    "from pandas.api.types import is_string_dtype, is_numeric_dtype\n",
    "import math\n",
    "import scipy.stats as stats\n",
    "from scipy.stats import *\n",
    "from statistics import mean\n",
    "\n",
    "from sklearn.preprocessing import MaxAbsScaler\n",
    "from sklearn.preprocessing import MinMaxScaler\n",
    "from sklearn.preprocessing import RobustScaler\n",
    "from sklearn.preprocessing import StandardScaler\n",
    "from sklearn.preprocessing import LabelEncoder\n",
    "from sklearn.preprocessing import OneHotEncoder\n",
    "\n",
    "from dtaidistance import *\n",
    "\n",
    "from datetime import datetime, date, timedelta\n",
    "import datetime as dt\n",
    "import time\n",
    "\n",
    "import urllib\n",
    "from urllib.error import URLError, HTTPError\n",
    "\n",
    "import os\n",
    "from dateutil import parser\n",
    "\n",
    "import seaborn as sns\n",
    "import matplotlib as mpl\n",
    "import matplotlib.cbook as cbook\n",
    "import matplotlib.colors as mcolors\n",
    "import matplotlib.font_manager as fm\n",
    "import matplotlib.gridspec as gridspec\n",
    "import matplotlib.image as mpimg\n",
    "import matplotlib.pyplot as plt\n",
    "import matplotlib.ticker as ticker\n",
    "import matplotlib.patches as patches\n",
    "import matplotlib.patheffects as path_effects\n",
    "from matplotlib.patches import Rectangle\n",
    "from matplotlib.patches import Polygon\n",
    "\n",
    "from matplotlib import cm\n",
    "from matplotlib.backends.backend_pdf import PdfPages\n",
    "from matplotlib.offsetbox import TextArea, DrawingArea, OffsetImage, AnnotationBbox\n",
    "from matplotlib.patches import Rectangle\n",
    "from matplotlib.patches import Polygon\n",
    "\n",
    "import koreanize_matplotlib\n",
    "from highlight_text import fig_text, ax_text\n",
    "\n",
    "import calmap\n",
    "import calplot\n",
    "import plotly.express as px\n",
    "import plotly.graph_objects as go\n",
    "import ipywidgets as widgets\n",
    "import dataframe_image as dfi\n",
    "from PIL import Image\n",
    "\n",
    "import warnings # 경고메세지 숨기기\n",
    "warnings.filterwarnings(action='ignore') # (action='default')\n",
    "\n",
    "# 그래프에서 마이너스 폰트 깨지는 문제에 대한 대처\n",
    "plt.rcParams['axes.unicode_minus'] = False\n",
    "plt.rcParams['font.family'] = 'Malgun Gothic'\n",
    "\n",
    "%matplotlib inline\n",
    "# pd.options.display.float_format='{:.2f}'.format\n",
    "\n",
    "## -------------------------------------------------------------------------------- ## ->|\n",
    "YJPATH3 = r'F:/YJ-format-230125/data/'; OUTDIR3 = r'interim/'\n",
    "\n",
    "kf = pd.read_csv('F:/YJ-RnDnote-WS/data/003_kbo_record_raw/KBO-record-c-0122.csv', encoding='utf-8')\n",
    "color = pd.read_csv(\"F:/YJ-format-230125/data/team_colors3.csv\", encoding='cp949')\n",
    "raw = pd.read_csv(YJPATH3 + OUTDIR3 + r'pbp-zone-2023-03-20.csv', encoding='cp949', low_memory=False)\n",
    "\n",
    "def two_digit(n): return f\"{n:02d}\"\n",
    "def six_digit(n): return f\"{n:06d}\"\n",
    "\n",
    "raw[\"game_date\"] = pd.to_datetime(raw.game_date, format='%Y-%m-%d')\n",
    "raw['bs_cnt']=raw['bs_cnt'].apply(two_digit)\n",
    "raw['bso_rcnt']=raw['bso_rcnt'].apply(six_digit)\n",
    "\n",
    "raw.drop_duplicates(inplace=True)\n",
    "raw.shape"
   ]
  },
  {
   "cell_type": "code",
   "execution_count": 4,
   "metadata": {},
   "outputs": [],
   "source": [
    "YJPATH3 = r'F:/YJ-format-230125/data/'; OUTDIR3 = r'interim/'\n",
    "raw = pd.read_csv(YJPATH3 + OUTDIR3 + r'pbp-zone-2023-03-20.csv', encoding='cp949', low_memory=False)\n",
    "raw[\"game_date\"] = pd.to_datetime(raw.game_date, format='%Y-%m-%d')"
   ]
  },
  {
   "attachments": {},
   "cell_type": "markdown",
   "metadata": {
    "id": "mGUNCzYPI-lV"
   },
   "source": [
    "# 0.DATA WRANGLING"
   ]
  },
  {
   "attachments": {},
   "cell_type": "markdown",
   "metadata": {},
   "source": [
    "### Step 1 - Merging the Datasets"
   ]
  },
  {
   "cell_type": "code",
   "execution_count": 5,
   "metadata": {
    "colab": {
     "base_uri": "https://localhost:8080/"
    },
    "id": "sWUhSj__I-lZ",
    "outputId": "dfe89dff-c3df-4f71-e1dc-222d5bb59606",
    "scrolled": true
   },
   "outputs": [
    {
     "data": {
      "text/plain": [
       "Index(['pitch_type', 'pitcher', 'batter', 'pitcher_ID', 'batter_ID', 'speed',\n",
       "       'pitch_result', 'pa_result', 'pa_result_detail', 'description',\n",
       "       ...\n",
       "       'pitch_type_zone101_stands_hand_le', 'sz_height', 'catcher_pitcher',\n",
       "       'catcher_pitcher_batter', 'catcher_batter', 'pitcher_batter',\n",
       "       'p_team_fa', 'b_team_fa', 'a_team_fa', 'h_team_fa'],\n",
       "      dtype='object', length=196)"
      ]
     },
     "execution_count": 5,
     "metadata": {},
     "output_type": "execute_result"
    }
   ],
   "source": [
    "df= raw.copy()\n",
    "df.columns"
   ]
  },
  {
   "cell_type": "code",
   "execution_count": 6,
   "metadata": {
    "colab": {
     "base_uri": "https://localhost:8080/"
    },
    "id": "_2Mj9-2MI-lZ",
    "outputId": "a7567637-fe13-4c6f-b44a-ed7dbadf0156"
   },
   "outputs": [
    {
     "data": {
      "text/plain": [
       "pitch_type        object\n",
       "pitcher           object\n",
       "batter            object\n",
       "pitcher_ID         int64\n",
       "batter_ID          int64\n",
       "                   ...  \n",
       "pitcher_batter    object\n",
       "p_team_fa         object\n",
       "b_team_fa         object\n",
       "a_team_fa         object\n",
       "h_team_fa         object\n",
       "Length: 196, dtype: object"
      ]
     },
     "execution_count": 6,
     "metadata": {},
     "output_type": "execute_result"
    }
   ],
   "source": [
    "df.dtypes"
   ]
  },
  {
   "attachments": {},
   "cell_type": "markdown",
   "metadata": {},
   "source": [
    "### Step 2 - Addressing the Missing Data"
   ]
  },
  {
   "cell_type": "code",
   "execution_count": 7,
   "metadata": {
    "colab": {
     "base_uri": "https://localhost:8080/"
    },
    "id": "_cGa-MtzI-la",
    "outputId": "0221b852-4c48-4f65-a9de-5670295bf413"
   },
   "outputs": [
    {
     "data": {
      "text/plain": [
       "pitch_type        0\n",
       "pitcher           0\n",
       "batter            0\n",
       "pitcher_ID        0\n",
       "batter_ID         0\n",
       "                 ..\n",
       "pitcher_batter    0\n",
       "p_team_fa         0\n",
       "b_team_fa         0\n",
       "a_team_fa         0\n",
       "h_team_fa         0\n",
       "Length: 196, dtype: int64"
      ]
     },
     "execution_count": 7,
     "metadata": {},
     "output_type": "execute_result"
    }
   ],
   "source": [
    "df.isnull().sum()"
   ]
  },
  {
   "attachments": {},
   "cell_type": "markdown",
   "metadata": {},
   "source": [
    "### Step 3 - Create the Target 'Fastball' Label"
   ]
  },
  {
   "cell_type": "code",
   "execution_count": 8,
   "metadata": {},
   "outputs": [
    {
     "data": {
      "text/plain": [
       "array(['패스트볼', '슬라커터', '커브구종', '체포스플', '너클제외'], dtype=object)"
      ]
     },
     "execution_count": 8,
     "metadata": {},
     "output_type": "execute_result"
    }
   ],
   "source": [
    "df['pitch_class'].unique()"
   ]
  },
  {
   "cell_type": "code",
   "execution_count": 9,
   "metadata": {},
   "outputs": [
    {
     "data": {
      "text/plain": [
       "1    688325\n",
       "0    620219\n",
       "Name: fastball, dtype: int64"
      ]
     },
     "execution_count": 9,
     "metadata": {},
     "output_type": "execute_result"
    }
   ],
   "source": [
    "df['fastball'] = df['pitch_class']\n",
    "df['fastball'] = np.where(df['fastball'] == '패스트볼', 1, 0)\n",
    "df['fastball'].value_counts()"
   ]
  },
  {
   "cell_type": "code",
   "execution_count": 10,
   "metadata": {
    "colab": {
     "base_uri": "https://localhost:8080/",
     "height": 355
    },
    "id": "dtDi3-AtI-le",
    "outputId": "487947cc-299e-46e8-ad5e-f5b3d5b1653f"
   },
   "outputs": [
    {
     "data": {
      "text/html": [
       "<div>\n",
       "<style scoped>\n",
       "    .dataframe tbody tr th:only-of-type {\n",
       "        vertical-align: middle;\n",
       "    }\n",
       "\n",
       "    .dataframe tbody tr th {\n",
       "        vertical-align: top;\n",
       "    }\n",
       "\n",
       "    .dataframe thead th {\n",
       "        text-align: right;\n",
       "    }\n",
       "</style>\n",
       "<table border=\"1\" class=\"dataframe\">\n",
       "  <thead>\n",
       "    <tr style=\"text-align: right;\">\n",
       "      <th></th>\n",
       "      <th>pitch_type</th>\n",
       "      <th>pitcher</th>\n",
       "      <th>batter</th>\n",
       "      <th>pitcher_ID</th>\n",
       "      <th>batter_ID</th>\n",
       "      <th>speed</th>\n",
       "      <th>pitch_result</th>\n",
       "      <th>pa_result</th>\n",
       "      <th>pa_result_detail</th>\n",
       "      <th>description</th>\n",
       "      <th>...</th>\n",
       "      <th>sz_height</th>\n",
       "      <th>catcher_pitcher</th>\n",
       "      <th>catcher_pitcher_batter</th>\n",
       "      <th>catcher_batter</th>\n",
       "      <th>pitcher_batter</th>\n",
       "      <th>p_team_fa</th>\n",
       "      <th>b_team_fa</th>\n",
       "      <th>a_team_fa</th>\n",
       "      <th>h_team_fa</th>\n",
       "      <th>fastball</th>\n",
       "    </tr>\n",
       "  </thead>\n",
       "  <tbody>\n",
       "    <tr>\n",
       "      <th>0</th>\n",
       "      <td>직구</td>\n",
       "      <td>니퍼트</td>\n",
       "      <td>김원석</td>\n",
       "      <td>61240</td>\n",
       "      <td>62768</td>\n",
       "      <td>141.0</td>\n",
       "      <td>타격</td>\n",
       "      <td>안타</td>\n",
       "      <td>안타</td>\n",
       "      <td>김원석 : 우익수 앞 1루타;</td>\n",
       "      <td>...</td>\n",
       "      <td>1.875</td>\n",
       "      <td>양의지 vs 니퍼트</td>\n",
       "      <td>양의지 vs 니퍼트 vs 김원석</td>\n",
       "      <td>양의지 vs 김원석</td>\n",
       "      <td>니퍼트 vs 김원석</td>\n",
       "      <td>DS</td>\n",
       "      <td>HH</td>\n",
       "      <td>HH</td>\n",
       "      <td>DS</td>\n",
       "      <td>1</td>\n",
       "    </tr>\n",
       "    <tr>\n",
       "      <th>1</th>\n",
       "      <td>직구</td>\n",
       "      <td>니퍼트</td>\n",
       "      <td>장민석</td>\n",
       "      <td>61240</td>\n",
       "      <td>71347</td>\n",
       "      <td>142.0</td>\n",
       "      <td>타격</td>\n",
       "      <td>희생번트</td>\n",
       "      <td>희생번트</td>\n",
       "      <td>장민석 : 투수 희생번트 아웃 (투수-&gt;1루수 송구아웃); 1루주자 김원석 : 2루...</td>\n",
       "      <td>...</td>\n",
       "      <td>1.875</td>\n",
       "      <td>양의지 vs 니퍼트</td>\n",
       "      <td>양의지 vs 니퍼트 vs 장민석</td>\n",
       "      <td>양의지 vs 장민석</td>\n",
       "      <td>니퍼트 vs 장민석</td>\n",
       "      <td>DS</td>\n",
       "      <td>HH</td>\n",
       "      <td>HH</td>\n",
       "      <td>DS</td>\n",
       "      <td>1</td>\n",
       "    </tr>\n",
       "    <tr>\n",
       "      <th>2</th>\n",
       "      <td>직구</td>\n",
       "      <td>니퍼트</td>\n",
       "      <td>김태균</td>\n",
       "      <td>61240</td>\n",
       "      <td>71752</td>\n",
       "      <td>141.0</td>\n",
       "      <td>볼</td>\n",
       "      <td>NaN</td>\n",
       "      <td>NaN</td>\n",
       "      <td>NaN</td>\n",
       "      <td>...</td>\n",
       "      <td>1.875</td>\n",
       "      <td>양의지 vs 니퍼트</td>\n",
       "      <td>양의지 vs 니퍼트 vs 김태균</td>\n",
       "      <td>양의지 vs 김태균</td>\n",
       "      <td>니퍼트 vs 김태균</td>\n",
       "      <td>DS</td>\n",
       "      <td>HH</td>\n",
       "      <td>HH</td>\n",
       "      <td>DS</td>\n",
       "      <td>1</td>\n",
       "    </tr>\n",
       "    <tr>\n",
       "      <th>3</th>\n",
       "      <td>직구</td>\n",
       "      <td>니퍼트</td>\n",
       "      <td>김태균</td>\n",
       "      <td>61240</td>\n",
       "      <td>71752</td>\n",
       "      <td>143.0</td>\n",
       "      <td>볼</td>\n",
       "      <td>NaN</td>\n",
       "      <td>NaN</td>\n",
       "      <td>NaN</td>\n",
       "      <td>...</td>\n",
       "      <td>1.875</td>\n",
       "      <td>양의지 vs 니퍼트</td>\n",
       "      <td>양의지 vs 니퍼트 vs 김태균</td>\n",
       "      <td>양의지 vs 김태균</td>\n",
       "      <td>니퍼트 vs 김태균</td>\n",
       "      <td>DS</td>\n",
       "      <td>HH</td>\n",
       "      <td>HH</td>\n",
       "      <td>DS</td>\n",
       "      <td>1</td>\n",
       "    </tr>\n",
       "    <tr>\n",
       "      <th>4</th>\n",
       "      <td>직구</td>\n",
       "      <td>니퍼트</td>\n",
       "      <td>김태균</td>\n",
       "      <td>61240</td>\n",
       "      <td>71752</td>\n",
       "      <td>143.0</td>\n",
       "      <td>파울</td>\n",
       "      <td>NaN</td>\n",
       "      <td>NaN</td>\n",
       "      <td>NaN</td>\n",
       "      <td>...</td>\n",
       "      <td>1.875</td>\n",
       "      <td>양의지 vs 니퍼트</td>\n",
       "      <td>양의지 vs 니퍼트 vs 김태균</td>\n",
       "      <td>양의지 vs 김태균</td>\n",
       "      <td>니퍼트 vs 김태균</td>\n",
       "      <td>DS</td>\n",
       "      <td>HH</td>\n",
       "      <td>HH</td>\n",
       "      <td>DS</td>\n",
       "      <td>1</td>\n",
       "    </tr>\n",
       "    <tr>\n",
       "      <th>5</th>\n",
       "      <td>직구</td>\n",
       "      <td>니퍼트</td>\n",
       "      <td>김태균</td>\n",
       "      <td>61240</td>\n",
       "      <td>71752</td>\n",
       "      <td>147.0</td>\n",
       "      <td>볼</td>\n",
       "      <td>NaN</td>\n",
       "      <td>NaN</td>\n",
       "      <td>NaN</td>\n",
       "      <td>...</td>\n",
       "      <td>1.875</td>\n",
       "      <td>양의지 vs 니퍼트</td>\n",
       "      <td>양의지 vs 니퍼트 vs 김태균</td>\n",
       "      <td>양의지 vs 김태균</td>\n",
       "      <td>니퍼트 vs 김태균</td>\n",
       "      <td>DS</td>\n",
       "      <td>HH</td>\n",
       "      <td>HH</td>\n",
       "      <td>DS</td>\n",
       "      <td>1</td>\n",
       "    </tr>\n",
       "    <tr>\n",
       "      <th>6</th>\n",
       "      <td>직구</td>\n",
       "      <td>니퍼트</td>\n",
       "      <td>김태균</td>\n",
       "      <td>61240</td>\n",
       "      <td>71752</td>\n",
       "      <td>146.0</td>\n",
       "      <td>볼</td>\n",
       "      <td>볼넷</td>\n",
       "      <td>볼넷</td>\n",
       "      <td>김태균 :  볼넷;</td>\n",
       "      <td>...</td>\n",
       "      <td>1.875</td>\n",
       "      <td>양의지 vs 니퍼트</td>\n",
       "      <td>양의지 vs 니퍼트 vs 김태균</td>\n",
       "      <td>양의지 vs 김태균</td>\n",
       "      <td>니퍼트 vs 김태균</td>\n",
       "      <td>DS</td>\n",
       "      <td>HH</td>\n",
       "      <td>HH</td>\n",
       "      <td>DS</td>\n",
       "      <td>1</td>\n",
       "    </tr>\n",
       "    <tr>\n",
       "      <th>7</th>\n",
       "      <td>슬라</td>\n",
       "      <td>니퍼트</td>\n",
       "      <td>로사리오</td>\n",
       "      <td>61240</td>\n",
       "      <td>66740</td>\n",
       "      <td>127.0</td>\n",
       "      <td>헛스윙</td>\n",
       "      <td>NaN</td>\n",
       "      <td>NaN</td>\n",
       "      <td>NaN</td>\n",
       "      <td>...</td>\n",
       "      <td>1.875</td>\n",
       "      <td>양의지 vs 니퍼트</td>\n",
       "      <td>양의지 vs 니퍼트 vs 로사리오</td>\n",
       "      <td>양의지 vs 로사리오</td>\n",
       "      <td>니퍼트 vs 로사리오</td>\n",
       "      <td>DS</td>\n",
       "      <td>HH</td>\n",
       "      <td>HH</td>\n",
       "      <td>DS</td>\n",
       "      <td>0</td>\n",
       "    </tr>\n",
       "    <tr>\n",
       "      <th>8</th>\n",
       "      <td>슬라</td>\n",
       "      <td>니퍼트</td>\n",
       "      <td>로사리오</td>\n",
       "      <td>61240</td>\n",
       "      <td>66740</td>\n",
       "      <td>129.0</td>\n",
       "      <td>헛스윙</td>\n",
       "      <td>NaN</td>\n",
       "      <td>NaN</td>\n",
       "      <td>NaN</td>\n",
       "      <td>...</td>\n",
       "      <td>1.875</td>\n",
       "      <td>양의지 vs 니퍼트</td>\n",
       "      <td>양의지 vs 니퍼트 vs 로사리오</td>\n",
       "      <td>양의지 vs 로사리오</td>\n",
       "      <td>니퍼트 vs 로사리오</td>\n",
       "      <td>DS</td>\n",
       "      <td>HH</td>\n",
       "      <td>HH</td>\n",
       "      <td>DS</td>\n",
       "      <td>0</td>\n",
       "    </tr>\n",
       "    <tr>\n",
       "      <th>9</th>\n",
       "      <td>슬라</td>\n",
       "      <td>니퍼트</td>\n",
       "      <td>로사리오</td>\n",
       "      <td>61240</td>\n",
       "      <td>66740</td>\n",
       "      <td>129.0</td>\n",
       "      <td>타격</td>\n",
       "      <td>필드 아웃</td>\n",
       "      <td>라인드라이브 아웃</td>\n",
       "      <td>로사리오 : 2루수 라인드라이브 아웃; 2루주자 김원석 :  아웃 (2루수 2루 터...</td>\n",
       "      <td>...</td>\n",
       "      <td>1.875</td>\n",
       "      <td>양의지 vs 니퍼트</td>\n",
       "      <td>양의지 vs 니퍼트 vs 로사리오</td>\n",
       "      <td>양의지 vs 로사리오</td>\n",
       "      <td>니퍼트 vs 로사리오</td>\n",
       "      <td>DS</td>\n",
       "      <td>HH</td>\n",
       "      <td>HH</td>\n",
       "      <td>DS</td>\n",
       "      <td>0</td>\n",
       "    </tr>\n",
       "  </tbody>\n",
       "</table>\n",
       "<p>10 rows × 197 columns</p>\n",
       "</div>"
      ],
      "text/plain": [
       "  pitch_type pitcher batter  pitcher_ID  batter_ID  speed pitch_result  \\\n",
       "0         직구     니퍼트    김원석       61240      62768  141.0           타격   \n",
       "1         직구     니퍼트    장민석       61240      71347  142.0           타격   \n",
       "2         직구     니퍼트    김태균       61240      71752  141.0            볼   \n",
       "3         직구     니퍼트    김태균       61240      71752  143.0            볼   \n",
       "4         직구     니퍼트    김태균       61240      71752  143.0           파울   \n",
       "5         직구     니퍼트    김태균       61240      71752  147.0            볼   \n",
       "6         직구     니퍼트    김태균       61240      71752  146.0            볼   \n",
       "7         슬라     니퍼트   로사리오       61240      66740  127.0          헛스윙   \n",
       "8         슬라     니퍼트   로사리오       61240      66740  129.0          헛스윙   \n",
       "9         슬라     니퍼트   로사리오       61240      66740  129.0           타격   \n",
       "\n",
       "  pa_result pa_result_detail  \\\n",
       "0        안타               안타   \n",
       "1      희생번트             희생번트   \n",
       "2       NaN              NaN   \n",
       "3       NaN              NaN   \n",
       "4       NaN              NaN   \n",
       "5       NaN              NaN   \n",
       "6        볼넷               볼넷   \n",
       "7       NaN              NaN   \n",
       "8       NaN              NaN   \n",
       "9     필드 아웃        라인드라이브 아웃   \n",
       "\n",
       "                                         description  ...  sz_height  \\\n",
       "0                                   김원석 : 우익수 앞 1루타;  ...      1.875   \n",
       "1  장민석 : 투수 희생번트 아웃 (투수->1루수 송구아웃); 1루주자 김원석 : 2루...  ...      1.875   \n",
       "2                                                NaN  ...      1.875   \n",
       "3                                                NaN  ...      1.875   \n",
       "4                                                NaN  ...      1.875   \n",
       "5                                                NaN  ...      1.875   \n",
       "6                                         김태균 :  볼넷;  ...      1.875   \n",
       "7                                                NaN  ...      1.875   \n",
       "8                                                NaN  ...      1.875   \n",
       "9  로사리오 : 2루수 라인드라이브 아웃; 2루주자 김원석 :  아웃 (2루수 2루 터...  ...      1.875   \n",
       "\n",
       "   catcher_pitcher  catcher_pitcher_batter  catcher_batter pitcher_batter  \\\n",
       "0       양의지 vs 니퍼트       양의지 vs 니퍼트 vs 김원석      양의지 vs 김원석     니퍼트 vs 김원석   \n",
       "1       양의지 vs 니퍼트       양의지 vs 니퍼트 vs 장민석      양의지 vs 장민석     니퍼트 vs 장민석   \n",
       "2       양의지 vs 니퍼트       양의지 vs 니퍼트 vs 김태균      양의지 vs 김태균     니퍼트 vs 김태균   \n",
       "3       양의지 vs 니퍼트       양의지 vs 니퍼트 vs 김태균      양의지 vs 김태균     니퍼트 vs 김태균   \n",
       "4       양의지 vs 니퍼트       양의지 vs 니퍼트 vs 김태균      양의지 vs 김태균     니퍼트 vs 김태균   \n",
       "5       양의지 vs 니퍼트       양의지 vs 니퍼트 vs 김태균      양의지 vs 김태균     니퍼트 vs 김태균   \n",
       "6       양의지 vs 니퍼트       양의지 vs 니퍼트 vs 김태균      양의지 vs 김태균     니퍼트 vs 김태균   \n",
       "7       양의지 vs 니퍼트      양의지 vs 니퍼트 vs 로사리오     양의지 vs 로사리오    니퍼트 vs 로사리오   \n",
       "8       양의지 vs 니퍼트      양의지 vs 니퍼트 vs 로사리오     양의지 vs 로사리오    니퍼트 vs 로사리오   \n",
       "9       양의지 vs 니퍼트      양의지 vs 니퍼트 vs 로사리오     양의지 vs 로사리오    니퍼트 vs 로사리오   \n",
       "\n",
       "   p_team_fa  b_team_fa a_team_fa h_team_fa fastball  \n",
       "0         DS         HH        HH        DS        1  \n",
       "1         DS         HH        HH        DS        1  \n",
       "2         DS         HH        HH        DS        1  \n",
       "3         DS         HH        HH        DS        1  \n",
       "4         DS         HH        HH        DS        1  \n",
       "5         DS         HH        HH        DS        1  \n",
       "6         DS         HH        HH        DS        1  \n",
       "7         DS         HH        HH        DS        0  \n",
       "8         DS         HH        HH        DS        0  \n",
       "9         DS         HH        HH        DS        0  \n",
       "\n",
       "[10 rows x 197 columns]"
      ]
     },
     "execution_count": 10,
     "metadata": {},
     "output_type": "execute_result"
    }
   ],
   "source": [
    "df.head(10)"
   ]
  },
  {
   "attachments": {},
   "cell_type": "markdown",
   "metadata": {
    "id": "XeGnPWYhI-lf"
   },
   "source": [
    "# 1.Exploratory Data Analysis "
   ]
  },
  {
   "attachments": {},
   "cell_type": "markdown",
   "metadata": {},
   "source": [
    "### Pre Pitch Variables"
   ]
  },
  {
   "cell_type": "code",
   "execution_count": 11,
   "metadata": {
    "id": "k0LkkkhJI-lg"
   },
   "outputs": [],
   "source": [
    "#split fastball and offspeed pitches into 2 dataframes for comparison. \n",
    "fastball = df[df['fastball'] == 1]\n",
    "nonfastball = df[df['fastball'] == 0]"
   ]
  },
  {
   "cell_type": "code",
   "execution_count": 12,
   "metadata": {
    "colab": {
     "base_uri": "https://localhost:8080/",
     "height": 381
    },
    "id": "a4vRLcnJI-lh",
    "outputId": "2b6a8c8f-905c-47ad-d5e4-5edfbbba1031"
   },
   "outputs": [
    {
     "data": {
      "image/png": "[encoded data removed]",
      "text/plain": [
       "<Figure size 1000x300 with 1 Axes>"
      ]
     },
     "metadata": {},
     "output_type": "display_data"
    }
   ],
   "source": [
    "#plot the number of different pitch types that were thrown\n",
    "\n",
    "_ = plt.figure(figsize=(10,3))\n",
    "_ = plt.subplot(1,2,1)\n",
    "_ = df['pitch_type'].value_counts().plot.bar()\n",
    "_ = plt.title('Number of Pitches Thrown by Pitch Type', size='large')\n",
    "_ = plt.xlabel('Pitch Type')\n",
    "_ = plt.ylabel('# of Pitches')\n",
    "_ = plt.ticklabel_format(style='plain', axis='y')\n",
    "_ = plt.xticks(rotation=60)"
   ]
  },
  {
   "cell_type": "code",
   "execution_count": 13,
   "metadata": {},
   "outputs": [
    {
     "data": {
      "text/plain": [
       "패스트볼    688325\n",
       "슬라커터    274215\n",
       "체포스플    219634\n",
       "커브구종    125151\n",
       "너클제외      1219\n",
       "Name: pitch_class, dtype: int64"
      ]
     },
     "execution_count": 13,
     "metadata": {},
     "output_type": "execute_result"
    }
   ],
   "source": [
    "df['pitch_class'].value_counts()"
   ]
  },
  {
   "cell_type": "code",
   "execution_count": 14,
   "metadata": {
    "colab": {
     "base_uri": "https://localhost:8080/",
     "height": 318
    },
    "id": "U_2bAscFI-li",
    "outputId": "dfdedbb3-c28c-4535-fc53-66533b75c402"
   },
   "outputs": [
    {
     "data": {
      "image/png": "[encoded data removed]",
      "text/plain": [
       "<Figure size 1000x300 with 1 Axes>"
      ]
     },
     "metadata": {},
     "output_type": "display_data"
    }
   ],
   "source": [
    "#find percentage of fastball vs offspeed\n",
    "_ = plt.figure(figsize=(10,3))\n",
    "_ = plt.subplot(1,2,2)\n",
    "_ = df['pitch_class'].value_counts().plot.pie(labels=['패스트볼', '슬라커터', '체포스플', '커브구종', '너클제외'], autopct='%.2f%%')\n",
    "_ = plt.title('Percentage of Fastballs Thrown', size='large')\n",
    "_ = plt.ylabel(None)"
   ]
  },
  {
   "cell_type": "markdown",
   "metadata": {},
   "source": [
    "#### Runners on base"
   ]
  },
  {
   "cell_type": "code",
   "execution_count": 15,
   "metadata": {
    "id": "dPLlIFBII-li"
   },
   "outputs": [],
   "source": [
    "#Split into smaller dataframes base on how many runners on on base \n",
    "no_runners = df[(df['1b'] == 0) & (df['2b'] == 0) & (df['3b'] == 0)]\n",
    "on_1b = df[(df['1b'] == 1) & (df['2b'] == 0) & (df['3b'] == 0)]\n",
    "on_2b = df[(df['1b'] == 0) & (df['2b'] == 1) & (df['3b'] == 0)]\n",
    "on_3b = df[(df['1b'] == 0) & (df['2b'] == 0) & (df['3b'] == 1)]\n",
    "on_1b2b = df[(df['1b'] == 1) & (df['2b'] == 1) & (df['3b'] == 0)]\n",
    "on_1b3b = df[(df['1b'] == 1) & (df['2b'] == 0) & (df['3b'] == 1)]\n",
    "on_2b3b = df[(df['1b'] == 0) & (df['2b'] == 1) & (df['3b'] == 1)]\n",
    "bases_loaded = df[(df['1b'] == 1) & (df['2b'] == 1) & (df['3b'] == 1)]"
   ]
  },
  {
   "cell_type": "code",
   "execution_count": 16,
   "metadata": {
    "colab": {
     "base_uri": "https://localhost:8080/"
    },
    "id": "lZb04p_bI-lj",
    "outputId": "b9948777-ec5e-4e0e-c4cc-25589e78767f"
   },
   "outputs": [
    {
     "data": {
      "text/plain": [
       "[0.5388810613476972,\n",
       " 0.5343892611214975,\n",
       " 0.47838283665385867,\n",
       " 0.5066427873656789,\n",
       " 0.4938031456677597,\n",
       " 0.4962109107509701,\n",
       " 0.48351218818847275,\n",
       " 0.5326036157914156]"
      ]
     },
     "execution_count": 16,
     "metadata": {},
     "output_type": "execute_result"
    }
   ],
   "source": [
    "# Calculating the fastball percentage for every on base scenario\n",
    "runners_list = [no_runners, on_1b, on_2b, on_3b, on_1b2b, on_1b3b, on_2b3b, bases_loaded]\n",
    "runners_data = []\n",
    "for i in range(len(runners_list)):\n",
    "    runners_data.append(np.sum(runners_list[i]['fastball']) / len(runners_list[i]))\n",
    "\n",
    "runners_data"
   ]
  },
  {
   "cell_type": "code",
   "execution_count": 17,
   "metadata": {
    "colab": {
     "base_uri": "https://localhost:8080/",
     "height": 301
    },
    "id": "QSdRZYq-I-lj",
    "outputId": "3f5f309b-e94f-49de-8ac7-5b404e587172"
   },
   "outputs": [
    {
     "data": {
      "image/png": "[encoded data removed]",
      "text/plain": [
       "<Figure size 2000x500 with 1 Axes>"
      ]
     },
     "metadata": {},
     "output_type": "display_data"
    }
   ],
   "source": [
    "sns.set(font=\"Malgun Gothic\", rc={\"axes.unicode_minus\":False})\n",
    "_ = plt.figure(figsize=(20,5))\n",
    "_ = plt.plot(np.arange(len(runners_data)), runners_data, marker='o', linestyle='none', ms=10, mfc='white', mec='black')\n",
    "_ = plt.title('패스트볼 % × 주자상황', size='large')\n",
    "_ = plt.xlabel('주자상황', size='large')\n",
    "_ = plt.ylabel('패스트볼 %', size='large')\n",
    "_ = plt.xticks(np.arange(len(runners_data)), ['주자없음', '1루', '2루', '3루', '1루&2루', '1루&3루', '2루&3루', '주자만루'], rotation=0)\n",
    "_ = plt.axhline(np.mean(runners_data), color='red', linestyle='--')\n",
    "_ = plt.ylim((.44, .55))"
   ]
  },
  {
   "cell_type": "markdown",
   "metadata": {},
   "source": [
    "#### Batting Count"
   ]
  },
  {
   "cell_type": "code",
   "execution_count": 18,
   "metadata": {
    "colab": {
     "base_uri": "https://localhost:8080/"
    },
    "id": "Wq3Zr-5CI-lk",
    "outputId": "77ea0b41-6af5-4758-e7e3-c8fcab858527"
   },
   "outputs": [
    {
     "data": {
      "text/plain": [
       "[0.5598386824749162,\n",
       " 0.46489214109442717,\n",
       " 0.4616198780303412,\n",
       " 0.5660424746075715,\n",
       " 0.46838520677502343,\n",
       " 0.42812872467222884,\n",
       " 0.6953359376686163,\n",
       " 0.5768811804150692,\n",
       " 0.45503726296741936,\n",
       " 0.9196375421654871,\n",
       " 0.7392063230693232,\n",
       " 0.5584993877323834]"
      ]
     },
     "execution_count": 18,
     "metadata": {},
     "output_type": "execute_result"
    }
   ],
   "source": [
    "count_0_0 = df[(df['b'] == 0) & (df['s'] == 0)]\n",
    "count_0_1 = df[(df['b'] == 0) & (df['s'] == 1)]\n",
    "count_0_2 = df[(df['b'] == 0) & (df['s'] == 2)]\n",
    "count_1_0 = df[(df['b'] == 1) & (df['s'] == 0)]\n",
    "count_1_1 = df[(df['b'] == 1) & (df['s'] == 1)]\n",
    "count_1_2 = df[(df['b'] == 1) & (df['s'] == 2)]\n",
    "count_2_0 = df[(df['b'] == 2) & (df['s'] == 0)]\n",
    "count_2_1 = df[(df['b'] == 2) & (df['s'] == 1)]\n",
    "count_2_2 = df[(df['b'] == 2) & (df['s'] == 2)]\n",
    "count_3_0 = df[(df['b'] == 3) & (df['s'] == 0)]\n",
    "count_3_1 = df[(df['b'] == 3) & (df['s'] == 1)]\n",
    "count_3_2 = df[(df['b'] == 3) & (df['s'] == 2)]\n",
    "\n",
    "# Calculating the fastball percentage for every scenario\n",
    "count_list = [count_0_0, count_0_1, count_0_2, \n",
    "              count_1_0, count_1_1, count_1_2, \n",
    "              count_2_0, count_2_1, count_2_2, \n",
    "              count_3_0, count_3_1, count_3_2]\n",
    "count_data = []\n",
    "for i in range(len(count_list)):\n",
    "    count_data.append(np.sum(count_list[i]['fastball']) / len(count_list[i]))\n",
    "\n",
    "count_data"
   ]
  },
  {
   "cell_type": "code",
   "execution_count": 19,
   "metadata": {
    "colab": {
     "base_uri": "https://localhost:8080/",
     "height": 265
    },
    "id": "Zl6_Ln7PI-ll",
    "outputId": "b08a542f-63fe-45f5-b50f-396bc115442e",
    "scrolled": true
   },
   "outputs": [
    {
     "data": {
      "image/png": "[encoded data removed]",
      "text/plain": [
       "<Figure size 2000x500 with 1 Axes>"
      ]
     },
     "metadata": {},
     "output_type": "display_data"
    }
   ],
   "source": [
    "# Graphing the results\n",
    "_ = plt.figure(figsize=(20,5))\n",
    "_ = plt.plot(np.arange(len(count_data)), count_data, marker='o', linestyle='none', ms=10, mfc='white', mec='black')\n",
    "_ = plt.title('% of Fastballs - Batting Count', size='large')\n",
    "_ = plt.xlabel('Batting Count', size='large')\n",
    "_ = plt.ylabel('% of Fastballs', size='large')\n",
    "_ = plt.xticks(np.arange(len(count_data)), ['0-0', '0-1', '0-2', '1-0', '1-1', '1-2', '2-0', '2-1', '2-2', '3-0', '3-1', '3-2'], rotation=0)\n",
    "_ = plt.axhline(np.mean(count_data), color='red', linestyle='--')\n",
    "_ = plt.ylim((.40, .95))"
   ]
  },
  {
   "cell_type": "markdown",
   "metadata": {},
   "source": [
    "#### Number of Pitches Thrown"
   ]
  },
  {
   "cell_type": "code",
   "execution_count": 20,
   "metadata": {
    "colab": {
     "base_uri": "https://localhost:8080/"
    },
    "id": "Azm4jXHOI-ll",
    "outputId": "0616966f-27c6-460c-d91c-22d22e45358b"
   },
   "outputs": [
    {
     "data": {
      "text/plain": [
       "[0.5598299448533762,\n",
       " 0.5107563284350531,\n",
       " 0.5125795769743032,\n",
       " 0.5264332788134194,\n",
       " 0.519001897777349,\n",
       " 0.49814032373244466,\n",
       " 0.5070235383447228]"
      ]
     },
     "execution_count": 20,
     "metadata": {},
     "output_type": "execute_result"
    }
   ],
   "source": [
    "pitch1 = df[df['pitch_number'] == 1]\n",
    "pitch2 = df[df['pitch_number'] == 2]\n",
    "pitch3 = df[df['pitch_number'] == 3]\n",
    "pitch4 = df[df['pitch_number'] == 4]\n",
    "pitch5 = df[df['pitch_number'] == 5]\n",
    "pitch6 = df[df['pitch_number'] == 6]\n",
    "pitchover = df[df['pitch_number'] > 6]\n",
    "\n",
    "# Calculating the fastball percentage for each pitch\n",
    "pitch_list = [pitch1, pitch2, pitch3, pitch4, pitch5, pitch6, pitchover]\n",
    "pitch_data = []\n",
    "for i in range(len(pitch_list)):\n",
    "    pitch_data.append(np.sum(pitch_list[i]['fastball']) / len(pitch_list[i]))\n",
    "\n",
    "pitch_data"
   ]
  },
  {
   "cell_type": "code",
   "execution_count": 21,
   "metadata": {
    "colab": {
     "base_uri": "https://localhost:8080/",
     "height": 305
    },
    "id": "Gb48yuk4I-lm",
    "outputId": "4b5f578d-2faf-4376-81d0-1fe4adcd2890"
   },
   "outputs": [
    {
     "data": {
      "image/png": "[encoded data removed]",
      "text/plain": [
       "<Figure size 1000x400 with 1 Axes>"
      ]
     },
     "metadata": {},
     "output_type": "display_data"
    }
   ],
   "source": [
    "# Graphing the results\n",
    "_ = sns.set()\n",
    "_ = plt.figure(figsize=(10,4))\n",
    "_ = plt.plot(np.arange(len(pitch_data)), pitch_data, marker='o', linestyle='none', ms=9, mfc='white', mec='black')\n",
    "_ = plt.title('% of Fastballs - # of Pitch in At-Bat', size='x-large')\n",
    "_ = plt.xlabel('Pitch Number')\n",
    "_ = plt.ylabel('% of Fastballs')\n",
    "_ = plt.xticks(np.arange(len(pitch_data)), ['1', '2', '3', '4', '5', '6', '>6'])\n",
    "_ = plt.axhline(np.mean(pitch_data), color='red', linestyle='--')\n",
    "_ = plt.ylim((.49, .57))"
   ]
  },
  {
   "cell_type": "markdown",
   "metadata": {},
   "source": [
    "#### Fastballs by Inning "
   ]
  },
  {
   "cell_type": "code",
   "execution_count": 22,
   "metadata": {
    "colab": {
     "base_uri": "https://localhost:8080/"
    },
    "id": "pQpWiCKTI-ln",
    "outputId": "5faa43aa-3d67-4679-9800-f2cbd046e7d5"
   },
   "outputs": [
    {
     "data": {
      "text/plain": [
       "[0.5676397410345592,\n",
       " 0.5142813807747727,\n",
       " 0.4960541535765864,\n",
       " 0.484083597977955,\n",
       " 0.4890458633403398,\n",
       " 0.5014907857839759,\n",
       " 0.536160693228756,\n",
       " 0.5648995870301879,\n",
       " 0.5893611866368751,\n",
       " 0.5500331345261763]"
      ]
     },
     "execution_count": 22,
     "metadata": {},
     "output_type": "execute_result"
    }
   ],
   "source": [
    "# Dividing the data by inning\n",
    "first_inn = df[df['inning'] == 1]\n",
    "second_inn = df[df['inning'] == 2]\n",
    "third_inn = df[df['inning'] == 3]\n",
    "fourth_inn = df[df['inning'] == 4]\n",
    "fifth_inn = df[df['inning'] == 5]\n",
    "sixth_inn = df[df['inning'] == 6]\n",
    "seventh_inn = df[df['inning'] == 7]\n",
    "eighth_inn = df[df['inning'] == 8]\n",
    "ninth_inn = df[df['inning'] == 9]\n",
    "extra_inn = df[df['inning'] > 9]\n",
    "\n",
    "# Calculating the fastball percentage for each inning\n",
    "inning_list = [first_inn, second_inn, third_inn, \n",
    "               fourth_inn, fifth_inn, sixth_inn, \n",
    "               seventh_inn, eighth_inn, ninth_inn, extra_inn]\n",
    "inning_data = []\n",
    "for i in range(len(inning_list)):\n",
    "    inning_data.append(np.sum(inning_list[i]['fastball']) / len(inning_list[i]))\n",
    "\n",
    "inning_data"
   ]
  },
  {
   "cell_type": "code",
   "execution_count": 23,
   "metadata": {
    "colab": {
     "base_uri": "https://localhost:8080/",
     "height": 305
    },
    "id": "uwlpldtRI-ln",
    "outputId": "6b2756b7-239e-4e58-d543-e94dd8189d95"
   },
   "outputs": [
    {
     "data": {
      "image/png": "[encoded data removed]",
      "text/plain": [
       "<Figure size 1000x400 with 1 Axes>"
      ]
     },
     "metadata": {},
     "output_type": "display_data"
    }
   ],
   "source": [
    "# Graphing the results\n",
    "_ = plt.figure(figsize=(10,4))\n",
    "_ = plt.plot(np.arange(len(inning_data)), inning_data, marker='o', linestyle='none', ms=9, mfc='white', mec='black')\n",
    "_ = plt.title('% of Fastballs - Inning', size='x-large')\n",
    "_ = plt.xlabel('Inning')\n",
    "_ = plt.ylabel('% of Fastballs')\n",
    "_ = plt.xticks(np.arange(len(inning_data)), ['1', '2', '3', '4', '5', '6', '7', '8', '9', 'extra'])\n",
    "_ = plt.axhline(np.mean(inning_data), color='red', linestyle='--')\n",
    "_ = plt.ylim((.48, .60))"
   ]
  },
  {
   "cell_type": "markdown",
   "metadata": {},
   "source": [
    "#### Dominant hand Pitcher vs Batter"
   ]
  },
  {
   "cell_type": "code",
   "execution_count": 24,
   "metadata": {
    "colab": {
     "base_uri": "https://localhost:8080/"
    },
    "id": "KR6ZGWdWI-lo",
    "outputId": "653d8a5f-fb06-4fa4-e8bc-c4b31003b29f"
   },
   "outputs": [
    {
     "data": {
      "text/plain": [
       "[0.5149901802044916,\n",
       " 0.5272937826696698,\n",
       " 0.5343052809151948,\n",
       " 0.5399820305480683]"
      ]
     },
     "execution_count": 24,
     "metadata": {},
     "output_type": "execute_result"
    }
   ],
   "source": [
    "# Dividing the data based on pitcher and batter handedness\n",
    "RvR = df[(df['throws'] == '우') & (df['stands'] == '우')]\n",
    "LvR = df[(df['throws'] == '좌') & (df['stands'] == '우')]\n",
    "RvL = df[(df['throws'] == '우') & (df['stands'] == '좌')]\n",
    "LvL = df[(df['throws'] == '좌') & (df['stands'] == '좌')]\n",
    "\n",
    "# Calculate the fastball percentage for each circumstance\n",
    "PvB_list = [RvR, LvR, RvL, LvL]\n",
    "PvB_data = []\n",
    "\n",
    "for i in range(len(PvB_list)):\n",
    "    PvB_data.append(np.sum(PvB_list[i]['fastball']) / len(PvB_list[i]))\n",
    "\n",
    "PvB_data"
   ]
  },
  {
   "cell_type": "code",
   "execution_count": 25,
   "metadata": {
    "colab": {
     "base_uri": "https://localhost:8080/",
     "height": 305
    },
    "id": "b9DgwquMI-lo",
    "outputId": "0d1efb34-1cfc-4081-e54e-a522b77fd97e"
   },
   "outputs": [
    {
     "data": {
      "image/png": "[encoded data removed]",
      "text/plain": [
       "<Figure size 600x400 with 1 Axes>"
      ]
     },
     "metadata": {},
     "output_type": "display_data"
    }
   ],
   "source": [
    "# Graphing the results\n",
    "_ = plt.figure(figsize=(6,4))\n",
    "_ = plt.plot(np.arange(len(PvB_data)), PvB_data, marker='o', linestyle='none', ms=9, mfc='white', mec='black')\n",
    "_ = plt.title('% of Fastballs - Pitcher v. Batter', size='x-large')\n",
    "_ = plt.xlabel('Pitcher Hand (1st) v. Batter Hand (2nd)')\n",
    "_ = plt.ylabel('% of Fastballs')\n",
    "_ = plt.xticks(np.arange(len(PvB_data)), ['R v R', 'L v R', 'R v L', 'L v L'])\n",
    "_ = plt.axhline(np.mean(PvB_data), color='red', linestyle='--')\n",
    "_ = plt.ylim((.49, .55))"
   ]
  },
  {
   "cell_type": "markdown",
   "metadata": {},
   "source": [
    "#### Number of Outs"
   ]
  },
  {
   "cell_type": "code",
   "execution_count": 26,
   "metadata": {},
   "outputs": [
    {
     "data": {
      "text/plain": [
       "0          0\n",
       "1          0\n",
       "2          1\n",
       "3          1\n",
       "4          1\n",
       "          ..\n",
       "1308539    2\n",
       "1308540    2\n",
       "1308541    2\n",
       "1308542    2\n",
       "1308543    2\n",
       "Name: o, Length: 1308544, dtype: int64"
      ]
     },
     "execution_count": 26,
     "metadata": {},
     "output_type": "execute_result"
    }
   ],
   "source": [
    "df['o']"
   ]
  },
  {
   "cell_type": "code",
   "execution_count": 27,
   "metadata": {
    "colab": {
     "base_uri": "https://localhost:8080/"
    },
    "id": "-wfZPMaeI-lp",
    "outputId": "ac22bd23-14fd-45db-9747-83cc4f8e24c8"
   },
   "outputs": [
    {
     "data": {
      "text/plain": [
       "[0.5560675540646635, 0.5173468028317185, 0.5032082817450416]"
      ]
     },
     "execution_count": 27,
     "metadata": {},
     "output_type": "execute_result"
    }
   ],
   "source": [
    "# Dividing the data based on number of outs\n",
    "no_outs = df[df['o'] == 0]\n",
    "one_outs = df[df['o'] == 1]\n",
    "two_outs = df[df['o'] == 2]\n",
    "\n",
    "# Calculating the fastball percentages for every scenario\n",
    "outs_list = [no_outs, one_outs, two_outs]\n",
    "outs_data = []\n",
    "for i in range(len(outs_list)):\n",
    "    outs_data.append(np.sum(outs_list[i]['fastball']) / len(outs_list[i]))\n",
    "    \n",
    "outs_data"
   ]
  },
  {
   "cell_type": "code",
   "execution_count": 28,
   "metadata": {
    "colab": {
     "base_uri": "https://localhost:8080/",
     "height": 358
    },
    "id": "9PpCEZpcI-lq",
    "outputId": "f56e090b-3321-49a8-8579-7fb6c4df4c9c"
   },
   "outputs": [
    {
     "data": {
      "image/png": "[encoded data removed]",
      "text/plain": [
       "<Figure size 1000x500 with 1 Axes>"
      ]
     },
     "metadata": {},
     "output_type": "display_data"
    }
   ],
   "source": [
    "_ = plt.figure(figsize=(10,5))\n",
    "_ = plt.plot(np.arange(len(outs_data)), outs_data, marker='o', linestyle='none', ms=9, mfc='white', mec='black')\n",
    "_ = plt.title('% of Fastballs - Number of Outs', size='x-large')\n",
    "_ = plt.xlabel('Number of Outs')\n",
    "_ = plt.ylabel('% of Fastballs')\n",
    "_ = plt.xticks(np.arange(len(outs_data)), ['0', '1', '2'])\n",
    "_ = plt.axhline(.5241, color='red', linestyle='--')\n",
    "_ = plt.ylim((.48, .58))"
   ]
  },
  {
   "cell_type": "markdown",
   "metadata": {},
   "source": [
    "#### Fastball based on Score"
   ]
  },
  {
   "cell_type": "code",
   "execution_count": 29,
   "metadata": {
    "id": "TfOMPjN4I-lq"
   },
   "outputs": [
    {
     "data": {
      "text/plain": [
       "[0.5859167211685198,\n",
       " 0.5696557586060349,\n",
       " 0.5655489453758789,\n",
       " 0.5474356565846328,\n",
       " 0.5406581302492083,\n",
       " 0.5312949295504649,\n",
       " 0.5300764813295578,\n",
       " 0.5224058162590879,\n",
       " 0.5124831150328291,\n",
       " 0.5321965263442707,\n",
       " 0.4983556739655316,\n",
       " 0.5022099932675702,\n",
       " 0.5153985259062389,\n",
       " 0.5251661541513739,\n",
       " 0.5402824858757063,\n",
       " 0.5502672140035628,\n",
       " 0.5620818686925956,\n",
       " 0.5719752186588921,\n",
       " 0.5752655180552277]"
      ]
     },
     "execution_count": 29,
     "metadata": {},
     "output_type": "execute_result"
    }
   ],
   "source": [
    "# Dividing the data based on game score\n",
    "tie = df[(df['p_score'] - df['b_score']) == 0]\n",
    "pitcher1 = df[(df['p_score'] - df['b_score']) == 1]\n",
    "pitcher2 = df[(df['p_score'] - df['b_score']) == 2]\n",
    "pitcher3 = df[(df['p_score'] - df['b_score']) == 3]\n",
    "pitcher4 = df[(df['p_score'] - df['b_score']) == 4]\n",
    "pitcher5 = df[(df['p_score'] - df['b_score']) == 5]\n",
    "pitcher6 = df[(df['p_score'] - df['b_score']) == 6]\n",
    "pitcher7 = df[(df['p_score'] - df['b_score']) == 7]\n",
    "pitcher8 = df[(df['p_score'] - df['b_score']) == 8]\n",
    "pitcherplus = df[(df['p_score'] - df['b_score']) > 8]\n",
    "batter1 = df[(df['b_score'] - df['p_score']) == 1]\n",
    "batter2 = df[(df['b_score'] - df['p_score']) == 2]\n",
    "batter3 = df[(df['b_score'] - df['p_score']) == 3]\n",
    "batter4 = df[(df['b_score'] - df['p_score']) == 4]\n",
    "batter5 = df[(df['b_score'] - df['p_score']) == 5]\n",
    "batter6 = df[(df['b_score'] - df['p_score']) == 6]\n",
    "batter7 = df[(df['b_score'] - df['p_score']) == 7]\n",
    "batter8 = df[(df['b_score'] - df['p_score']) == 8]\n",
    "batterplus = df[(df['b_score'] - df['p_score']) > 8]\n",
    "\n",
    "# Calculating the fastball percentage for each score\n",
    "score_list = [pitcherplus, pitcher8, pitcher7, \n",
    "              pitcher6, pitcher5, pitcher4, \n",
    "              pitcher3, pitcher2, pitcher1, \n",
    "              tie, batter1, batter2, batter3,\n",
    "              batter4, batter5, batter6, batter7, \n",
    "              batter8, batterplus]\n",
    "score_data = []\n",
    "for i in range(len(score_list)):\n",
    "    score_data.append(np.sum(score_list[i]['fastball']) / len(score_list[i]))\n",
    "\n",
    "    \n",
    "score_data"
   ]
  },
  {
   "cell_type": "code",
   "execution_count": 30,
   "metadata": {
    "id": "J9zDbT0tI-lr"
   },
   "outputs": [
    {
     "data": {
      "image/png": "[encoded data removed]",
      "text/plain": [
       "<Figure size 1400x400 with 1 Axes>"
      ]
     },
     "metadata": {},
     "output_type": "display_data"
    }
   ],
   "source": [
    "_ = plt.figure(figsize=(14,4))\n",
    "_ = plt.plot(np.arange(len(score_data)), score_data, marker='o', linestyle='none', ms=9, mfc='white', mec='black')\n",
    "_ = plt.title('% of Fastballs - Game Score', size='x-large')\n",
    "_ = plt.xlabel('Game Score (P for pitching team, B for batting team)')\n",
    "_ = plt.ylabel('% of Fastballs')\n",
    "_ = plt.xticks(np.arange(len(score_data)), ['P+>8', 'P+8', 'P+7', 'P+6', 'P+5', 'P+4', 'P+3', 'P+2', 'P+1', 'Tie', 'B+1', 'B+2', 'B+3', 'B+4', 'B+5', 'B+6', 'B+7', 'B+8', 'B+>8'])\n",
    "_ = plt.axhline(.5241, color='red', linestyle='--')\n",
    "_ = plt.ylim((.48, .60))"
   ]
  },
  {
   "attachments": {},
   "cell_type": "markdown",
   "metadata": {},
   "source": [
    "# 2. CONTINUOUS CATEGORIES"
   ]
  },
  {
   "cell_type": "code",
   "execution_count": 31,
   "metadata": {
    "id": "_2-_6ua3I-ls"
   },
   "outputs": [],
   "source": [
    "# functions for easier analysis\n",
    "def ecdf(data):\n",
    "    x=np.sort(data)\n",
    "    y=np.arange(1, len(x) + 1) / len(x)\n",
    "    return x, y\n",
    "\n",
    "def graph_ecdf(variable, x_label, graph_title):\n",
    "    _ = plt.xlabel('{}'.format(x_label))\n",
    "    _ = plt.ylabel('ECDF')\n",
    "    _ = plt.title('{}'.format(graph_title), size='large')\n",
    "\n",
    "    x_fast, y_fast = ecdf(fastball['{}'.format(variable)])\n",
    "    _ = plt.plot(x_fast, y_fast, marker='.', linestyle='none', label='fastballs')\n",
    "\n",
    "    x_nofast, y_nofast = ecdf(nonfastball['{}'.format(variable)])\n",
    "    _ = plt.plot(x_nofast, y_nofast, marker='.', linestyle='none', label='non-fastballs')\n",
    "\n",
    "    _ = plt.legend()\n",
    "\n",
    "def calculate_stats(df_fastball, df_nofastball):\n",
    "    df_fastball_mean = np.mean(df_fastball)\n",
    "    df_fastball_median = np.nanmedian(df_fastball)\n",
    "    df_fastball_std = np.std(df_fastball)\n",
    "    print(\"fastballs mean = {}\".format(df_fastball_mean))\n",
    "    print('fastballs median = {}'.format(df_fastball_median))\n",
    "    print('fastballs std = {}'.format(df_fastball_std))\n",
    "\n",
    "    df_nofastball_mean = np.mean(df_nofastball)\n",
    "    df_nofastball_median = np.nanmedian(df_nofastball)\n",
    "    df_nofastball_std = np.std(df_nofastball)\n",
    "    print(\"non-fastballs mean = {}\".format(df_nofastball_mean))\n",
    "    print('non-fastballs median = {}'.format(df_nofastball_median))\n",
    "    print('non-fastballs std = {}'.format(df_nofastball_std))\n",
    "\n"
   ]
  },
  {
   "cell_type": "markdown",
   "metadata": {},
   "source": [
    "#### Starting Speed"
   ]
  },
  {
   "cell_type": "code",
   "execution_count": 32,
   "metadata": {
    "id": "kKx34Y3jI-lu"
   },
   "outputs": [
    {
     "data": {
      "text/plain": [
       "<Figure size 1400x400 with 0 Axes>"
      ]
     },
     "metadata": {},
     "output_type": "display_data"
    },
    {
     "data": {
      "image/png": "[encoded data removed]",
      "text/plain": [
       "<Figure size 640x480 with 1 Axes>"
      ]
     },
     "metadata": {},
     "output_type": "display_data"
    }
   ],
   "source": [
    "_ = plt.figure(figsize=(14,4))\n",
    "_ = df[['fastball', 'speed']].boxplot(by = 'fastball', showfliers=False).set_xticklabels(['non-fastballs', 'fastballs'])\n",
    "_ = plt.title('Starting Speed (in MPH) of Fastballs v. Non-Fastballs', size='large')\n",
    "_ = plt.xlabel(None)\n",
    "_ = plt.ylabel(None)\n",
    "_ = plt.suptitle(None)\n",
    "_ = plt.ylim((100, 160))"
   ]
  },
  {
   "cell_type": "code",
   "execution_count": 33,
   "metadata": {
    "id": "PnEhFP1GI-lv"
   },
   "outputs": [
    {
     "name": "stdout",
     "output_type": "stream",
     "text": [
      "fastballs mean = 142.19593941815276\n",
      "fastballs median = 143.0\n",
      "fastballs std = 4.967832112820572\n",
      "non-fastballs mean = 128.0298781559417\n",
      "non-fastballs median = 129.0\n",
      "non-fastballs std = 7.371914416973946\n"
     ]
    }
   ],
   "source": [
    "calculate_stats(fastball['speed'], nonfastball['speed'])"
   ]
  },
  {
   "cell_type": "code",
   "execution_count": 34,
   "metadata": {
    "id": "UMMvFIKQI-lw"
   },
   "outputs": [
    {
     "data": {
      "image/png": "[encoded data removed]",
      "text/plain": [
       "<Figure size 640x480 with 1 Axes>"
      ]
     },
     "metadata": {},
     "output_type": "display_data"
    }
   ],
   "source": [
    "# Comparing the Empirical Cumulative Distribution Function (ECDF) for each of the datasets\n",
    "graph_ecdf('speed', 'Pitch Speed (in MPH)', 'Pitch Speed ECDFs')"
   ]
  },
  {
   "attachments": {},
   "cell_type": "markdown",
   "metadata": {},
   "source": [
    "#### px Location"
   ]
  },
  {
   "cell_type": "code",
   "execution_count": 61,
   "metadata": {
    "id": "FYo92NsoM_90"
   },
   "outputs": [
    {
     "data": {
      "text/plain": [
       "<Figure size 1400x400 with 0 Axes>"
      ]
     },
     "metadata": {},
     "output_type": "display_data"
    },
    {
     "data": {
      "image/png": "[encoded data removed]",
      "text/plain": [
       "<Figure size 640x480 with 1 Axes>"
      ]
     },
     "metadata": {},
     "output_type": "display_data"
    }
   ],
   "source": [
    "_ = sns.set()\n",
    "_ = plt.figure(figsize=(14,4))\n",
    "_ = df[['fastball', 'px']].boxplot(by = 'fastball', showfliers=False).set_xticklabels(['non-fastballs', 'fastballs'])\n",
    "_ = plt.title('px Location of Fastballs v. Non-Fastballs', size='large')\n",
    "_ = plt.xlabel(None)\n",
    "_ = plt.ylabel(None)\n",
    "_ = plt.suptitle(None)"
   ]
  },
  {
   "cell_type": "code",
   "execution_count": 36,
   "metadata": {
    "id": "mgytU58TNEJU"
   },
   "outputs": [
    {
     "name": "stdout",
     "output_type": "stream",
     "text": [
      "fastballs mean = -0.048261736550527505\n",
      "fastballs median = -0.048\n",
      "fastballs std = 0.8668739552669159\n",
      "non-fastballs mean = 0.09392154330480962\n",
      "non-fastballs median = 0.103\n",
      "non-fastballs std = 0.8973004375198601\n"
     ]
    }
   ],
   "source": [
    "# Calculating mean/median/std of each dataset\n",
    "calculate_stats(fastball['px'], nonfastball['px'])"
   ]
  },
  {
   "cell_type": "code",
   "execution_count": 37,
   "metadata": {
    "id": "dscxNXaWNKox"
   },
   "outputs": [
    {
     "data": {
      "image/png": "[encoded data removed]",
      "text/plain": [
       "<Figure size 640x480 with 1 Axes>"
      ]
     },
     "metadata": {},
     "output_type": "display_data"
    }
   ],
   "source": [
    "# Comparing the Empirical Cumulative Distribution Function (ECDF) for each of the datasets\n",
    "graph_ecdf('px', 'Horizontal Pitch Location (0 - Middle of Plate)', 'Horizontal Pitch Locations ECDFs')"
   ]
  },
  {
   "cell_type": "markdown",
   "metadata": {},
   "source": [
    "#### Vertical Location"
   ]
  },
  {
   "cell_type": "code",
   "execution_count": 38,
   "metadata": {
    "id": "wqzDoQCMNSnf"
   },
   "outputs": [
    {
     "data": {
      "text/plain": [
       "<Figure size 1400x400 with 0 Axes>"
      ]
     },
     "metadata": {},
     "output_type": "display_data"
    },
    {
     "data": {
      "image/png": "[encoded data removed]",
      "text/plain": [
       "<Figure size 640x480 with 1 Axes>"
      ]
     },
     "metadata": {},
     "output_type": "display_data"
    }
   ],
   "source": [
    "_ = plt.figure(figsize=(14,4))\n",
    "_ = df[['fastball', 'pz']].boxplot(by = 'fastball', showfliers=False).set_xticklabels(['non-fastballs', 'fastballs'])\n",
    "_ = plt.title('Vertical Location of Fastballs v. Non-Fastballs', size='large')\n",
    "_ = plt.xlabel(None)\n",
    "_ = plt.ylabel(None)\n",
    "_ = plt.suptitle(None)"
   ]
  },
  {
   "cell_type": "code",
   "execution_count": 39,
   "metadata": {
    "id": "8o3vr0ELNbWw"
   },
   "outputs": [
    {
     "name": "stdout",
     "output_type": "stream",
     "text": [
      "fastballs mean = 2.562143753682707\n",
      "fastballs median = 2.543\n",
      "fastballs std = 0.8646527681849964\n",
      "non-fastballs mean = 2.091166584513059\n",
      "non-fastballs median = 2.088\n",
      "non-fastballs std = 1.0044937328490808\n"
     ]
    }
   ],
   "source": [
    "# Calculating mean/median/std of each dataset\n",
    "calculate_stats(fastball['pz'], nonfastball['pz'])"
   ]
  },
  {
   "cell_type": "code",
   "execution_count": 40,
   "metadata": {
    "id": "LytjSemHNhzS"
   },
   "outputs": [
    {
     "data": {
      "image/png": "[encoded data removed]",
      "text/plain": [
       "<Figure size 640x480 with 1 Axes>"
      ]
     },
     "metadata": {},
     "output_type": "display_data"
    }
   ],
   "source": [
    "# Comparing the Empirical Cumulative Distribution Function (ECDF) for each of the datasets\n",
    "graph_ecdf('pz', 'Vertical Pitch Location (0 = Ground)', 'Vertical Pitch Locations ECDFs')"
   ]
  },
  {
   "attachments": {},
   "cell_type": "markdown",
   "metadata": {},
   "source": [
    "# 4.PRE-PROCESSING"
   ]
  },
  {
   "cell_type": "code",
   "execution_count": 70,
   "metadata": {
    "id": "76Gbl-HIOYAL"
   },
   "outputs": [
    {
     "data": {
      "text/html": [
       "<div>\n",
       "<style scoped>\n",
       "    .dataframe tbody tr th:only-of-type {\n",
       "        vertical-align: middle;\n",
       "    }\n",
       "\n",
       "    .dataframe tbody tr th {\n",
       "        vertical-align: top;\n",
       "    }\n",
       "\n",
       "    .dataframe thead th {\n",
       "        text-align: right;\n",
       "    }\n",
       "</style>\n",
       "<table border=\"1\" class=\"dataframe\">\n",
       "  <thead>\n",
       "    <tr style=\"text-align: right;\">\n",
       "      <th></th>\n",
       "      <th>gid-intot-panum</th>\n",
       "      <th>fastball</th>\n",
       "      <th>1b</th>\n",
       "      <th>2b</th>\n",
       "      <th>3b</th>\n",
       "    </tr>\n",
       "  </thead>\n",
       "  <tbody>\n",
       "    <tr>\n",
       "      <th>0</th>\n",
       "      <td>20170331HHOB02017-011-01</td>\n",
       "      <td>1</td>\n",
       "      <td>0</td>\n",
       "      <td>0</td>\n",
       "      <td>0</td>\n",
       "    </tr>\n",
       "    <tr>\n",
       "      <th>1</th>\n",
       "      <td>20170331HHOB02017-011-02</td>\n",
       "      <td>1</td>\n",
       "      <td>1</td>\n",
       "      <td>0</td>\n",
       "      <td>0</td>\n",
       "    </tr>\n",
       "    <tr>\n",
       "      <th>2</th>\n",
       "      <td>20170331HHOB02017-011-03</td>\n",
       "      <td>1</td>\n",
       "      <td>0</td>\n",
       "      <td>1</td>\n",
       "      <td>0</td>\n",
       "    </tr>\n",
       "    <tr>\n",
       "      <th>3</th>\n",
       "      <td>20170331HHOB02017-011-03</td>\n",
       "      <td>1</td>\n",
       "      <td>0</td>\n",
       "      <td>1</td>\n",
       "      <td>0</td>\n",
       "    </tr>\n",
       "    <tr>\n",
       "      <th>4</th>\n",
       "      <td>20170331HHOB02017-011-03</td>\n",
       "      <td>1</td>\n",
       "      <td>0</td>\n",
       "      <td>1</td>\n",
       "      <td>0</td>\n",
       "    </tr>\n",
       "    <tr>\n",
       "      <th>5</th>\n",
       "      <td>20170331HHOB02017-011-03</td>\n",
       "      <td>1</td>\n",
       "      <td>0</td>\n",
       "      <td>1</td>\n",
       "      <td>0</td>\n",
       "    </tr>\n",
       "    <tr>\n",
       "      <th>6</th>\n",
       "      <td>20170331HHOB02017-011-03</td>\n",
       "      <td>1</td>\n",
       "      <td>0</td>\n",
       "      <td>1</td>\n",
       "      <td>0</td>\n",
       "    </tr>\n",
       "    <tr>\n",
       "      <th>7</th>\n",
       "      <td>20170331HHOB02017-011-04</td>\n",
       "      <td>0</td>\n",
       "      <td>1</td>\n",
       "      <td>1</td>\n",
       "      <td>0</td>\n",
       "    </tr>\n",
       "    <tr>\n",
       "      <th>8</th>\n",
       "      <td>20170331HHOB02017-011-04</td>\n",
       "      <td>0</td>\n",
       "      <td>1</td>\n",
       "      <td>1</td>\n",
       "      <td>0</td>\n",
       "    </tr>\n",
       "    <tr>\n",
       "      <th>9</th>\n",
       "      <td>20170331HHOB02017-011-04</td>\n",
       "      <td>0</td>\n",
       "      <td>1</td>\n",
       "      <td>1</td>\n",
       "      <td>0</td>\n",
       "    </tr>\n",
       "  </tbody>\n",
       "</table>\n",
       "</div>"
      ],
      "text/plain": [
       "            gid-intot-panum  fastball  1b  2b  3b\n",
       "0  20170331HHOB02017-011-01         1   0   0   0\n",
       "1  20170331HHOB02017-011-02         1   1   0   0\n",
       "2  20170331HHOB02017-011-03         1   0   1   0\n",
       "3  20170331HHOB02017-011-03         1   0   1   0\n",
       "4  20170331HHOB02017-011-03         1   0   1   0\n",
       "5  20170331HHOB02017-011-03         1   0   1   0\n",
       "6  20170331HHOB02017-011-03         1   0   1   0\n",
       "7  20170331HHOB02017-011-04         0   1   1   0\n",
       "8  20170331HHOB02017-011-04         0   1   1   0\n",
       "9  20170331HHOB02017-011-04         0   1   1   0"
      ]
     },
     "execution_count": 70,
     "metadata": {},
     "output_type": "execute_result"
    }
   ],
   "source": [
    "df_model = df.loc[:, ['gid-intot-panum', 'fastball', '1b', '2b', '3b']]\n",
    "\n",
    "df_model.head(10)"
   ]
  },
  {
   "attachments": {},
   "cell_type": "markdown",
   "metadata": {},
   "source": [
    "#### Binary  Features"
   ]
  },
  {
   "cell_type": "code",
   "execution_count": 71,
   "metadata": {
    "id": "fGcaJ8bIO1dF"
   },
   "outputs": [
    {
     "data": {
      "text/html": [
       "<div>\n",
       "<style scoped>\n",
       "    .dataframe tbody tr th:only-of-type {\n",
       "        vertical-align: middle;\n",
       "    }\n",
       "\n",
       "    .dataframe tbody tr th {\n",
       "        vertical-align: top;\n",
       "    }\n",
       "\n",
       "    .dataframe thead th {\n",
       "        text-align: right;\n",
       "    }\n",
       "</style>\n",
       "<table border=\"1\" class=\"dataframe\">\n",
       "  <thead>\n",
       "    <tr style=\"text-align: right;\">\n",
       "      <th></th>\n",
       "      <th>gid-intot-panum</th>\n",
       "      <th>fastball</th>\n",
       "      <th>1b</th>\n",
       "      <th>2b</th>\n",
       "      <th>3b</th>\n",
       "      <th>p_throws_num</th>\n",
       "      <th>stand_num</th>\n",
       "      <th>top_num</th>\n",
       "    </tr>\n",
       "  </thead>\n",
       "  <tbody>\n",
       "    <tr>\n",
       "      <th>0</th>\n",
       "      <td>20170331HHOB02017-011-01</td>\n",
       "      <td>1</td>\n",
       "      <td>0</td>\n",
       "      <td>0</td>\n",
       "      <td>0</td>\n",
       "      <td>1</td>\n",
       "      <td>1</td>\n",
       "      <td>1</td>\n",
       "    </tr>\n",
       "    <tr>\n",
       "      <th>1</th>\n",
       "      <td>20170331HHOB02017-011-02</td>\n",
       "      <td>1</td>\n",
       "      <td>1</td>\n",
       "      <td>0</td>\n",
       "      <td>0</td>\n",
       "      <td>1</td>\n",
       "      <td>0</td>\n",
       "      <td>1</td>\n",
       "    </tr>\n",
       "    <tr>\n",
       "      <th>2</th>\n",
       "      <td>20170331HHOB02017-011-03</td>\n",
       "      <td>1</td>\n",
       "      <td>0</td>\n",
       "      <td>1</td>\n",
       "      <td>0</td>\n",
       "      <td>1</td>\n",
       "      <td>1</td>\n",
       "      <td>1</td>\n",
       "    </tr>\n",
       "    <tr>\n",
       "      <th>3</th>\n",
       "      <td>20170331HHOB02017-011-03</td>\n",
       "      <td>1</td>\n",
       "      <td>0</td>\n",
       "      <td>1</td>\n",
       "      <td>0</td>\n",
       "      <td>1</td>\n",
       "      <td>1</td>\n",
       "      <td>1</td>\n",
       "    </tr>\n",
       "    <tr>\n",
       "      <th>4</th>\n",
       "      <td>20170331HHOB02017-011-03</td>\n",
       "      <td>1</td>\n",
       "      <td>0</td>\n",
       "      <td>1</td>\n",
       "      <td>0</td>\n",
       "      <td>1</td>\n",
       "      <td>1</td>\n",
       "      <td>1</td>\n",
       "    </tr>\n",
       "  </tbody>\n",
       "</table>\n",
       "</div>"
      ],
      "text/plain": [
       "            gid-intot-panum  fastball  1b  2b  3b  p_throws_num  stand_num  \\\n",
       "0  20170331HHOB02017-011-01         1   0   0   0             1          1   \n",
       "1  20170331HHOB02017-011-02         1   1   0   0             1          0   \n",
       "2  20170331HHOB02017-011-03         1   0   1   0             1          1   \n",
       "3  20170331HHOB02017-011-03         1   0   1   0             1          1   \n",
       "4  20170331HHOB02017-011-03         1   0   1   0             1          1   \n",
       "\n",
       "   top_num  \n",
       "0        1  \n",
       "1        1  \n",
       "2        1  \n",
       "3        1  \n",
       "4        1  "
      ]
     },
     "execution_count": 71,
     "metadata": {},
     "output_type": "execute_result"
    }
   ],
   "source": [
    "df_model['p_throws_num'] = np.where(df.loc[:, 'throws'] == '우', 1, 0)\n",
    "df_model['stand_num'] = np.where(df.loc[:, 'stands'] == '우', 1, 0)\n",
    "df_model['top_num'] = np.where(df.loc[:, 'inning_topbot'] == '초', 1, 0)\n",
    "\n",
    "df_model.head()"
   ]
  },
  {
   "attachments": {},
   "cell_type": "markdown",
   "metadata": {},
   "source": [
    "### Pitch Number"
   ]
  },
  {
   "cell_type": "code",
   "execution_count": 72,
   "metadata": {
    "id": "9Z9NtBF-PAqt"
   },
   "outputs": [
    {
     "data": {
      "text/html": [
       "<div>\n",
       "<style scoped>\n",
       "    .dataframe tbody tr th:only-of-type {\n",
       "        vertical-align: middle;\n",
       "    }\n",
       "\n",
       "    .dataframe tbody tr th {\n",
       "        vertical-align: top;\n",
       "    }\n",
       "\n",
       "    .dataframe thead th {\n",
       "        text-align: right;\n",
       "    }\n",
       "</style>\n",
       "<table border=\"1\" class=\"dataframe\">\n",
       "  <thead>\n",
       "    <tr style=\"text-align: right;\">\n",
       "      <th></th>\n",
       "      <th>gid-intot-panum</th>\n",
       "      <th>fastball</th>\n",
       "      <th>1b</th>\n",
       "      <th>2b</th>\n",
       "      <th>3b</th>\n",
       "      <th>p_throws_num</th>\n",
       "      <th>stand_num</th>\n",
       "      <th>top_num</th>\n",
       "      <th>pitch_number_2</th>\n",
       "      <th>pitch_number_3</th>\n",
       "      <th>pitch_number_4</th>\n",
       "      <th>pitch_number_5</th>\n",
       "      <th>pitch_number_6</th>\n",
       "      <th>pitch_number_7</th>\n",
       "      <th>pitch_number_8</th>\n",
       "      <th>pitch_number_9</th>\n",
       "      <th>pitch_number_10</th>\n",
       "    </tr>\n",
       "  </thead>\n",
       "  <tbody>\n",
       "    <tr>\n",
       "      <th>0</th>\n",
       "      <td>20170331HHOB02017-011-01</td>\n",
       "      <td>1</td>\n",
       "      <td>0</td>\n",
       "      <td>0</td>\n",
       "      <td>0</td>\n",
       "      <td>1</td>\n",
       "      <td>1</td>\n",
       "      <td>1</td>\n",
       "      <td>0</td>\n",
       "      <td>0</td>\n",
       "      <td>0</td>\n",
       "      <td>0</td>\n",
       "      <td>0</td>\n",
       "      <td>0</td>\n",
       "      <td>0</td>\n",
       "      <td>0</td>\n",
       "      <td>0</td>\n",
       "    </tr>\n",
       "    <tr>\n",
       "      <th>1</th>\n",
       "      <td>20170331HHOB02017-011-02</td>\n",
       "      <td>1</td>\n",
       "      <td>1</td>\n",
       "      <td>0</td>\n",
       "      <td>0</td>\n",
       "      <td>1</td>\n",
       "      <td>0</td>\n",
       "      <td>1</td>\n",
       "      <td>0</td>\n",
       "      <td>0</td>\n",
       "      <td>0</td>\n",
       "      <td>0</td>\n",
       "      <td>0</td>\n",
       "      <td>0</td>\n",
       "      <td>0</td>\n",
       "      <td>0</td>\n",
       "      <td>0</td>\n",
       "    </tr>\n",
       "    <tr>\n",
       "      <th>2</th>\n",
       "      <td>20170331HHOB02017-011-03</td>\n",
       "      <td>1</td>\n",
       "      <td>0</td>\n",
       "      <td>1</td>\n",
       "      <td>0</td>\n",
       "      <td>1</td>\n",
       "      <td>1</td>\n",
       "      <td>1</td>\n",
       "      <td>0</td>\n",
       "      <td>0</td>\n",
       "      <td>0</td>\n",
       "      <td>0</td>\n",
       "      <td>0</td>\n",
       "      <td>0</td>\n",
       "      <td>0</td>\n",
       "      <td>0</td>\n",
       "      <td>0</td>\n",
       "    </tr>\n",
       "    <tr>\n",
       "      <th>3</th>\n",
       "      <td>20170331HHOB02017-011-03</td>\n",
       "      <td>1</td>\n",
       "      <td>0</td>\n",
       "      <td>1</td>\n",
       "      <td>0</td>\n",
       "      <td>1</td>\n",
       "      <td>1</td>\n",
       "      <td>1</td>\n",
       "      <td>1</td>\n",
       "      <td>0</td>\n",
       "      <td>0</td>\n",
       "      <td>0</td>\n",
       "      <td>0</td>\n",
       "      <td>0</td>\n",
       "      <td>0</td>\n",
       "      <td>0</td>\n",
       "      <td>0</td>\n",
       "    </tr>\n",
       "    <tr>\n",
       "      <th>4</th>\n",
       "      <td>20170331HHOB02017-011-03</td>\n",
       "      <td>1</td>\n",
       "      <td>0</td>\n",
       "      <td>1</td>\n",
       "      <td>0</td>\n",
       "      <td>1</td>\n",
       "      <td>1</td>\n",
       "      <td>1</td>\n",
       "      <td>0</td>\n",
       "      <td>1</td>\n",
       "      <td>0</td>\n",
       "      <td>0</td>\n",
       "      <td>0</td>\n",
       "      <td>0</td>\n",
       "      <td>0</td>\n",
       "      <td>0</td>\n",
       "      <td>0</td>\n",
       "    </tr>\n",
       "    <tr>\n",
       "      <th>5</th>\n",
       "      <td>20170331HHOB02017-011-03</td>\n",
       "      <td>1</td>\n",
       "      <td>0</td>\n",
       "      <td>1</td>\n",
       "      <td>0</td>\n",
       "      <td>1</td>\n",
       "      <td>1</td>\n",
       "      <td>1</td>\n",
       "      <td>0</td>\n",
       "      <td>0</td>\n",
       "      <td>1</td>\n",
       "      <td>0</td>\n",
       "      <td>0</td>\n",
       "      <td>0</td>\n",
       "      <td>0</td>\n",
       "      <td>0</td>\n",
       "      <td>0</td>\n",
       "    </tr>\n",
       "    <tr>\n",
       "      <th>6</th>\n",
       "      <td>20170331HHOB02017-011-03</td>\n",
       "      <td>1</td>\n",
       "      <td>0</td>\n",
       "      <td>1</td>\n",
       "      <td>0</td>\n",
       "      <td>1</td>\n",
       "      <td>1</td>\n",
       "      <td>1</td>\n",
       "      <td>0</td>\n",
       "      <td>0</td>\n",
       "      <td>0</td>\n",
       "      <td>1</td>\n",
       "      <td>0</td>\n",
       "      <td>0</td>\n",
       "      <td>0</td>\n",
       "      <td>0</td>\n",
       "      <td>0</td>\n",
       "    </tr>\n",
       "    <tr>\n",
       "      <th>7</th>\n",
       "      <td>20170331HHOB02017-011-04</td>\n",
       "      <td>0</td>\n",
       "      <td>1</td>\n",
       "      <td>1</td>\n",
       "      <td>0</td>\n",
       "      <td>1</td>\n",
       "      <td>1</td>\n",
       "      <td>1</td>\n",
       "      <td>0</td>\n",
       "      <td>0</td>\n",
       "      <td>0</td>\n",
       "      <td>0</td>\n",
       "      <td>0</td>\n",
       "      <td>0</td>\n",
       "      <td>0</td>\n",
       "      <td>0</td>\n",
       "      <td>0</td>\n",
       "    </tr>\n",
       "    <tr>\n",
       "      <th>8</th>\n",
       "      <td>20170331HHOB02017-011-04</td>\n",
       "      <td>0</td>\n",
       "      <td>1</td>\n",
       "      <td>1</td>\n",
       "      <td>0</td>\n",
       "      <td>1</td>\n",
       "      <td>1</td>\n",
       "      <td>1</td>\n",
       "      <td>1</td>\n",
       "      <td>0</td>\n",
       "      <td>0</td>\n",
       "      <td>0</td>\n",
       "      <td>0</td>\n",
       "      <td>0</td>\n",
       "      <td>0</td>\n",
       "      <td>0</td>\n",
       "      <td>0</td>\n",
       "    </tr>\n",
       "    <tr>\n",
       "      <th>9</th>\n",
       "      <td>20170331HHOB02017-011-04</td>\n",
       "      <td>0</td>\n",
       "      <td>1</td>\n",
       "      <td>1</td>\n",
       "      <td>0</td>\n",
       "      <td>1</td>\n",
       "      <td>1</td>\n",
       "      <td>1</td>\n",
       "      <td>0</td>\n",
       "      <td>1</td>\n",
       "      <td>0</td>\n",
       "      <td>0</td>\n",
       "      <td>0</td>\n",
       "      <td>0</td>\n",
       "      <td>0</td>\n",
       "      <td>0</td>\n",
       "      <td>0</td>\n",
       "    </tr>\n",
       "  </tbody>\n",
       "</table>\n",
       "</div>"
      ],
      "text/plain": [
       "            gid-intot-panum  fastball  1b  2b  3b  p_throws_num  stand_num  \\\n",
       "0  20170331HHOB02017-011-01         1   0   0   0             1          1   \n",
       "1  20170331HHOB02017-011-02         1   1   0   0             1          0   \n",
       "2  20170331HHOB02017-011-03         1   0   1   0             1          1   \n",
       "3  20170331HHOB02017-011-03         1   0   1   0             1          1   \n",
       "4  20170331HHOB02017-011-03         1   0   1   0             1          1   \n",
       "5  20170331HHOB02017-011-03         1   0   1   0             1          1   \n",
       "6  20170331HHOB02017-011-03         1   0   1   0             1          1   \n",
       "7  20170331HHOB02017-011-04         0   1   1   0             1          1   \n",
       "8  20170331HHOB02017-011-04         0   1   1   0             1          1   \n",
       "9  20170331HHOB02017-011-04         0   1   1   0             1          1   \n",
       "\n",
       "   top_num  pitch_number_2  pitch_number_3  pitch_number_4  pitch_number_5  \\\n",
       "0        1               0               0               0               0   \n",
       "1        1               0               0               0               0   \n",
       "2        1               0               0               0               0   \n",
       "3        1               1               0               0               0   \n",
       "4        1               0               1               0               0   \n",
       "5        1               0               0               1               0   \n",
       "6        1               0               0               0               1   \n",
       "7        1               0               0               0               0   \n",
       "8        1               1               0               0               0   \n",
       "9        1               0               1               0               0   \n",
       "\n",
       "   pitch_number_6  pitch_number_7  pitch_number_8  pitch_number_9  \\\n",
       "0               0               0               0               0   \n",
       "1               0               0               0               0   \n",
       "2               0               0               0               0   \n",
       "3               0               0               0               0   \n",
       "4               0               0               0               0   \n",
       "5               0               0               0               0   \n",
       "6               0               0               0               0   \n",
       "7               0               0               0               0   \n",
       "8               0               0               0               0   \n",
       "9               0               0               0               0   \n",
       "\n",
       "   pitch_number_10  \n",
       "0                0  \n",
       "1                0  \n",
       "2                0  \n",
       "3                0  \n",
       "4                0  \n",
       "5                0  \n",
       "6                0  \n",
       "7                0  \n",
       "8                0  \n",
       "9                0  "
      ]
     },
     "execution_count": 72,
     "metadata": {},
     "output_type": "execute_result"
    }
   ],
   "source": [
    "df['pitch_number'] = df['pitch_number'].replace([11, 12, 13, 14, 15, 16, 17, 18, 19, 20, 21], 10)\n",
    "df_dummies = pd.get_dummies(df['pitch_number'], prefix='pitch_number', drop_first=True)\n",
    "df_model = pd.concat([df_model, df_dummies], axis=1)\n",
    "df_model.head(10)"
   ]
  },
  {
   "cell_type": "markdown",
   "metadata": {},
   "source": [
    "#### Batting Count - Balls\n",
    "The values in this column should range from 0-3, but we have a few values of 4. I will convert those to 3."
   ]
  },
  {
   "cell_type": "code",
   "execution_count": 73,
   "metadata": {
    "id": "tEgZrBt8PU--",
    "scrolled": true
   },
   "outputs": [
    {
     "data": {
      "text/plain": [
       "0    580229\n",
       "1    395719\n",
       "2    224231\n",
       "3    108365\n",
       "Name: b, dtype: int64"
      ]
     },
     "execution_count": 73,
     "metadata": {},
     "output_type": "execute_result"
    }
   ],
   "source": [
    "df['b'].value_counts()"
   ]
  },
  {
   "cell_type": "code",
   "execution_count": 74,
   "metadata": {
    "id": "4jHWf07KPZJl"
   },
   "outputs": [
    {
     "data": {
      "text/html": [
       "<div>\n",
       "<style scoped>\n",
       "    .dataframe tbody tr th:only-of-type {\n",
       "        vertical-align: middle;\n",
       "    }\n",
       "\n",
       "    .dataframe tbody tr th {\n",
       "        vertical-align: top;\n",
       "    }\n",
       "\n",
       "    .dataframe thead th {\n",
       "        text-align: right;\n",
       "    }\n",
       "</style>\n",
       "<table border=\"1\" class=\"dataframe\">\n",
       "  <thead>\n",
       "    <tr style=\"text-align: right;\">\n",
       "      <th></th>\n",
       "      <th>gid-intot-panum</th>\n",
       "      <th>fastball</th>\n",
       "      <th>1b</th>\n",
       "      <th>2b</th>\n",
       "      <th>3b</th>\n",
       "      <th>p_throws_num</th>\n",
       "      <th>stand_num</th>\n",
       "      <th>top_num</th>\n",
       "      <th>pitch_number_2</th>\n",
       "      <th>pitch_number_3</th>\n",
       "      <th>pitch_number_4</th>\n",
       "      <th>pitch_number_5</th>\n",
       "      <th>pitch_number_6</th>\n",
       "      <th>pitch_number_7</th>\n",
       "      <th>pitch_number_8</th>\n",
       "      <th>pitch_number_9</th>\n",
       "      <th>pitch_number_10</th>\n",
       "      <th>b_1</th>\n",
       "      <th>b_2</th>\n",
       "      <th>b_3</th>\n",
       "    </tr>\n",
       "  </thead>\n",
       "  <tbody>\n",
       "    <tr>\n",
       "      <th>0</th>\n",
       "      <td>20170331HHOB02017-011-01</td>\n",
       "      <td>1</td>\n",
       "      <td>0</td>\n",
       "      <td>0</td>\n",
       "      <td>0</td>\n",
       "      <td>1</td>\n",
       "      <td>1</td>\n",
       "      <td>1</td>\n",
       "      <td>0</td>\n",
       "      <td>0</td>\n",
       "      <td>0</td>\n",
       "      <td>0</td>\n",
       "      <td>0</td>\n",
       "      <td>0</td>\n",
       "      <td>0</td>\n",
       "      <td>0</td>\n",
       "      <td>0</td>\n",
       "      <td>0</td>\n",
       "      <td>0</td>\n",
       "      <td>0</td>\n",
       "    </tr>\n",
       "    <tr>\n",
       "      <th>1</th>\n",
       "      <td>20170331HHOB02017-011-02</td>\n",
       "      <td>1</td>\n",
       "      <td>1</td>\n",
       "      <td>0</td>\n",
       "      <td>0</td>\n",
       "      <td>1</td>\n",
       "      <td>0</td>\n",
       "      <td>1</td>\n",
       "      <td>0</td>\n",
       "      <td>0</td>\n",
       "      <td>0</td>\n",
       "      <td>0</td>\n",
       "      <td>0</td>\n",
       "      <td>0</td>\n",
       "      <td>0</td>\n",
       "      <td>0</td>\n",
       "      <td>0</td>\n",
       "      <td>0</td>\n",
       "      <td>0</td>\n",
       "      <td>0</td>\n",
       "    </tr>\n",
       "    <tr>\n",
       "      <th>2</th>\n",
       "      <td>20170331HHOB02017-011-03</td>\n",
       "      <td>1</td>\n",
       "      <td>0</td>\n",
       "      <td>1</td>\n",
       "      <td>0</td>\n",
       "      <td>1</td>\n",
       "      <td>1</td>\n",
       "      <td>1</td>\n",
       "      <td>0</td>\n",
       "      <td>0</td>\n",
       "      <td>0</td>\n",
       "      <td>0</td>\n",
       "      <td>0</td>\n",
       "      <td>0</td>\n",
       "      <td>0</td>\n",
       "      <td>0</td>\n",
       "      <td>0</td>\n",
       "      <td>0</td>\n",
       "      <td>0</td>\n",
       "      <td>0</td>\n",
       "    </tr>\n",
       "    <tr>\n",
       "      <th>3</th>\n",
       "      <td>20170331HHOB02017-011-03</td>\n",
       "      <td>1</td>\n",
       "      <td>0</td>\n",
       "      <td>1</td>\n",
       "      <td>0</td>\n",
       "      <td>1</td>\n",
       "      <td>1</td>\n",
       "      <td>1</td>\n",
       "      <td>1</td>\n",
       "      <td>0</td>\n",
       "      <td>0</td>\n",
       "      <td>0</td>\n",
       "      <td>0</td>\n",
       "      <td>0</td>\n",
       "      <td>0</td>\n",
       "      <td>0</td>\n",
       "      <td>0</td>\n",
       "      <td>1</td>\n",
       "      <td>0</td>\n",
       "      <td>0</td>\n",
       "    </tr>\n",
       "    <tr>\n",
       "      <th>4</th>\n",
       "      <td>20170331HHOB02017-011-03</td>\n",
       "      <td>1</td>\n",
       "      <td>0</td>\n",
       "      <td>1</td>\n",
       "      <td>0</td>\n",
       "      <td>1</td>\n",
       "      <td>1</td>\n",
       "      <td>1</td>\n",
       "      <td>0</td>\n",
       "      <td>1</td>\n",
       "      <td>0</td>\n",
       "      <td>0</td>\n",
       "      <td>0</td>\n",
       "      <td>0</td>\n",
       "      <td>0</td>\n",
       "      <td>0</td>\n",
       "      <td>0</td>\n",
       "      <td>0</td>\n",
       "      <td>1</td>\n",
       "      <td>0</td>\n",
       "    </tr>\n",
       "    <tr>\n",
       "      <th>5</th>\n",
       "      <td>20170331HHOB02017-011-03</td>\n",
       "      <td>1</td>\n",
       "      <td>0</td>\n",
       "      <td>1</td>\n",
       "      <td>0</td>\n",
       "      <td>1</td>\n",
       "      <td>1</td>\n",
       "      <td>1</td>\n",
       "      <td>0</td>\n",
       "      <td>0</td>\n",
       "      <td>1</td>\n",
       "      <td>0</td>\n",
       "      <td>0</td>\n",
       "      <td>0</td>\n",
       "      <td>0</td>\n",
       "      <td>0</td>\n",
       "      <td>0</td>\n",
       "      <td>0</td>\n",
       "      <td>1</td>\n",
       "      <td>0</td>\n",
       "    </tr>\n",
       "    <tr>\n",
       "      <th>6</th>\n",
       "      <td>20170331HHOB02017-011-03</td>\n",
       "      <td>1</td>\n",
       "      <td>0</td>\n",
       "      <td>1</td>\n",
       "      <td>0</td>\n",
       "      <td>1</td>\n",
       "      <td>1</td>\n",
       "      <td>1</td>\n",
       "      <td>0</td>\n",
       "      <td>0</td>\n",
       "      <td>0</td>\n",
       "      <td>1</td>\n",
       "      <td>0</td>\n",
       "      <td>0</td>\n",
       "      <td>0</td>\n",
       "      <td>0</td>\n",
       "      <td>0</td>\n",
       "      <td>0</td>\n",
       "      <td>0</td>\n",
       "      <td>1</td>\n",
       "    </tr>\n",
       "    <tr>\n",
       "      <th>7</th>\n",
       "      <td>20170331HHOB02017-011-04</td>\n",
       "      <td>0</td>\n",
       "      <td>1</td>\n",
       "      <td>1</td>\n",
       "      <td>0</td>\n",
       "      <td>1</td>\n",
       "      <td>1</td>\n",
       "      <td>1</td>\n",
       "      <td>0</td>\n",
       "      <td>0</td>\n",
       "      <td>0</td>\n",
       "      <td>0</td>\n",
       "      <td>0</td>\n",
       "      <td>0</td>\n",
       "      <td>0</td>\n",
       "      <td>0</td>\n",
       "      <td>0</td>\n",
       "      <td>0</td>\n",
       "      <td>0</td>\n",
       "      <td>0</td>\n",
       "    </tr>\n",
       "    <tr>\n",
       "      <th>8</th>\n",
       "      <td>20170331HHOB02017-011-04</td>\n",
       "      <td>0</td>\n",
       "      <td>1</td>\n",
       "      <td>1</td>\n",
       "      <td>0</td>\n",
       "      <td>1</td>\n",
       "      <td>1</td>\n",
       "      <td>1</td>\n",
       "      <td>1</td>\n",
       "      <td>0</td>\n",
       "      <td>0</td>\n",
       "      <td>0</td>\n",
       "      <td>0</td>\n",
       "      <td>0</td>\n",
       "      <td>0</td>\n",
       "      <td>0</td>\n",
       "      <td>0</td>\n",
       "      <td>0</td>\n",
       "      <td>0</td>\n",
       "      <td>0</td>\n",
       "    </tr>\n",
       "    <tr>\n",
       "      <th>9</th>\n",
       "      <td>20170331HHOB02017-011-04</td>\n",
       "      <td>0</td>\n",
       "      <td>1</td>\n",
       "      <td>1</td>\n",
       "      <td>0</td>\n",
       "      <td>1</td>\n",
       "      <td>1</td>\n",
       "      <td>1</td>\n",
       "      <td>0</td>\n",
       "      <td>1</td>\n",
       "      <td>0</td>\n",
       "      <td>0</td>\n",
       "      <td>0</td>\n",
       "      <td>0</td>\n",
       "      <td>0</td>\n",
       "      <td>0</td>\n",
       "      <td>0</td>\n",
       "      <td>0</td>\n",
       "      <td>0</td>\n",
       "      <td>0</td>\n",
       "    </tr>\n",
       "  </tbody>\n",
       "</table>\n",
       "</div>"
      ],
      "text/plain": [
       "            gid-intot-panum  fastball  1b  2b  3b  p_throws_num  stand_num  \\\n",
       "0  20170331HHOB02017-011-01         1   0   0   0             1          1   \n",
       "1  20170331HHOB02017-011-02         1   1   0   0             1          0   \n",
       "2  20170331HHOB02017-011-03         1   0   1   0             1          1   \n",
       "3  20170331HHOB02017-011-03         1   0   1   0             1          1   \n",
       "4  20170331HHOB02017-011-03         1   0   1   0             1          1   \n",
       "5  20170331HHOB02017-011-03         1   0   1   0             1          1   \n",
       "6  20170331HHOB02017-011-03         1   0   1   0             1          1   \n",
       "7  20170331HHOB02017-011-04         0   1   1   0             1          1   \n",
       "8  20170331HHOB02017-011-04         0   1   1   0             1          1   \n",
       "9  20170331HHOB02017-011-04         0   1   1   0             1          1   \n",
       "\n",
       "   top_num  pitch_number_2  pitch_number_3  pitch_number_4  pitch_number_5  \\\n",
       "0        1               0               0               0               0   \n",
       "1        1               0               0               0               0   \n",
       "2        1               0               0               0               0   \n",
       "3        1               1               0               0               0   \n",
       "4        1               0               1               0               0   \n",
       "5        1               0               0               1               0   \n",
       "6        1               0               0               0               1   \n",
       "7        1               0               0               0               0   \n",
       "8        1               1               0               0               0   \n",
       "9        1               0               1               0               0   \n",
       "\n",
       "   pitch_number_6  pitch_number_7  pitch_number_8  pitch_number_9  \\\n",
       "0               0               0               0               0   \n",
       "1               0               0               0               0   \n",
       "2               0               0               0               0   \n",
       "3               0               0               0               0   \n",
       "4               0               0               0               0   \n",
       "5               0               0               0               0   \n",
       "6               0               0               0               0   \n",
       "7               0               0               0               0   \n",
       "8               0               0               0               0   \n",
       "9               0               0               0               0   \n",
       "\n",
       "   pitch_number_10  b_1  b_2  b_3  \n",
       "0                0    0    0    0  \n",
       "1                0    0    0    0  \n",
       "2                0    0    0    0  \n",
       "3                0    1    0    0  \n",
       "4                0    0    1    0  \n",
       "5                0    0    1    0  \n",
       "6                0    0    0    1  \n",
       "7                0    0    0    0  \n",
       "8                0    0    0    0  \n",
       "9                0    0    0    0  "
      ]
     },
     "execution_count": 74,
     "metadata": {},
     "output_type": "execute_result"
    }
   ],
   "source": [
    "df['b'] = df['b'].replace(4, 3)\n",
    "df_dummies = pd.get_dummies(df['b'], prefix='b', drop_first=True)\n",
    "df_model = pd.concat([df_model, df_dummies], axis=1)\n",
    "df_model.head(10)"
   ]
  },
  {
   "cell_type": "markdown",
   "metadata": {},
   "source": [
    "#### Batting Count - Strikes and Outs\n",
    "Both of these features need no manipluation. Add them to the model dataframe."
   ]
  },
  {
   "cell_type": "code",
   "execution_count": 75,
   "metadata": {
    "id": "A9tsbww0Ps3A"
   },
   "outputs": [],
   "source": [
    "# Create the dummy variables\n",
    "df_dummies = pd.get_dummies(df['s'], prefix='s', drop_first=True)\n",
    "\n",
    "# Add the dummy variables to the model dataframe\n",
    "df_model = pd.concat([df_model, df_dummies], axis=1)"
   ]
  },
  {
   "cell_type": "code",
   "execution_count": 76,
   "metadata": {
    "id": "QjkQdMrEP5ci"
   },
   "outputs": [],
   "source": [
    "df_dummies = pd.get_dummies(df['o'], prefix='o', drop_first=True)\n",
    "df_model = pd.concat([df_model, df_dummies], axis=1)"
   ]
  },
  {
   "cell_type": "markdown",
   "metadata": {},
   "source": [
    "#### Inning\n",
    "Similar to the at-bat pitch count, the inning variable has a few outliers for games that went deep into extra innings. \n",
    "For the purpose of analysis, I will group all extra inning games together and add them to the model dataframe."
   ]
  },
  {
   "cell_type": "code",
   "execution_count": 77,
   "metadata": {
    "id": "Srcr8f9lP7Yz",
    "scrolled": true
   },
   "outputs": [
    {
     "data": {
      "text/plain": [
       "1     153534\n",
       "8     148437\n",
       "7     148407\n",
       "6     146567\n",
       "3     146103\n",
       "4     145793\n",
       "5     145105\n",
       "2     145049\n",
       "9     111441\n",
       "10     18108\n",
       "Name: inning, dtype: int64"
      ]
     },
     "execution_count": 77,
     "metadata": {},
     "output_type": "execute_result"
    }
   ],
   "source": [
    "df['inning'].value_counts()"
   ]
  },
  {
   "cell_type": "code",
   "execution_count": 78,
   "metadata": {
    "id": "GrV97oo_P_Qr"
   },
   "outputs": [],
   "source": [
    "# Combine all extra inning games into one column\n",
    "df['inning'] = df['inning'].replace([11, 12, 13, 14, 15, 16, 17, 18, 19], 10)\n",
    "\n",
    "# Create the dummy variables\n",
    "df_dummies = pd.get_dummies(df['inning'], prefix='inning', drop_first=True)\n",
    "\n",
    "# Add the dummy variables to the model dataframe\n",
    "df_model = pd.concat([df_model, df_dummies], axis=1)"
   ]
  },
  {
   "cell_type": "markdown",
   "metadata": {},
   "source": [
    "#### Pitcher Score and Batter Score\n",
    "\n",
    "These two features provide the current score for each team for each pitch. The most efficient way to incorporate this data is to create a new column that provides the difference between the teams' scores. \n",
    "\n",
    "The outlier scores will also be combined into one column for any spread of 10 or more runs. "
   ]
  },
  {
   "cell_type": "code",
   "execution_count": 79,
   "metadata": {
    "id": "LTQWI2SNQMV9"
   },
   "outputs": [],
   "source": [
    "# Create the new difference in score column\n",
    "df['pitcher_lead'] = df['p_score'] - df['b_score']\n",
    "\n",
    "# Combine the outlier score differences\n",
    "df['pitcher_lead'] = df['pitcher_lead'].replace([11, 12, 13, 14, 15, 16, 17, 18, 19, 20, 21, 23, 24], 10)\n",
    "df['pitcher_lead'] = df['pitcher_lead'].replace([-11, -12, -13, -14, -15, -16, -17, -18, -19, -20, -23, -24], -10)\n",
    "\n",
    "# Create the dummy variables\n",
    "df_dummies = pd.get_dummies(df['pitcher_lead'], prefix='pitcher_lead', drop_first=True)\n",
    "\n",
    "# Add the dummy variables to the model dataframe\n",
    "df_model = pd.concat([df_model, df_dummies], axis=1)"
   ]
  },
  {
   "cell_type": "code",
   "execution_count": 80,
   "metadata": {
    "id": "1DBjJFOoQ3iF"
   },
   "outputs": [
    {
     "data": {
      "text/html": [
       "<div>\n",
       "<style scoped>\n",
       "    .dataframe tbody tr th:only-of-type {\n",
       "        vertical-align: middle;\n",
       "    }\n",
       "\n",
       "    .dataframe tbody tr th {\n",
       "        vertical-align: top;\n",
       "    }\n",
       "\n",
       "    .dataframe thead th {\n",
       "        text-align: right;\n",
       "    }\n",
       "</style>\n",
       "<table border=\"1\" class=\"dataframe\">\n",
       "  <thead>\n",
       "    <tr style=\"text-align: right;\">\n",
       "      <th></th>\n",
       "      <th>gid-intot-panum</th>\n",
       "      <th>fastball</th>\n",
       "      <th>1b</th>\n",
       "      <th>2b</th>\n",
       "      <th>3b</th>\n",
       "      <th>p_throws_num</th>\n",
       "      <th>stand_num</th>\n",
       "      <th>top_num</th>\n",
       "      <th>pitch_number_2</th>\n",
       "      <th>pitch_number_3</th>\n",
       "      <th>...</th>\n",
       "      <th>pitcher_lead_2</th>\n",
       "      <th>pitcher_lead_3</th>\n",
       "      <th>pitcher_lead_4</th>\n",
       "      <th>pitcher_lead_5</th>\n",
       "      <th>pitcher_lead_6</th>\n",
       "      <th>pitcher_lead_7</th>\n",
       "      <th>pitcher_lead_8</th>\n",
       "      <th>pitcher_lead_9</th>\n",
       "      <th>pitcher_lead_10</th>\n",
       "      <th>pitcher_lead_22</th>\n",
       "    </tr>\n",
       "  </thead>\n",
       "  <tbody>\n",
       "    <tr>\n",
       "      <th>0</th>\n",
       "      <td>20170331HHOB02017-011-01</td>\n",
       "      <td>1</td>\n",
       "      <td>0</td>\n",
       "      <td>0</td>\n",
       "      <td>0</td>\n",
       "      <td>1</td>\n",
       "      <td>1</td>\n",
       "      <td>1</td>\n",
       "      <td>0</td>\n",
       "      <td>0</td>\n",
       "      <td>...</td>\n",
       "      <td>0</td>\n",
       "      <td>0</td>\n",
       "      <td>0</td>\n",
       "      <td>0</td>\n",
       "      <td>0</td>\n",
       "      <td>0</td>\n",
       "      <td>0</td>\n",
       "      <td>0</td>\n",
       "      <td>0</td>\n",
       "      <td>0</td>\n",
       "    </tr>\n",
       "    <tr>\n",
       "      <th>1</th>\n",
       "      <td>20170331HHOB02017-011-02</td>\n",
       "      <td>1</td>\n",
       "      <td>1</td>\n",
       "      <td>0</td>\n",
       "      <td>0</td>\n",
       "      <td>1</td>\n",
       "      <td>0</td>\n",
       "      <td>1</td>\n",
       "      <td>0</td>\n",
       "      <td>0</td>\n",
       "      <td>...</td>\n",
       "      <td>0</td>\n",
       "      <td>0</td>\n",
       "      <td>0</td>\n",
       "      <td>0</td>\n",
       "      <td>0</td>\n",
       "      <td>0</td>\n",
       "      <td>0</td>\n",
       "      <td>0</td>\n",
       "      <td>0</td>\n",
       "      <td>0</td>\n",
       "    </tr>\n",
       "    <tr>\n",
       "      <th>2</th>\n",
       "      <td>20170331HHOB02017-011-03</td>\n",
       "      <td>1</td>\n",
       "      <td>0</td>\n",
       "      <td>1</td>\n",
       "      <td>0</td>\n",
       "      <td>1</td>\n",
       "      <td>1</td>\n",
       "      <td>1</td>\n",
       "      <td>0</td>\n",
       "      <td>0</td>\n",
       "      <td>...</td>\n",
       "      <td>0</td>\n",
       "      <td>0</td>\n",
       "      <td>0</td>\n",
       "      <td>0</td>\n",
       "      <td>0</td>\n",
       "      <td>0</td>\n",
       "      <td>0</td>\n",
       "      <td>0</td>\n",
       "      <td>0</td>\n",
       "      <td>0</td>\n",
       "    </tr>\n",
       "    <tr>\n",
       "      <th>3</th>\n",
       "      <td>20170331HHOB02017-011-03</td>\n",
       "      <td>1</td>\n",
       "      <td>0</td>\n",
       "      <td>1</td>\n",
       "      <td>0</td>\n",
       "      <td>1</td>\n",
       "      <td>1</td>\n",
       "      <td>1</td>\n",
       "      <td>1</td>\n",
       "      <td>0</td>\n",
       "      <td>...</td>\n",
       "      <td>0</td>\n",
       "      <td>0</td>\n",
       "      <td>0</td>\n",
       "      <td>0</td>\n",
       "      <td>0</td>\n",
       "      <td>0</td>\n",
       "      <td>0</td>\n",
       "      <td>0</td>\n",
       "      <td>0</td>\n",
       "      <td>0</td>\n",
       "    </tr>\n",
       "    <tr>\n",
       "      <th>4</th>\n",
       "      <td>20170331HHOB02017-011-03</td>\n",
       "      <td>1</td>\n",
       "      <td>0</td>\n",
       "      <td>1</td>\n",
       "      <td>0</td>\n",
       "      <td>1</td>\n",
       "      <td>1</td>\n",
       "      <td>1</td>\n",
       "      <td>0</td>\n",
       "      <td>1</td>\n",
       "      <td>...</td>\n",
       "      <td>0</td>\n",
       "      <td>0</td>\n",
       "      <td>0</td>\n",
       "      <td>0</td>\n",
       "      <td>0</td>\n",
       "      <td>0</td>\n",
       "      <td>0</td>\n",
       "      <td>0</td>\n",
       "      <td>0</td>\n",
       "      <td>0</td>\n",
       "    </tr>\n",
       "    <tr>\n",
       "      <th>5</th>\n",
       "      <td>20170331HHOB02017-011-03</td>\n",
       "      <td>1</td>\n",
       "      <td>0</td>\n",
       "      <td>1</td>\n",
       "      <td>0</td>\n",
       "      <td>1</td>\n",
       "      <td>1</td>\n",
       "      <td>1</td>\n",
       "      <td>0</td>\n",
       "      <td>0</td>\n",
       "      <td>...</td>\n",
       "      <td>0</td>\n",
       "      <td>0</td>\n",
       "      <td>0</td>\n",
       "      <td>0</td>\n",
       "      <td>0</td>\n",
       "      <td>0</td>\n",
       "      <td>0</td>\n",
       "      <td>0</td>\n",
       "      <td>0</td>\n",
       "      <td>0</td>\n",
       "    </tr>\n",
       "    <tr>\n",
       "      <th>6</th>\n",
       "      <td>20170331HHOB02017-011-03</td>\n",
       "      <td>1</td>\n",
       "      <td>0</td>\n",
       "      <td>1</td>\n",
       "      <td>0</td>\n",
       "      <td>1</td>\n",
       "      <td>1</td>\n",
       "      <td>1</td>\n",
       "      <td>0</td>\n",
       "      <td>0</td>\n",
       "      <td>...</td>\n",
       "      <td>0</td>\n",
       "      <td>0</td>\n",
       "      <td>0</td>\n",
       "      <td>0</td>\n",
       "      <td>0</td>\n",
       "      <td>0</td>\n",
       "      <td>0</td>\n",
       "      <td>0</td>\n",
       "      <td>0</td>\n",
       "      <td>0</td>\n",
       "    </tr>\n",
       "    <tr>\n",
       "      <th>7</th>\n",
       "      <td>20170331HHOB02017-011-04</td>\n",
       "      <td>0</td>\n",
       "      <td>1</td>\n",
       "      <td>1</td>\n",
       "      <td>0</td>\n",
       "      <td>1</td>\n",
       "      <td>1</td>\n",
       "      <td>1</td>\n",
       "      <td>0</td>\n",
       "      <td>0</td>\n",
       "      <td>...</td>\n",
       "      <td>0</td>\n",
       "      <td>0</td>\n",
       "      <td>0</td>\n",
       "      <td>0</td>\n",
       "      <td>0</td>\n",
       "      <td>0</td>\n",
       "      <td>0</td>\n",
       "      <td>0</td>\n",
       "      <td>0</td>\n",
       "      <td>0</td>\n",
       "    </tr>\n",
       "    <tr>\n",
       "      <th>8</th>\n",
       "      <td>20170331HHOB02017-011-04</td>\n",
       "      <td>0</td>\n",
       "      <td>1</td>\n",
       "      <td>1</td>\n",
       "      <td>0</td>\n",
       "      <td>1</td>\n",
       "      <td>1</td>\n",
       "      <td>1</td>\n",
       "      <td>1</td>\n",
       "      <td>0</td>\n",
       "      <td>...</td>\n",
       "      <td>0</td>\n",
       "      <td>0</td>\n",
       "      <td>0</td>\n",
       "      <td>0</td>\n",
       "      <td>0</td>\n",
       "      <td>0</td>\n",
       "      <td>0</td>\n",
       "      <td>0</td>\n",
       "      <td>0</td>\n",
       "      <td>0</td>\n",
       "    </tr>\n",
       "    <tr>\n",
       "      <th>9</th>\n",
       "      <td>20170331HHOB02017-011-04</td>\n",
       "      <td>0</td>\n",
       "      <td>1</td>\n",
       "      <td>1</td>\n",
       "      <td>0</td>\n",
       "      <td>1</td>\n",
       "      <td>1</td>\n",
       "      <td>1</td>\n",
       "      <td>0</td>\n",
       "      <td>1</td>\n",
       "      <td>...</td>\n",
       "      <td>0</td>\n",
       "      <td>0</td>\n",
       "      <td>0</td>\n",
       "      <td>0</td>\n",
       "      <td>0</td>\n",
       "      <td>0</td>\n",
       "      <td>0</td>\n",
       "      <td>0</td>\n",
       "      <td>0</td>\n",
       "      <td>0</td>\n",
       "    </tr>\n",
       "  </tbody>\n",
       "</table>\n",
       "<p>10 rows × 56 columns</p>\n",
       "</div>"
      ],
      "text/plain": [
       "            gid-intot-panum  fastball  1b  2b  3b  p_throws_num  stand_num  \\\n",
       "0  20170331HHOB02017-011-01         1   0   0   0             1          1   \n",
       "1  20170331HHOB02017-011-02         1   1   0   0             1          0   \n",
       "2  20170331HHOB02017-011-03         1   0   1   0             1          1   \n",
       "3  20170331HHOB02017-011-03         1   0   1   0             1          1   \n",
       "4  20170331HHOB02017-011-03         1   0   1   0             1          1   \n",
       "5  20170331HHOB02017-011-03         1   0   1   0             1          1   \n",
       "6  20170331HHOB02017-011-03         1   0   1   0             1          1   \n",
       "7  20170331HHOB02017-011-04         0   1   1   0             1          1   \n",
       "8  20170331HHOB02017-011-04         0   1   1   0             1          1   \n",
       "9  20170331HHOB02017-011-04         0   1   1   0             1          1   \n",
       "\n",
       "   top_num  pitch_number_2  pitch_number_3  ...  pitcher_lead_2  \\\n",
       "0        1               0               0  ...               0   \n",
       "1        1               0               0  ...               0   \n",
       "2        1               0               0  ...               0   \n",
       "3        1               1               0  ...               0   \n",
       "4        1               0               1  ...               0   \n",
       "5        1               0               0  ...               0   \n",
       "6        1               0               0  ...               0   \n",
       "7        1               0               0  ...               0   \n",
       "8        1               1               0  ...               0   \n",
       "9        1               0               1  ...               0   \n",
       "\n",
       "   pitcher_lead_3  pitcher_lead_4  pitcher_lead_5  pitcher_lead_6  \\\n",
       "0               0               0               0               0   \n",
       "1               0               0               0               0   \n",
       "2               0               0               0               0   \n",
       "3               0               0               0               0   \n",
       "4               0               0               0               0   \n",
       "5               0               0               0               0   \n",
       "6               0               0               0               0   \n",
       "7               0               0               0               0   \n",
       "8               0               0               0               0   \n",
       "9               0               0               0               0   \n",
       "\n",
       "   pitcher_lead_7  pitcher_lead_8  pitcher_lead_9  pitcher_lead_10  \\\n",
       "0               0               0               0                0   \n",
       "1               0               0               0                0   \n",
       "2               0               0               0                0   \n",
       "3               0               0               0                0   \n",
       "4               0               0               0                0   \n",
       "5               0               0               0                0   \n",
       "6               0               0               0                0   \n",
       "7               0               0               0                0   \n",
       "8               0               0               0                0   \n",
       "9               0               0               0                0   \n",
       "\n",
       "   pitcher_lead_22  \n",
       "0                0  \n",
       "1                0  \n",
       "2                0  \n",
       "3                0  \n",
       "4                0  \n",
       "5                0  \n",
       "6                0  \n",
       "7                0  \n",
       "8                0  \n",
       "9                0  \n",
       "\n",
       "[10 rows x 56 columns]"
      ]
     },
     "execution_count": 80,
     "metadata": {},
     "output_type": "execute_result"
    }
   ],
   "source": [
    "df_model.head(10)"
   ]
  },
  {
   "cell_type": "code",
   "execution_count": 81,
   "metadata": {
    "id": "hwADjRapQ8dF"
   },
   "outputs": [
    {
     "data": {
      "text/plain": [
       "(1308544, 56)"
      ]
     },
     "execution_count": 81,
     "metadata": {},
     "output_type": "execute_result"
    }
   ],
   "source": [
    "df_model.shape"
   ]
  },
  {
   "cell_type": "markdown",
   "metadata": {},
   "source": [
    "# MODELING"
   ]
  },
  {
   "attachments": {},
   "cell_type": "markdown",
   "metadata": {},
   "source": [
    "### Test Run Model\n",
    "\n",
    "I will use a sample of 400,000 pitches.(30% of 1,308,544)"
   ]
  },
  {
   "cell_type": "code",
   "execution_count": 114,
   "metadata": {},
   "outputs": [],
   "source": [
    "df_model=df_model[~(df_model['gid-intot-panum'].str.contains('2017')|df_model['gid-intot-panum'].str.contains('2018')|df_model['gid-intot-panum'].str.contains('2019'))].reset_index(drop=True)"
   ]
  },
  {
   "cell_type": "code",
   "execution_count": 134,
   "metadata": {},
   "outputs": [],
   "source": [
    "df20=df[~(df['gid-intot-panum'].str.contains('2017')|df['gid-intot-panum'].str.contains('2018')|df['gid-intot-panum'].str.contains('2019'))].reset_index(drop=True)"
   ]
  },
  {
   "cell_type": "code",
   "execution_count": 133,
   "metadata": {
    "id": "2nR4MrXrRJG9"
   },
   "outputs": [
    {
     "data": {
      "text/plain": [
       "Index(['gid-intot-panum', 'fastball', '1b', '2b', '3b', 'p_throws_num',\n",
       "       'stand_num', 'top_num', 'pitch_number_2', 'pitch_number_3',\n",
       "       'pitch_number_4', 'pitch_number_5', 'pitch_number_6', 'pitch_number_7',\n",
       "       'pitch_number_8', 'pitch_number_9', 'pitch_number_10', 'b_1', 'b_2',\n",
       "       'b_3', 's_1', 's_2', 'o_1', 'o_2', 'inning_2', 'inning_3', 'inning_4',\n",
       "       'inning_5', 'inning_6', 'inning_7', 'inning_8', 'inning_9', 'inning_10',\n",
       "       'pitcher_lead_-21', 'pitcher_lead_-10', 'pitcher_lead_-9',\n",
       "       'pitcher_lead_-8', 'pitcher_lead_-7', 'pitcher_lead_-6',\n",
       "       'pitcher_lead_-5', 'pitcher_lead_-4', 'pitcher_lead_-3',\n",
       "       'pitcher_lead_-2', 'pitcher_lead_-1', 'pitcher_lead_0',\n",
       "       'pitcher_lead_1', 'pitcher_lead_2', 'pitcher_lead_3', 'pitcher_lead_4',\n",
       "       'pitcher_lead_5', 'pitcher_lead_6', 'pitcher_lead_7', 'pitcher_lead_8',\n",
       "       'pitcher_lead_9', 'pitcher_lead_10', 'pitcher_lead_22'],\n",
       "      dtype='object')"
      ]
     },
     "execution_count": 133,
     "metadata": {},
     "output_type": "execute_result"
    }
   ],
   "source": [
    "# create the sample dataframe\n",
    "df_sample = df_model.sample(10000, random_state=0)\n",
    "\n",
    "df_sample.columns"
   ]
  },
  {
   "cell_type": "code",
   "execution_count": 119,
   "metadata": {},
   "outputs": [
    {
     "data": {
      "text/plain": [
       "0.520745"
      ]
     },
     "execution_count": 119,
     "metadata": {},
     "output_type": "execute_result"
    }
   ],
   "source": [
    "# verify the fastball/non-fastball split\n",
    "df_sample['fastball'].sum() / len(df_sample)"
   ]
  },
  {
   "cell_type": "code",
   "execution_count": 120,
   "metadata": {
    "id": "u141C_lyRMc5"
   },
   "outputs": [],
   "source": [
    "# split the dataframe\n",
    "X = df_sample.iloc[:, 2:]\n",
    "y = df_sample.iloc[:, 1]\n",
    "\n",
    "# split the data into train and test sets\n",
    "X_train, X_test, y_train, y_test = train_test_split(X, y, random_state=0, stratify=y)"
   ]
  },
  {
   "cell_type": "code",
   "execution_count": 122,
   "metadata": {},
   "outputs": [
    {
     "data": {
      "text/plain": [
       "50000"
      ]
     },
     "execution_count": 122,
     "metadata": {},
     "output_type": "execute_result"
    }
   ],
   "source": [
    "len(X_test)"
   ]
  },
  {
   "cell_type": "markdown",
   "metadata": {},
   "source": [
    "#### Logistic Regression"
   ]
  },
  {
   "cell_type": "code",
   "execution_count": 123,
   "metadata": {
    "id": "HoCz3gF-RUzr"
   },
   "outputs": [
    {
     "name": "stdout",
     "output_type": "stream",
     "text": [
      "Training Set Accuracy: 0.5799933333333334\n",
      "Test Set Accuracy: 0.58092\n"
     ]
    }
   ],
   "source": [
    "lr = LogisticRegression()\n",
    "lr.fit(X_train, y_train)\n",
    "y_pred_lr = lr.predict(X_test)\n",
    "print('Training Set Accuracy: {}'.format(lr.score(X_train, y_train)))\n",
    "print('Test Set Accuracy: {}'.format(lr.score(X_test, y_test)))"
   ]
  },
  {
   "cell_type": "markdown",
   "metadata": {},
   "source": [
    "#### SGDClassifier"
   ]
  },
  {
   "cell_type": "code",
   "execution_count": 124,
   "metadata": {
    "id": "jobugtEkRY_c"
   },
   "outputs": [
    {
     "name": "stdout",
     "output_type": "stream",
     "text": [
      "Training Set Accuracy: 0.5682933333333333\n",
      "Test Set Accuracy: 0.56964\n"
     ]
    }
   ],
   "source": [
    "sgdc = SGDClassifier()\n",
    "sgdc.fit(X_train, y_train)\n",
    "y_pred_sgdc = sgdc.predict(X_test)\n",
    "print('Training Set Accuracy: {}'.format(sgdc.score(X_train, y_train)))\n",
    "print('Test Set Accuracy: {}'.format(sgdc.score(X_test, y_test)))"
   ]
  },
  {
   "cell_type": "markdown",
   "metadata": {},
   "source": [
    "#### Random Forest Classifier"
   ]
  },
  {
   "cell_type": "code",
   "execution_count": 125,
   "metadata": {
    "id": "zLEb1evdRie4"
   },
   "outputs": [
    {
     "name": "stdout",
     "output_type": "stream",
     "text": [
      "Training Set Accuracy: 0.8004133333333333\n",
      "Test Set Accuracy: 0.55218\n"
     ]
    }
   ],
   "source": [
    "rfc = RandomForestClassifier()\n",
    "rfc.fit(X_train, y_train)\n",
    "y_pred_rfc = rfc.predict(X_test)\n",
    "print('Training Set Accuracy: {}'.format(rfc.score(X_train, y_train)))\n",
    "print('Test Set Accuracy: {}'.format(rfc.score(X_test, y_test)))"
   ]
  },
  {
   "cell_type": "markdown",
   "metadata": {},
   "source": [
    "#### Gradient Boosting Classifier"
   ]
  },
  {
   "cell_type": "code",
   "execution_count": 126,
   "metadata": {
    "id": "Gx2c2U6-TzOI"
   },
   "outputs": [
    {
     "name": "stdout",
     "output_type": "stream",
     "text": [
      "Training Set Accuracy: 0.5845733333333333\n",
      "Test Set Accuracy: 0.58402\n"
     ]
    }
   ],
   "source": [
    "gbc = GradientBoostingClassifier()\n",
    "gbc.fit(X_train, y_train)\n",
    "y_pred_gbc = gbc.predict(X_test)\n",
    "print('Training Set Accuracy: {}'.format(gbc.score(X_train, y_train)))\n",
    "print('Test Set Accuracy: {}'.format(gbc.score(X_test, y_test)))"
   ]
  },
  {
   "cell_type": "markdown",
   "metadata": {},
   "source": [
    "### Adding Previous Pitch Features"
   ]
  },
  {
   "attachments": {},
   "cell_type": "markdown",
   "metadata": {},
   "source": [
    "#### Previous Pitch Type/Location"
   ]
  },
  {
   "cell_type": "code",
   "execution_count": 135,
   "metadata": {},
   "outputs": [
    {
     "data": {
      "text/plain": [
       "(658815, 198)"
      ]
     },
     "execution_count": 135,
     "metadata": {},
     "output_type": "execute_result"
    }
   ],
   "source": [
    "df20.shape"
   ]
  },
  {
   "cell_type": "code",
   "execution_count": 136,
   "metadata": {
    "id": "7VhGLD47W1aN"
   },
   "outputs": [
    {
     "data": {
      "text/html": [
       "<div>\n",
       "<style scoped>\n",
       "    .dataframe tbody tr th:only-of-type {\n",
       "        vertical-align: middle;\n",
       "    }\n",
       "\n",
       "    .dataframe tbody tr th {\n",
       "        vertical-align: top;\n",
       "    }\n",
       "\n",
       "    .dataframe thead th {\n",
       "        text-align: right;\n",
       "    }\n",
       "</style>\n",
       "<table border=\"1\" class=\"dataframe\">\n",
       "  <thead>\n",
       "    <tr style=\"text-align: right;\">\n",
       "      <th></th>\n",
       "      <th>pitch_number</th>\n",
       "      <th>pitch_type</th>\n",
       "      <th>px</th>\n",
       "      <th>pz</th>\n",
       "      <th>pitch_type_prev</th>\n",
       "      <th>px_prev</th>\n",
       "      <th>pz_prev</th>\n",
       "    </tr>\n",
       "  </thead>\n",
       "  <tbody>\n",
       "    <tr>\n",
       "      <th>0</th>\n",
       "      <td>1</td>\n",
       "      <td>None</td>\n",
       "      <td>NaN</td>\n",
       "      <td>NaN</td>\n",
       "      <td>0</td>\n",
       "      <td>0</td>\n",
       "      <td>0</td>\n",
       "    </tr>\n",
       "    <tr>\n",
       "      <th>1</th>\n",
       "      <td>2</td>\n",
       "      <td>직구</td>\n",
       "      <td>-0.268</td>\n",
       "      <td>1.629</td>\n",
       "      <td>0</td>\n",
       "      <td>0</td>\n",
       "      <td>0</td>\n",
       "    </tr>\n",
       "    <tr>\n",
       "      <th>2</th>\n",
       "      <td>3</td>\n",
       "      <td>직구</td>\n",
       "      <td>0.259</td>\n",
       "      <td>3.327</td>\n",
       "      <td>0</td>\n",
       "      <td>0</td>\n",
       "      <td>0</td>\n",
       "    </tr>\n",
       "    <tr>\n",
       "      <th>3</th>\n",
       "      <td>4</td>\n",
       "      <td>직구</td>\n",
       "      <td>-1.780</td>\n",
       "      <td>2.522</td>\n",
       "      <td>0</td>\n",
       "      <td>0</td>\n",
       "      <td>0</td>\n",
       "    </tr>\n",
       "    <tr>\n",
       "      <th>4</th>\n",
       "      <td>5</td>\n",
       "      <td>직구</td>\n",
       "      <td>-0.406</td>\n",
       "      <td>3.311</td>\n",
       "      <td>0</td>\n",
       "      <td>0</td>\n",
       "      <td>0</td>\n",
       "    </tr>\n",
       "  </tbody>\n",
       "</table>\n",
       "</div>"
      ],
      "text/plain": [
       "   pitch_number pitch_type     px     pz  pitch_type_prev  px_prev  pz_prev\n",
       "0             1       None    NaN    NaN                0        0        0\n",
       "1             2         직구 -0.268  1.629                0        0        0\n",
       "2             3         직구  0.259  3.327                0        0        0\n",
       "3             4         직구 -1.780  2.522                0        0        0\n",
       "4             5         직구 -0.406  3.311                0        0        0"
      ]
     },
     "execution_count": 136,
     "metadata": {},
     "output_type": "execute_result"
    }
   ],
   "source": [
    "# create a new dataframe to build the new features\n",
    "df_prev_pitch = df20.loc[:9999, ['pitch_number', 'pitch_type', 'px', 'pz']]\n",
    "\n",
    "# shift the pitch_type, px, and pz columns down one row\n",
    "df_prev_pitch['pitch_type'] = df_prev_pitch['pitch_type'].shift(1, axis=0)\n",
    "df_prev_pitch['px'] = df_prev_pitch['px'].shift(1, axis=0)\n",
    "df_prev_pitch['pz'] = df_prev_pitch['pz'].shift(1, axis=0)\n",
    "\n",
    "# add the new feature columns\n",
    "df_prev_pitch['pitch_type_prev'] = 0\n",
    "df_prev_pitch['px_prev'] = 0\n",
    "df_prev_pitch['pz_prev'] = 0\n",
    "\n",
    "df_prev_pitch.head()"
   ]
  },
  {
   "cell_type": "code",
   "execution_count": 131,
   "metadata": {
    "id": "zeVEGFJgYZDc"
   },
   "outputs": [],
   "source": [
    "# build the function\n",
    "def prev_pitch(df):\n",
    "    \n",
    "    for i  in range (10000):\n",
    "            df[['pitch_type_prev', 'px_prev', 'pz_prev']] = df[['pitch_type', 'px', 'pz']].shift(1)\n",
    "    return df"
   ]
  },
  {
   "cell_type": "code",
   "execution_count": 137,
   "metadata": {},
   "outputs": [],
   "source": [
    "# run the function \n",
    "df_prev_pitch = prev_pitch(df_prev_pitch)"
   ]
  },
  {
   "cell_type": "code",
   "execution_count": 138,
   "metadata": {},
   "outputs": [
    {
     "data": {
      "text/plain": [
       "(10000, 7)"
      ]
     },
     "execution_count": 138,
     "metadata": {},
     "output_type": "execute_result"
    }
   ],
   "source": [
    "df_prev_pitch.shape"
   ]
  },
  {
   "cell_type": "code",
   "execution_count": 139,
   "metadata": {
    "id": "BhvWIU1IYi1E"
   },
   "outputs": [
    {
     "data": {
      "text/html": [
       "<div>\n",
       "<style scoped>\n",
       "    .dataframe tbody tr th:only-of-type {\n",
       "        vertical-align: middle;\n",
       "    }\n",
       "\n",
       "    .dataframe tbody tr th {\n",
       "        vertical-align: top;\n",
       "    }\n",
       "\n",
       "    .dataframe thead th {\n",
       "        text-align: right;\n",
       "    }\n",
       "</style>\n",
       "<table border=\"1\" class=\"dataframe\">\n",
       "  <thead>\n",
       "    <tr style=\"text-align: right;\">\n",
       "      <th></th>\n",
       "      <th>gid-intot-panum</th>\n",
       "      <th>fastball</th>\n",
       "      <th>1b</th>\n",
       "      <th>2b</th>\n",
       "      <th>3b</th>\n",
       "      <th>p_throws_num</th>\n",
       "      <th>stand_num</th>\n",
       "      <th>top_num</th>\n",
       "      <th>pitch_number_2</th>\n",
       "      <th>pitch_number_3</th>\n",
       "      <th>...</th>\n",
       "      <th>pitcher_lead_9</th>\n",
       "      <th>pitcher_lead_10</th>\n",
       "      <th>pitcher_lead_22</th>\n",
       "      <th>pitch_number</th>\n",
       "      <th>pitch_type</th>\n",
       "      <th>px</th>\n",
       "      <th>pz</th>\n",
       "      <th>pitch_type_prev</th>\n",
       "      <th>px_prev</th>\n",
       "      <th>pz_prev</th>\n",
       "    </tr>\n",
       "  </thead>\n",
       "  <tbody>\n",
       "    <tr>\n",
       "      <th>0</th>\n",
       "      <td>20210413LTHT02021-011-06</td>\n",
       "      <td>0</td>\n",
       "      <td>1</td>\n",
       "      <td>1</td>\n",
       "      <td>0</td>\n",
       "      <td>1</td>\n",
       "      <td>1</td>\n",
       "      <td>1</td>\n",
       "      <td>0</td>\n",
       "      <td>0</td>\n",
       "      <td>...</td>\n",
       "      <td>0</td>\n",
       "      <td>0</td>\n",
       "      <td>0</td>\n",
       "      <td>1</td>\n",
       "      <td>None</td>\n",
       "      <td>NaN</td>\n",
       "      <td>NaN</td>\n",
       "      <td>None</td>\n",
       "      <td>NaN</td>\n",
       "      <td>NaN</td>\n",
       "    </tr>\n",
       "    <tr>\n",
       "      <th>1</th>\n",
       "      <td>20200916LTWO02020-071-51</td>\n",
       "      <td>1</td>\n",
       "      <td>1</td>\n",
       "      <td>0</td>\n",
       "      <td>0</td>\n",
       "      <td>0</td>\n",
       "      <td>0</td>\n",
       "      <td>1</td>\n",
       "      <td>0</td>\n",
       "      <td>0</td>\n",
       "      <td>...</td>\n",
       "      <td>0</td>\n",
       "      <td>0</td>\n",
       "      <td>0</td>\n",
       "      <td>2</td>\n",
       "      <td>직구</td>\n",
       "      <td>-0.268</td>\n",
       "      <td>1.629</td>\n",
       "      <td>None</td>\n",
       "      <td>NaN</td>\n",
       "      <td>NaN</td>\n",
       "    </tr>\n",
       "    <tr>\n",
       "      <th>2</th>\n",
       "      <td>20210902KTWO02021-051-35</td>\n",
       "      <td>0</td>\n",
       "      <td>0</td>\n",
       "      <td>0</td>\n",
       "      <td>1</td>\n",
       "      <td>1</td>\n",
       "      <td>1</td>\n",
       "      <td>1</td>\n",
       "      <td>0</td>\n",
       "      <td>1</td>\n",
       "      <td>...</td>\n",
       "      <td>0</td>\n",
       "      <td>0</td>\n",
       "      <td>0</td>\n",
       "      <td>3</td>\n",
       "      <td>직구</td>\n",
       "      <td>0.259</td>\n",
       "      <td>3.327</td>\n",
       "      <td>직구</td>\n",
       "      <td>-0.268</td>\n",
       "      <td>1.629</td>\n",
       "    </tr>\n",
       "    <tr>\n",
       "      <th>3</th>\n",
       "      <td>20200526SKOB02020-061-38</td>\n",
       "      <td>1</td>\n",
       "      <td>0</td>\n",
       "      <td>0</td>\n",
       "      <td>0</td>\n",
       "      <td>1</td>\n",
       "      <td>1</td>\n",
       "      <td>1</td>\n",
       "      <td>0</td>\n",
       "      <td>0</td>\n",
       "      <td>...</td>\n",
       "      <td>0</td>\n",
       "      <td>0</td>\n",
       "      <td>0</td>\n",
       "      <td>4</td>\n",
       "      <td>직구</td>\n",
       "      <td>-1.780</td>\n",
       "      <td>2.522</td>\n",
       "      <td>직구</td>\n",
       "      <td>0.259</td>\n",
       "      <td>3.327</td>\n",
       "    </tr>\n",
       "    <tr>\n",
       "      <th>4</th>\n",
       "      <td>20211014SSHT02021-011-01</td>\n",
       "      <td>1</td>\n",
       "      <td>0</td>\n",
       "      <td>0</td>\n",
       "      <td>0</td>\n",
       "      <td>1</td>\n",
       "      <td>0</td>\n",
       "      <td>1</td>\n",
       "      <td>1</td>\n",
       "      <td>0</td>\n",
       "      <td>...</td>\n",
       "      <td>0</td>\n",
       "      <td>0</td>\n",
       "      <td>0</td>\n",
       "      <td>5</td>\n",
       "      <td>직구</td>\n",
       "      <td>-0.406</td>\n",
       "      <td>3.311</td>\n",
       "      <td>직구</td>\n",
       "      <td>-1.780</td>\n",
       "      <td>2.522</td>\n",
       "    </tr>\n",
       "  </tbody>\n",
       "</table>\n",
       "<p>5 rows × 63 columns</p>\n",
       "</div>"
      ],
      "text/plain": [
       "            gid-intot-panum  fastball  1b  2b  3b  p_throws_num  stand_num  \\\n",
       "0  20210413LTHT02021-011-06         0   1   1   0             1          1   \n",
       "1  20200916LTWO02020-071-51         1   1   0   0             0          0   \n",
       "2  20210902KTWO02021-051-35         0   0   0   1             1          1   \n",
       "3  20200526SKOB02020-061-38         1   0   0   0             1          1   \n",
       "4  20211014SSHT02021-011-01         1   0   0   0             1          0   \n",
       "\n",
       "   top_num  pitch_number_2  pitch_number_3  ...  pitcher_lead_9  \\\n",
       "0        1               0               0  ...               0   \n",
       "1        1               0               0  ...               0   \n",
       "2        1               0               1  ...               0   \n",
       "3        1               0               0  ...               0   \n",
       "4        1               1               0  ...               0   \n",
       "\n",
       "   pitcher_lead_10  pitcher_lead_22  pitch_number  pitch_type     px     pz  \\\n",
       "0                0                0             1        None    NaN    NaN   \n",
       "1                0                0             2          직구 -0.268  1.629   \n",
       "2                0                0             3          직구  0.259  3.327   \n",
       "3                0                0             4          직구 -1.780  2.522   \n",
       "4                0                0             5          직구 -0.406  3.311   \n",
       "\n",
       "   pitch_type_prev  px_prev  pz_prev  \n",
       "0             None      NaN      NaN  \n",
       "1             None      NaN      NaN  \n",
       "2               직구   -0.268    1.629  \n",
       "3               직구    0.259    3.327  \n",
       "4               직구   -1.780    2.522  \n",
       "\n",
       "[5 rows x 63 columns]"
      ]
     },
     "execution_count": 139,
     "metadata": {},
     "output_type": "execute_result"
    }
   ],
   "source": [
    "#add new feature to our dataframe \n",
    "df_sample.reset_index(drop=True, inplace=True)\n",
    "df_prev_pitch.reset_index(drop=True, inplace=True)\n",
    "\n",
    "df_sample = pd.concat([df_sample, df_prev_pitch], axis=1)\n",
    "df_sample.head()"
   ]
  },
  {
   "cell_type": "code",
   "execution_count": 140,
   "metadata": {
    "id": "HJgrpQhiYlNv"
   },
   "outputs": [
    {
     "data": {
      "text/html": [
       "<div>\n",
       "<style scoped>\n",
       "    .dataframe tbody tr th:only-of-type {\n",
       "        vertical-align: middle;\n",
       "    }\n",
       "\n",
       "    .dataframe tbody tr th {\n",
       "        vertical-align: top;\n",
       "    }\n",
       "\n",
       "    .dataframe thead th {\n",
       "        text-align: right;\n",
       "    }\n",
       "</style>\n",
       "<table border=\"1\" class=\"dataframe\">\n",
       "  <thead>\n",
       "    <tr style=\"text-align: right;\">\n",
       "      <th></th>\n",
       "      <th>gid-intot-panum</th>\n",
       "      <th>fastball</th>\n",
       "      <th>1b</th>\n",
       "      <th>2b</th>\n",
       "      <th>3b</th>\n",
       "      <th>p_throws_num</th>\n",
       "      <th>stand_num</th>\n",
       "      <th>top_num</th>\n",
       "      <th>pitch_number_2</th>\n",
       "      <th>pitch_number_3</th>\n",
       "      <th>...</th>\n",
       "      <th>pitcher_lead_9</th>\n",
       "      <th>pitcher_lead_10</th>\n",
       "      <th>pitcher_lead_22</th>\n",
       "      <th>pitch_number</th>\n",
       "      <th>pitch_type</th>\n",
       "      <th>px</th>\n",
       "      <th>pz</th>\n",
       "      <th>pitch_type_prev</th>\n",
       "      <th>px_prev</th>\n",
       "      <th>pz_prev</th>\n",
       "    </tr>\n",
       "  </thead>\n",
       "  <tbody>\n",
       "    <tr>\n",
       "      <th>0</th>\n",
       "      <td>20210413LTHT02021-011-06</td>\n",
       "      <td>0</td>\n",
       "      <td>1</td>\n",
       "      <td>1</td>\n",
       "      <td>0</td>\n",
       "      <td>1</td>\n",
       "      <td>1</td>\n",
       "      <td>1</td>\n",
       "      <td>0</td>\n",
       "      <td>0</td>\n",
       "      <td>...</td>\n",
       "      <td>0</td>\n",
       "      <td>0</td>\n",
       "      <td>0</td>\n",
       "      <td>1</td>\n",
       "      <td>None</td>\n",
       "      <td>NaN</td>\n",
       "      <td>NaN</td>\n",
       "      <td>None</td>\n",
       "      <td>NaN</td>\n",
       "      <td>NaN</td>\n",
       "    </tr>\n",
       "    <tr>\n",
       "      <th>1</th>\n",
       "      <td>20200916LTWO02020-071-51</td>\n",
       "      <td>1</td>\n",
       "      <td>1</td>\n",
       "      <td>0</td>\n",
       "      <td>0</td>\n",
       "      <td>0</td>\n",
       "      <td>0</td>\n",
       "      <td>1</td>\n",
       "      <td>0</td>\n",
       "      <td>0</td>\n",
       "      <td>...</td>\n",
       "      <td>0</td>\n",
       "      <td>0</td>\n",
       "      <td>0</td>\n",
       "      <td>2</td>\n",
       "      <td>직구</td>\n",
       "      <td>-0.268</td>\n",
       "      <td>1.629</td>\n",
       "      <td>None</td>\n",
       "      <td>NaN</td>\n",
       "      <td>NaN</td>\n",
       "    </tr>\n",
       "    <tr>\n",
       "      <th>2</th>\n",
       "      <td>20210902KTWO02021-051-35</td>\n",
       "      <td>0</td>\n",
       "      <td>0</td>\n",
       "      <td>0</td>\n",
       "      <td>1</td>\n",
       "      <td>1</td>\n",
       "      <td>1</td>\n",
       "      <td>1</td>\n",
       "      <td>0</td>\n",
       "      <td>1</td>\n",
       "      <td>...</td>\n",
       "      <td>0</td>\n",
       "      <td>0</td>\n",
       "      <td>0</td>\n",
       "      <td>3</td>\n",
       "      <td>직구</td>\n",
       "      <td>0.259</td>\n",
       "      <td>3.327</td>\n",
       "      <td>직구</td>\n",
       "      <td>-0.268</td>\n",
       "      <td>1.629</td>\n",
       "    </tr>\n",
       "    <tr>\n",
       "      <th>3</th>\n",
       "      <td>20200526SKOB02020-061-38</td>\n",
       "      <td>1</td>\n",
       "      <td>0</td>\n",
       "      <td>0</td>\n",
       "      <td>0</td>\n",
       "      <td>1</td>\n",
       "      <td>1</td>\n",
       "      <td>1</td>\n",
       "      <td>0</td>\n",
       "      <td>0</td>\n",
       "      <td>...</td>\n",
       "      <td>0</td>\n",
       "      <td>0</td>\n",
       "      <td>0</td>\n",
       "      <td>4</td>\n",
       "      <td>직구</td>\n",
       "      <td>-1.780</td>\n",
       "      <td>2.522</td>\n",
       "      <td>직구</td>\n",
       "      <td>0.259</td>\n",
       "      <td>3.327</td>\n",
       "    </tr>\n",
       "    <tr>\n",
       "      <th>4</th>\n",
       "      <td>20211014SSHT02021-011-01</td>\n",
       "      <td>1</td>\n",
       "      <td>0</td>\n",
       "      <td>0</td>\n",
       "      <td>0</td>\n",
       "      <td>1</td>\n",
       "      <td>0</td>\n",
       "      <td>1</td>\n",
       "      <td>1</td>\n",
       "      <td>0</td>\n",
       "      <td>...</td>\n",
       "      <td>0</td>\n",
       "      <td>0</td>\n",
       "      <td>0</td>\n",
       "      <td>5</td>\n",
       "      <td>직구</td>\n",
       "      <td>-0.406</td>\n",
       "      <td>3.311</td>\n",
       "      <td>직구</td>\n",
       "      <td>-1.780</td>\n",
       "      <td>2.522</td>\n",
       "    </tr>\n",
       "  </tbody>\n",
       "</table>\n",
       "<p>5 rows × 63 columns</p>\n",
       "</div>"
      ],
      "text/plain": [
       "            gid-intot-panum  fastball  1b  2b  3b  p_throws_num  stand_num  \\\n",
       "0  20210413LTHT02021-011-06         0   1   1   0             1          1   \n",
       "1  20200916LTWO02020-071-51         1   1   0   0             0          0   \n",
       "2  20210902KTWO02021-051-35         0   0   0   1             1          1   \n",
       "3  20200526SKOB02020-061-38         1   0   0   0             1          1   \n",
       "4  20211014SSHT02021-011-01         1   0   0   0             1          0   \n",
       "\n",
       "   top_num  pitch_number_2  pitch_number_3  ...  pitcher_lead_9  \\\n",
       "0        1               0               0  ...               0   \n",
       "1        1               0               0  ...               0   \n",
       "2        1               0               1  ...               0   \n",
       "3        1               0               0  ...               0   \n",
       "4        1               1               0  ...               0   \n",
       "\n",
       "   pitcher_lead_10  pitcher_lead_22  pitch_number  pitch_type     px     pz  \\\n",
       "0                0                0             1        None    NaN    NaN   \n",
       "1                0                0             2          직구 -0.268  1.629   \n",
       "2                0                0             3          직구  0.259  3.327   \n",
       "3                0                0             4          직구 -1.780  2.522   \n",
       "4                0                0             5          직구 -0.406  3.311   \n",
       "\n",
       "   pitch_type_prev  px_prev  pz_prev  \n",
       "0             None      NaN      NaN  \n",
       "1             None      NaN      NaN  \n",
       "2               직구   -0.268    1.629  \n",
       "3               직구    0.259    3.327  \n",
       "4               직구   -1.780    2.522  \n",
       "\n",
       "[5 rows x 63 columns]"
      ]
     },
     "execution_count": 140,
     "metadata": {},
     "output_type": "execute_result"
    }
   ],
   "source": [
    "# replace the missing and zero values with NaNs\n",
    "df_sample['px_prev'] = df_sample['px_prev'].replace(0.000000, np.nan)\n",
    "df_sample['px_prev'] = df_sample['px_prev'].replace(0.006600, np.nan)\n",
    "\n",
    "df_sample.loc[(df_sample['px_prev'] > 4), 'px_prev'] = 4\n",
    "df_sample.loc[(df_sample['px_prev'] < -4), 'px_prev'] = -4\n",
    "\n",
    "df_sample.head()"
   ]
  },
  {
   "cell_type": "code",
   "execution_count": 141,
   "metadata": {},
   "outputs": [
    {
     "name": "stdout",
     "output_type": "stream",
     "text": [
      "['pitch_type', 'px', 'pz', 'pitch_type_prev', 'px_prev', 'pz_prev']\n"
     ]
    }
   ],
   "source": [
    "#check for any NaN values remaining\n",
    "nan_values = df_sample.isna()\n",
    "nan_columns = nan_values.any()\n",
    "\n",
    "columns_with_nan = df_sample.columns[nan_columns].tolist()\n",
    "print(columns_with_nan)"
   ]
  },
  {
   "cell_type": "code",
   "execution_count": 142,
   "metadata": {},
   "outputs": [],
   "source": [
    "#Create dict with values to replace \n",
    "values = {'pitch_type': 'UN', 'px': 0, 'pz': 0, 'pitch_type_prev': 'UN' ,'px_prev': 0, 'pz_prev': 0}\n",
    "df_sample.replace(np.nan, values, inplace = True)"
   ]
  },
  {
   "cell_type": "code",
   "execution_count": 143,
   "metadata": {},
   "outputs": [
    {
     "data": {
      "text/html": [
       "<div>\n",
       "<style scoped>\n",
       "    .dataframe tbody tr th:only-of-type {\n",
       "        vertical-align: middle;\n",
       "    }\n",
       "\n",
       "    .dataframe tbody tr th {\n",
       "        vertical-align: top;\n",
       "    }\n",
       "\n",
       "    .dataframe thead th {\n",
       "        text-align: right;\n",
       "    }\n",
       "</style>\n",
       "<table border=\"1\" class=\"dataframe\">\n",
       "  <thead>\n",
       "    <tr style=\"text-align: right;\">\n",
       "      <th></th>\n",
       "      <th>gid-intot-panum</th>\n",
       "      <th>fastball</th>\n",
       "      <th>1b</th>\n",
       "      <th>2b</th>\n",
       "      <th>3b</th>\n",
       "      <th>p_throws_num</th>\n",
       "      <th>stand_num</th>\n",
       "      <th>top_num</th>\n",
       "      <th>pitch_number_2</th>\n",
       "      <th>pitch_number_3</th>\n",
       "      <th>...</th>\n",
       "      <th>pitcher_lead_9</th>\n",
       "      <th>pitcher_lead_10</th>\n",
       "      <th>pitcher_lead_22</th>\n",
       "      <th>pitch_number</th>\n",
       "      <th>pitch_type</th>\n",
       "      <th>px</th>\n",
       "      <th>pz</th>\n",
       "      <th>pitch_type_prev</th>\n",
       "      <th>px_prev</th>\n",
       "      <th>pz_prev</th>\n",
       "    </tr>\n",
       "  </thead>\n",
       "  <tbody>\n",
       "    <tr>\n",
       "      <th>0</th>\n",
       "      <td>20210413LTHT02021-011-06</td>\n",
       "      <td>0</td>\n",
       "      <td>1</td>\n",
       "      <td>1</td>\n",
       "      <td>0</td>\n",
       "      <td>1</td>\n",
       "      <td>1</td>\n",
       "      <td>1</td>\n",
       "      <td>0</td>\n",
       "      <td>0</td>\n",
       "      <td>...</td>\n",
       "      <td>0</td>\n",
       "      <td>0</td>\n",
       "      <td>0</td>\n",
       "      <td>1</td>\n",
       "      <td>UN</td>\n",
       "      <td>0.000</td>\n",
       "      <td>0.000</td>\n",
       "      <td>UN</td>\n",
       "      <td>0.000</td>\n",
       "      <td>0.000</td>\n",
       "    </tr>\n",
       "    <tr>\n",
       "      <th>1</th>\n",
       "      <td>20200916LTWO02020-071-51</td>\n",
       "      <td>1</td>\n",
       "      <td>1</td>\n",
       "      <td>0</td>\n",
       "      <td>0</td>\n",
       "      <td>0</td>\n",
       "      <td>0</td>\n",
       "      <td>1</td>\n",
       "      <td>0</td>\n",
       "      <td>0</td>\n",
       "      <td>...</td>\n",
       "      <td>0</td>\n",
       "      <td>0</td>\n",
       "      <td>0</td>\n",
       "      <td>2</td>\n",
       "      <td>직구</td>\n",
       "      <td>-0.268</td>\n",
       "      <td>1.629</td>\n",
       "      <td>UN</td>\n",
       "      <td>0.000</td>\n",
       "      <td>0.000</td>\n",
       "    </tr>\n",
       "    <tr>\n",
       "      <th>2</th>\n",
       "      <td>20210902KTWO02021-051-35</td>\n",
       "      <td>0</td>\n",
       "      <td>0</td>\n",
       "      <td>0</td>\n",
       "      <td>1</td>\n",
       "      <td>1</td>\n",
       "      <td>1</td>\n",
       "      <td>1</td>\n",
       "      <td>0</td>\n",
       "      <td>1</td>\n",
       "      <td>...</td>\n",
       "      <td>0</td>\n",
       "      <td>0</td>\n",
       "      <td>0</td>\n",
       "      <td>3</td>\n",
       "      <td>직구</td>\n",
       "      <td>0.259</td>\n",
       "      <td>3.327</td>\n",
       "      <td>직구</td>\n",
       "      <td>-0.268</td>\n",
       "      <td>1.629</td>\n",
       "    </tr>\n",
       "    <tr>\n",
       "      <th>3</th>\n",
       "      <td>20200526SKOB02020-061-38</td>\n",
       "      <td>1</td>\n",
       "      <td>0</td>\n",
       "      <td>0</td>\n",
       "      <td>0</td>\n",
       "      <td>1</td>\n",
       "      <td>1</td>\n",
       "      <td>1</td>\n",
       "      <td>0</td>\n",
       "      <td>0</td>\n",
       "      <td>...</td>\n",
       "      <td>0</td>\n",
       "      <td>0</td>\n",
       "      <td>0</td>\n",
       "      <td>4</td>\n",
       "      <td>직구</td>\n",
       "      <td>-1.780</td>\n",
       "      <td>2.522</td>\n",
       "      <td>직구</td>\n",
       "      <td>0.259</td>\n",
       "      <td>3.327</td>\n",
       "    </tr>\n",
       "    <tr>\n",
       "      <th>4</th>\n",
       "      <td>20211014SSHT02021-011-01</td>\n",
       "      <td>1</td>\n",
       "      <td>0</td>\n",
       "      <td>0</td>\n",
       "      <td>0</td>\n",
       "      <td>1</td>\n",
       "      <td>0</td>\n",
       "      <td>1</td>\n",
       "      <td>1</td>\n",
       "      <td>0</td>\n",
       "      <td>...</td>\n",
       "      <td>0</td>\n",
       "      <td>0</td>\n",
       "      <td>0</td>\n",
       "      <td>5</td>\n",
       "      <td>직구</td>\n",
       "      <td>-0.406</td>\n",
       "      <td>3.311</td>\n",
       "      <td>직구</td>\n",
       "      <td>-1.780</td>\n",
       "      <td>2.522</td>\n",
       "    </tr>\n",
       "  </tbody>\n",
       "</table>\n",
       "<p>5 rows × 63 columns</p>\n",
       "</div>"
      ],
      "text/plain": [
       "            gid-intot-panum  fastball  1b  2b  3b  p_throws_num  stand_num  \\\n",
       "0  20210413LTHT02021-011-06         0   1   1   0             1          1   \n",
       "1  20200916LTWO02020-071-51         1   1   0   0             0          0   \n",
       "2  20210902KTWO02021-051-35         0   0   0   1             1          1   \n",
       "3  20200526SKOB02020-061-38         1   0   0   0             1          1   \n",
       "4  20211014SSHT02021-011-01         1   0   0   0             1          0   \n",
       "\n",
       "   top_num  pitch_number_2  pitch_number_3  ...  pitcher_lead_9  \\\n",
       "0        1               0               0  ...               0   \n",
       "1        1               0               0  ...               0   \n",
       "2        1               0               1  ...               0   \n",
       "3        1               0               0  ...               0   \n",
       "4        1               1               0  ...               0   \n",
       "\n",
       "   pitcher_lead_10  pitcher_lead_22  pitch_number  pitch_type     px     pz  \\\n",
       "0                0                0             1          UN  0.000  0.000   \n",
       "1                0                0             2          직구 -0.268  1.629   \n",
       "2                0                0             3          직구  0.259  3.327   \n",
       "3                0                0             4          직구 -1.780  2.522   \n",
       "4                0                0             5          직구 -0.406  3.311   \n",
       "\n",
       "   pitch_type_prev  px_prev  pz_prev  \n",
       "0               UN    0.000    0.000  \n",
       "1               UN    0.000    0.000  \n",
       "2               직구   -0.268    1.629  \n",
       "3               직구    0.259    3.327  \n",
       "4               직구   -1.780    2.522  \n",
       "\n",
       "[5 rows x 63 columns]"
      ]
     },
     "execution_count": 143,
     "metadata": {},
     "output_type": "execute_result"
    }
   ],
   "source": [
    "df_sample.head()"
   ]
  },
  {
   "cell_type": "code",
   "execution_count": 144,
   "metadata": {
    "id": "_-oAwofWYpgr"
   },
   "outputs": [],
   "source": [
    "# replace the missing and zero values with NaNs\n",
    "df_prev_pitch['pz_prev'] = df_prev_pitch['pz_prev'].replace(0.000000, np.nan)\n",
    "df_prev_pitch['pz_prev'] = df_prev_pitch['pz_prev'].replace(2.250000, np.nan)\n",
    "\n",
    "df_sample.loc[(df_sample['pz_prev'] > 5), 'pz_prev'] = 5\n",
    "df_sample.loc[(df_sample['pz_prev'] < -1), 'pz_prev'] = -1\n"
   ]
  },
  {
   "cell_type": "code",
   "execution_count": 154,
   "metadata": {},
   "outputs": [
    {
     "data": {
      "text/html": [
       "<div>\n",
       "<style scoped>\n",
       "    .dataframe tbody tr th:only-of-type {\n",
       "        vertical-align: middle;\n",
       "    }\n",
       "\n",
       "    .dataframe tbody tr th {\n",
       "        vertical-align: top;\n",
       "    }\n",
       "\n",
       "    .dataframe thead th {\n",
       "        text-align: right;\n",
       "    }\n",
       "</style>\n",
       "<table border=\"1\" class=\"dataframe\">\n",
       "  <thead>\n",
       "    <tr style=\"text-align: right;\">\n",
       "      <th></th>\n",
       "      <th>gid-intot-panum</th>\n",
       "      <th>fastball</th>\n",
       "      <th>1b</th>\n",
       "      <th>2b</th>\n",
       "      <th>3b</th>\n",
       "      <th>p_throws_num</th>\n",
       "      <th>stand_num</th>\n",
       "      <th>top_num</th>\n",
       "      <th>pitch_number_2</th>\n",
       "      <th>pitch_number_3</th>\n",
       "      <th>...</th>\n",
       "      <th>pitcher_lead_10</th>\n",
       "      <th>pitcher_lead_22</th>\n",
       "      <th>pitch_number</th>\n",
       "      <th>pitch_type</th>\n",
       "      <th>px</th>\n",
       "      <th>pz</th>\n",
       "      <th>pitch_type_prev</th>\n",
       "      <th>px_prev</th>\n",
       "      <th>pz_prev</th>\n",
       "      <th>prev_fastball</th>\n",
       "    </tr>\n",
       "  </thead>\n",
       "  <tbody>\n",
       "    <tr>\n",
       "      <th>0</th>\n",
       "      <td>20210413LTHT02021-011-06</td>\n",
       "      <td>0</td>\n",
       "      <td>1</td>\n",
       "      <td>1</td>\n",
       "      <td>0</td>\n",
       "      <td>1</td>\n",
       "      <td>1</td>\n",
       "      <td>1</td>\n",
       "      <td>0</td>\n",
       "      <td>0</td>\n",
       "      <td>...</td>\n",
       "      <td>0</td>\n",
       "      <td>0</td>\n",
       "      <td>1</td>\n",
       "      <td>UN</td>\n",
       "      <td>0.000</td>\n",
       "      <td>0.000</td>\n",
       "      <td>UN</td>\n",
       "      <td>0.000</td>\n",
       "      <td>0.000</td>\n",
       "      <td>0</td>\n",
       "    </tr>\n",
       "    <tr>\n",
       "      <th>1</th>\n",
       "      <td>20200916LTWO02020-071-51</td>\n",
       "      <td>1</td>\n",
       "      <td>1</td>\n",
       "      <td>0</td>\n",
       "      <td>0</td>\n",
       "      <td>0</td>\n",
       "      <td>0</td>\n",
       "      <td>1</td>\n",
       "      <td>0</td>\n",
       "      <td>0</td>\n",
       "      <td>...</td>\n",
       "      <td>0</td>\n",
       "      <td>0</td>\n",
       "      <td>2</td>\n",
       "      <td>직구</td>\n",
       "      <td>-0.268</td>\n",
       "      <td>1.629</td>\n",
       "      <td>UN</td>\n",
       "      <td>0.000</td>\n",
       "      <td>0.000</td>\n",
       "      <td>0</td>\n",
       "    </tr>\n",
       "    <tr>\n",
       "      <th>2</th>\n",
       "      <td>20210902KTWO02021-051-35</td>\n",
       "      <td>0</td>\n",
       "      <td>0</td>\n",
       "      <td>0</td>\n",
       "      <td>1</td>\n",
       "      <td>1</td>\n",
       "      <td>1</td>\n",
       "      <td>1</td>\n",
       "      <td>0</td>\n",
       "      <td>1</td>\n",
       "      <td>...</td>\n",
       "      <td>0</td>\n",
       "      <td>0</td>\n",
       "      <td>3</td>\n",
       "      <td>직구</td>\n",
       "      <td>0.259</td>\n",
       "      <td>3.327</td>\n",
       "      <td>직구</td>\n",
       "      <td>-0.268</td>\n",
       "      <td>1.629</td>\n",
       "      <td>1</td>\n",
       "    </tr>\n",
       "    <tr>\n",
       "      <th>3</th>\n",
       "      <td>20200526SKOB02020-061-38</td>\n",
       "      <td>1</td>\n",
       "      <td>0</td>\n",
       "      <td>0</td>\n",
       "      <td>0</td>\n",
       "      <td>1</td>\n",
       "      <td>1</td>\n",
       "      <td>1</td>\n",
       "      <td>0</td>\n",
       "      <td>0</td>\n",
       "      <td>...</td>\n",
       "      <td>0</td>\n",
       "      <td>0</td>\n",
       "      <td>4</td>\n",
       "      <td>직구</td>\n",
       "      <td>-1.780</td>\n",
       "      <td>2.522</td>\n",
       "      <td>직구</td>\n",
       "      <td>0.259</td>\n",
       "      <td>3.327</td>\n",
       "      <td>1</td>\n",
       "    </tr>\n",
       "    <tr>\n",
       "      <th>4</th>\n",
       "      <td>20211014SSHT02021-011-01</td>\n",
       "      <td>1</td>\n",
       "      <td>0</td>\n",
       "      <td>0</td>\n",
       "      <td>0</td>\n",
       "      <td>1</td>\n",
       "      <td>0</td>\n",
       "      <td>1</td>\n",
       "      <td>1</td>\n",
       "      <td>0</td>\n",
       "      <td>...</td>\n",
       "      <td>0</td>\n",
       "      <td>0</td>\n",
       "      <td>5</td>\n",
       "      <td>직구</td>\n",
       "      <td>-0.406</td>\n",
       "      <td>3.311</td>\n",
       "      <td>직구</td>\n",
       "      <td>-1.780</td>\n",
       "      <td>2.522</td>\n",
       "      <td>1</td>\n",
       "    </tr>\n",
       "    <tr>\n",
       "      <th>5</th>\n",
       "      <td>20200828KTLG02020-099-69</td>\n",
       "      <td>1</td>\n",
       "      <td>1</td>\n",
       "      <td>1</td>\n",
       "      <td>1</td>\n",
       "      <td>1</td>\n",
       "      <td>0</td>\n",
       "      <td>0</td>\n",
       "      <td>0</td>\n",
       "      <td>0</td>\n",
       "      <td>...</td>\n",
       "      <td>0</td>\n",
       "      <td>0</td>\n",
       "      <td>6</td>\n",
       "      <td>체인</td>\n",
       "      <td>-0.905</td>\n",
       "      <td>2.253</td>\n",
       "      <td>직구</td>\n",
       "      <td>-0.406</td>\n",
       "      <td>3.311</td>\n",
       "      <td>1</td>\n",
       "    </tr>\n",
       "    <tr>\n",
       "      <th>6</th>\n",
       "      <td>20200806KTWO02020-081-61</td>\n",
       "      <td>1</td>\n",
       "      <td>1</td>\n",
       "      <td>1</td>\n",
       "      <td>0</td>\n",
       "      <td>0</td>\n",
       "      <td>1</td>\n",
       "      <td>1</td>\n",
       "      <td>1</td>\n",
       "      <td>0</td>\n",
       "      <td>...</td>\n",
       "      <td>0</td>\n",
       "      <td>0</td>\n",
       "      <td>1</td>\n",
       "      <td>직구</td>\n",
       "      <td>0.217</td>\n",
       "      <td>2.136</td>\n",
       "      <td>체인</td>\n",
       "      <td>-0.905</td>\n",
       "      <td>2.253</td>\n",
       "      <td>0</td>\n",
       "    </tr>\n",
       "    <tr>\n",
       "      <th>7</th>\n",
       "      <td>20211002NCLT02021-049-31</td>\n",
       "      <td>1</td>\n",
       "      <td>0</td>\n",
       "      <td>0</td>\n",
       "      <td>0</td>\n",
       "      <td>1</td>\n",
       "      <td>1</td>\n",
       "      <td>0</td>\n",
       "      <td>0</td>\n",
       "      <td>0</td>\n",
       "      <td>...</td>\n",
       "      <td>0</td>\n",
       "      <td>0</td>\n",
       "      <td>2</td>\n",
       "      <td>직구</td>\n",
       "      <td>0.163</td>\n",
       "      <td>3.124</td>\n",
       "      <td>직구</td>\n",
       "      <td>0.217</td>\n",
       "      <td>2.136</td>\n",
       "      <td>1</td>\n",
       "    </tr>\n",
       "    <tr>\n",
       "      <th>8</th>\n",
       "      <td>20200918HTSS02020-011-04</td>\n",
       "      <td>0</td>\n",
       "      <td>1</td>\n",
       "      <td>0</td>\n",
       "      <td>0</td>\n",
       "      <td>1</td>\n",
       "      <td>0</td>\n",
       "      <td>1</td>\n",
       "      <td>0</td>\n",
       "      <td>0</td>\n",
       "      <td>...</td>\n",
       "      <td>0</td>\n",
       "      <td>0</td>\n",
       "      <td>3</td>\n",
       "      <td>커브</td>\n",
       "      <td>0.199</td>\n",
       "      <td>1.938</td>\n",
       "      <td>직구</td>\n",
       "      <td>0.163</td>\n",
       "      <td>3.124</td>\n",
       "      <td>1</td>\n",
       "    </tr>\n",
       "    <tr>\n",
       "      <th>9</th>\n",
       "      <td>20210506LGOB02021-021-14</td>\n",
       "      <td>0</td>\n",
       "      <td>1</td>\n",
       "      <td>1</td>\n",
       "      <td>1</td>\n",
       "      <td>0</td>\n",
       "      <td>0</td>\n",
       "      <td>1</td>\n",
       "      <td>0</td>\n",
       "      <td>0</td>\n",
       "      <td>...</td>\n",
       "      <td>0</td>\n",
       "      <td>0</td>\n",
       "      <td>4</td>\n",
       "      <td>슬라</td>\n",
       "      <td>-1.270</td>\n",
       "      <td>1.962</td>\n",
       "      <td>커브</td>\n",
       "      <td>0.199</td>\n",
       "      <td>1.938</td>\n",
       "      <td>0</td>\n",
       "    </tr>\n",
       "  </tbody>\n",
       "</table>\n",
       "<p>10 rows × 64 columns</p>\n",
       "</div>"
      ],
      "text/plain": [
       "            gid-intot-panum  fastball  1b  2b  3b  p_throws_num  stand_num  \\\n",
       "0  20210413LTHT02021-011-06         0   1   1   0             1          1   \n",
       "1  20200916LTWO02020-071-51         1   1   0   0             0          0   \n",
       "2  20210902KTWO02021-051-35         0   0   0   1             1          1   \n",
       "3  20200526SKOB02020-061-38         1   0   0   0             1          1   \n",
       "4  20211014SSHT02021-011-01         1   0   0   0             1          0   \n",
       "5  20200828KTLG02020-099-69         1   1   1   1             1          0   \n",
       "6  20200806KTWO02020-081-61         1   1   1   0             0          1   \n",
       "7  20211002NCLT02021-049-31         1   0   0   0             1          1   \n",
       "8  20200918HTSS02020-011-04         0   1   0   0             1          0   \n",
       "9  20210506LGOB02021-021-14         0   1   1   1             0          0   \n",
       "\n",
       "   top_num  pitch_number_2  pitch_number_3  ...  pitcher_lead_10  \\\n",
       "0        1               0               0  ...                0   \n",
       "1        1               0               0  ...                0   \n",
       "2        1               0               1  ...                0   \n",
       "3        1               0               0  ...                0   \n",
       "4        1               1               0  ...                0   \n",
       "5        0               0               0  ...                0   \n",
       "6        1               1               0  ...                0   \n",
       "7        0               0               0  ...                0   \n",
       "8        1               0               0  ...                0   \n",
       "9        1               0               0  ...                0   \n",
       "\n",
       "   pitcher_lead_22  pitch_number  pitch_type     px     pz  pitch_type_prev  \\\n",
       "0                0             1          UN  0.000  0.000               UN   \n",
       "1                0             2          직구 -0.268  1.629               UN   \n",
       "2                0             3          직구  0.259  3.327               직구   \n",
       "3                0             4          직구 -1.780  2.522               직구   \n",
       "4                0             5          직구 -0.406  3.311               직구   \n",
       "5                0             6          체인 -0.905  2.253               직구   \n",
       "6                0             1          직구  0.217  2.136               체인   \n",
       "7                0             2          직구  0.163  3.124               직구   \n",
       "8                0             3          커브  0.199  1.938               직구   \n",
       "9                0             4          슬라 -1.270  1.962               커브   \n",
       "\n",
       "   px_prev  pz_prev  prev_fastball  \n",
       "0    0.000    0.000              0  \n",
       "1    0.000    0.000              0  \n",
       "2   -0.268    1.629              1  \n",
       "3    0.259    3.327              1  \n",
       "4   -1.780    2.522              1  \n",
       "5   -0.406    3.311              1  \n",
       "6   -0.905    2.253              0  \n",
       "7    0.217    2.136              1  \n",
       "8    0.163    3.124              1  \n",
       "9    0.199    1.938              0  \n",
       "\n",
       "[10 rows x 64 columns]"
      ]
     },
     "execution_count": 154,
     "metadata": {},
     "output_type": "execute_result"
    }
   ],
   "source": [
    "# create a duplicate pitch type column\n",
    "df_sample['prev_fastball'] = df_sample['pitch_type_prev']\n",
    "df_sample['prev_fastball'] = df_sample['pitch_type_prev'].replace({'직구':'FF', '투심':'FF', '싱커':'FF'}, regex=True)\n",
    "df_sample['prev_fastball'] = np.where(df_sample['prev_fastball'] == 'FF', 1, 0)\n",
    "\n",
    "df_sample.head(10)"
   ]
  },
  {
   "cell_type": "code",
   "execution_count": 156,
   "metadata": {},
   "outputs": [],
   "source": [
    "#Drop non-numerical columns\n",
    "df_sample.drop('pitch_type', axis = 1, inplace = True)\n",
    "df_sample.drop('pitch_type_prev', axis = 1, inplace = True)\n",
    "df_sample.drop('px', axis = 1, inplace = True)\n",
    "df_sample.drop('pz', axis = 1, inplace = True)"
   ]
  },
  {
   "cell_type": "code",
   "execution_count": 157,
   "metadata": {},
   "outputs": [
    {
     "name": "stdout",
     "output_type": "stream",
     "text": [
      "<class 'pandas.core.frame.DataFrame'>\n",
      "RangeIndex: 10000 entries, 0 to 9999\n",
      "Data columns (total 60 columns):\n",
      " #   Column            Non-Null Count  Dtype  \n",
      "---  ------            --------------  -----  \n",
      " 0   gid-intot-panum   10000 non-null  object \n",
      " 1   fastball          10000 non-null  int32  \n",
      " 2   1b                10000 non-null  int64  \n",
      " 3   2b                10000 non-null  int64  \n",
      " 4   3b                10000 non-null  int64  \n",
      " 5   p_throws_num      10000 non-null  int32  \n",
      " 6   stand_num         10000 non-null  int32  \n",
      " 7   top_num           10000 non-null  int32  \n",
      " 8   pitch_number_2    10000 non-null  uint8  \n",
      " 9   pitch_number_3    10000 non-null  uint8  \n",
      " 10  pitch_number_4    10000 non-null  uint8  \n",
      " 11  pitch_number_5    10000 non-null  uint8  \n",
      " 12  pitch_number_6    10000 non-null  uint8  \n",
      " 13  pitch_number_7    10000 non-null  uint8  \n",
      " 14  pitch_number_8    10000 non-null  uint8  \n",
      " 15  pitch_number_9    10000 non-null  uint8  \n",
      " 16  pitch_number_10   10000 non-null  uint8  \n",
      " 17  b_1               10000 non-null  uint8  \n",
      " 18  b_2               10000 non-null  uint8  \n",
      " 19  b_3               10000 non-null  uint8  \n",
      " 20  s_1               10000 non-null  uint8  \n",
      " 21  s_2               10000 non-null  uint8  \n",
      " 22  o_1               10000 non-null  uint8  \n",
      " 23  o_2               10000 non-null  uint8  \n",
      " 24  inning_2          10000 non-null  uint8  \n",
      " 25  inning_3          10000 non-null  uint8  \n",
      " 26  inning_4          10000 non-null  uint8  \n",
      " 27  inning_5          10000 non-null  uint8  \n",
      " 28  inning_6          10000 non-null  uint8  \n",
      " 29  inning_7          10000 non-null  uint8  \n",
      " 30  inning_8          10000 non-null  uint8  \n",
      " 31  inning_9          10000 non-null  uint8  \n",
      " 32  inning_10         10000 non-null  uint8  \n",
      " 33  pitcher_lead_-21  10000 non-null  uint8  \n",
      " 34  pitcher_lead_-10  10000 non-null  uint8  \n",
      " 35  pitcher_lead_-9   10000 non-null  uint8  \n",
      " 36  pitcher_lead_-8   10000 non-null  uint8  \n",
      " 37  pitcher_lead_-7   10000 non-null  uint8  \n",
      " 38  pitcher_lead_-6   10000 non-null  uint8  \n",
      " 39  pitcher_lead_-5   10000 non-null  uint8  \n",
      " 40  pitcher_lead_-4   10000 non-null  uint8  \n",
      " 41  pitcher_lead_-3   10000 non-null  uint8  \n",
      " 42  pitcher_lead_-2   10000 non-null  uint8  \n",
      " 43  pitcher_lead_-1   10000 non-null  uint8  \n",
      " 44  pitcher_lead_0    10000 non-null  uint8  \n",
      " 45  pitcher_lead_1    10000 non-null  uint8  \n",
      " 46  pitcher_lead_2    10000 non-null  uint8  \n",
      " 47  pitcher_lead_3    10000 non-null  uint8  \n",
      " 48  pitcher_lead_4    10000 non-null  uint8  \n",
      " 49  pitcher_lead_5    10000 non-null  uint8  \n",
      " 50  pitcher_lead_6    10000 non-null  uint8  \n",
      " 51  pitcher_lead_7    10000 non-null  uint8  \n",
      " 52  pitcher_lead_8    10000 non-null  uint8  \n",
      " 53  pitcher_lead_9    10000 non-null  uint8  \n",
      " 54  pitcher_lead_10   10000 non-null  uint8  \n",
      " 55  pitcher_lead_22   10000 non-null  uint8  \n",
      " 56  pitch_number      10000 non-null  int64  \n",
      " 57  px_prev           10000 non-null  float64\n",
      " 58  pz_prev           10000 non-null  float64\n",
      " 59  prev_fastball     10000 non-null  int32  \n",
      "dtypes: float64(2), int32(5), int64(4), object(1), uint8(48)\n",
      "memory usage: 1.2+ MB\n"
     ]
    }
   ],
   "source": [
    "df_sample.info()"
   ]
  },
  {
   "cell_type": "code",
   "execution_count": 158,
   "metadata": {},
   "outputs": [],
   "source": [
    "# split the dataframe\n",
    "X = df_sample.iloc[:, 2:]\n",
    "y = df_sample.iloc[:, 1]\n",
    "\n",
    "# split the data into train and test sets\n",
    "X_train, X_test, y_train, y_test = train_test_split(X, y, random_state=0, stratify=y)"
   ]
  },
  {
   "cell_type": "markdown",
   "metadata": {},
   "source": [
    "### SECOND ROUND OF MODELING WITH NEW FEATURES \n",
    "\n",
    "Now that I have added some previous pitch features, I will re-rerun the data through the default classifiers to see if the accuracy improves.\n",
    "\n"
   ]
  },
  {
   "cell_type": "markdown",
   "metadata": {},
   "source": [
    "#### Logistic Regression"
   ]
  },
  {
   "cell_type": "code",
   "execution_count": 159,
   "metadata": {},
   "outputs": [
    {
     "name": "stdout",
     "output_type": "stream",
     "text": [
      "Training Set Accuracy: 0.5908\n",
      "Test Set Accuracy: 0.58\n"
     ]
    }
   ],
   "source": [
    "lr = LogisticRegression()\n",
    "lr.fit(X_train, y_train)\n",
    "y_pred_lr = lr.predict(X_test)\n",
    "print('Training Set Accuracy: {}'.format(lr.score(X_train, y_train)))\n",
    "print('Test Set Accuracy: {}'.format(lr.score(X_test, y_test)))"
   ]
  },
  {
   "cell_type": "markdown",
   "metadata": {},
   "source": [
    "#### SGDClassifier"
   ]
  },
  {
   "cell_type": "code",
   "execution_count": 160,
   "metadata": {},
   "outputs": [
    {
     "name": "stdout",
     "output_type": "stream",
     "text": [
      "Training Set Accuracy: 0.5593333333333333\n",
      "Test Set Accuracy: 0.5528\n"
     ]
    }
   ],
   "source": [
    "sgdc = SGDClassifier()\n",
    "sgdc.fit(X_train, y_train)\n",
    "y_pred_sgdc = sgdc.predict(X_test)\n",
    "print('Training Set Accuracy: {}'.format(sgdc.score(X_train, y_train)))\n",
    "print('Test Set Accuracy: {}'.format(sgdc.score(X_test, y_test)))"
   ]
  },
  {
   "cell_type": "markdown",
   "metadata": {},
   "source": [
    "#### Random Forest Classifier"
   ]
  },
  {
   "cell_type": "code",
   "execution_count": 161,
   "metadata": {},
   "outputs": [
    {
     "name": "stdout",
     "output_type": "stream",
     "text": [
      "Training Set Accuracy: 1.0\n",
      "Test Set Accuracy: 0.5632\n"
     ]
    }
   ],
   "source": [
    "rfc = RandomForestClassifier()\n",
    "rfc.fit(X_train, y_train)\n",
    "y_pred_rfc = rfc.predict(X_test)\n",
    "print('Training Set Accuracy: {}'.format(rfc.score(X_train, y_train)))\n",
    "print('Test Set Accuracy: {}'.format(rfc.score(X_test, y_test)))"
   ]
  },
  {
   "cell_type": "markdown",
   "metadata": {},
   "source": [
    "#### Gradient Boosting Classifier"
   ]
  },
  {
   "cell_type": "code",
   "execution_count": 162,
   "metadata": {},
   "outputs": [
    {
     "name": "stdout",
     "output_type": "stream",
     "text": [
      "Training Set Accuracy: 0.6356\n",
      "Test Set Accuracy: 0.572\n"
     ]
    }
   ],
   "source": [
    "gbc = GradientBoostingClassifier()\n",
    "gbc.fit(X_train, y_train)\n",
    "y_pred_gbc = gbc.predict(X_test)\n",
    "print('Training Set Accuracy: {}'.format(gbc.score(X_train, y_train)))\n",
    "print('Test Set Accuracy: {}'.format(gbc.score(X_test, y_test)))"
   ]
  },
  {
   "cell_type": "markdown",
   "metadata": {},
   "source": [
    "### THIRD ROUND OF MODELING USING GRIDCVSEARCH"
   ]
  },
  {
   "attachments": {},
   "cell_type": "markdown",
   "metadata": {},
   "source": [
    "GridSearchCV is used to optimize our classifier and iterate through different parameters to find the best model."
   ]
  },
  {
   "cell_type": "markdown",
   "metadata": {},
   "source": [
    "#### Logistic Regression"
   ]
  },
  {
   "cell_type": "code",
   "execution_count": 163,
   "metadata": {},
   "outputs": [
    {
     "name": "stdout",
     "output_type": "stream",
     "text": [
      "{'C': 1000.0, 'penalty': 'l2'}\n"
     ]
    }
   ],
   "source": [
    "param_grid={\"C\":np.logspace(-3,3,7), \"penalty\":[\"l1\",\"l2\"]}# l1 lasso l2 ridge\n",
    "\n",
    "g_search = GridSearchCV(estimator = lr, \n",
    "                        param_grid = param_grid, \n",
    "                        cv = 3, n_jobs = 1, \n",
    "                        verbose = 0, \n",
    "                        return_train_score=True\n",
    "                       )\n",
    "\n",
    "g_search.fit(X_train,y_train)\n",
    "\n",
    "print(g_search.best_params_)"
   ]
  },
  {
   "cell_type": "code",
   "execution_count": 164,
   "metadata": {},
   "outputs": [
    {
     "name": "stdout",
     "output_type": "stream",
     "text": [
      "Training Set Accuracy: 0.5805333333333333\n",
      "Test Set Accuracy: 0.5688\n"
     ]
    }
   ],
   "source": [
    "lr1 = LogisticRegression(C = 0.01, penalty = 'l2')\n",
    "\n",
    "lr1.fit(X_train, y_train)\n",
    "pred_lr = lr1.predict(X_test)\n",
    "\n",
    "print('Training Set Accuracy: {}'.format(lr1.score(X_train, y_train)))\n",
    "print('Test Set Accuracy: {}'.format(lr1.score(X_test, y_test)))"
   ]
  },
  {
   "cell_type": "markdown",
   "metadata": {},
   "source": [
    "#### SGDClassifier"
   ]
  },
  {
   "cell_type": "code",
   "execution_count": 165,
   "metadata": {},
   "outputs": [
    {
     "name": "stdout",
     "output_type": "stream",
     "text": [
      "{'alpha': 0.001, 'loss': 'log', 'penalty': 'l1'}\n"
     ]
    }
   ],
   "source": [
    "param_grid = {\n",
    "    \"loss\" : [\"hinge\", \"log\", \"squared_hinge\", \"modified_huber\"],\n",
    "    \"alpha\" : [0.0001, 0.001, 0.01, 0.1],\n",
    "    \"penalty\" : [\"l2\", \"l1\", \"none\"]}\n",
    "\n",
    "g_search = GridSearchCV(estimator= sgdc, \n",
    "                        param_grid=param_grid,\n",
    "                        cv = 3, n_jobs = 1, \n",
    "                        verbose = 0, \n",
    "                        return_train_score=True)\n",
    "\n",
    "g_search.fit(X_train,y_train)\n",
    "\n",
    "print(g_search.best_params_)"
   ]
  },
  {
   "cell_type": "code",
   "execution_count": 167,
   "metadata": {},
   "outputs": [
    {
     "name": "stdout",
     "output_type": "stream",
     "text": [
      "Training Set Accuracy: 0.5254666666666666\n",
      "Test Set Accuracy: 0.5256\n"
     ]
    }
   ],
   "source": [
    "sgdc1 = SGDClassifier(alpha = 0.1, loss = 'hinge', penalty = 'elasticnet')\n",
    "sgdc1.fit(X_train, y_train)\n",
    "pred_sgdc = sgdc1.predict(X_test)\n",
    "\n",
    "print('Training Set Accuracy: {}'.format(sgdc1.score(X_train, y_train)))\n",
    "print('Test Set Accuracy: {}'.format(sgdc1.score(X_test, y_test)))"
   ]
  },
  {
   "cell_type": "markdown",
   "metadata": {},
   "source": [
    "#### Random Forest Classifier"
   ]
  },
  {
   "cell_type": "code",
   "execution_count": 168,
   "metadata": {},
   "outputs": [
    {
     "name": "stdout",
     "output_type": "stream",
     "text": [
      "{'criterion': 'gini', 'max_depth': 8, 'max_features': 'sqrt', 'n_estimators': 300}\n"
     ]
    }
   ],
   "source": [
    "param_grid = { \n",
    "    'n_estimators': [200, 300],\n",
    "    'max_features': ['auto', 'sqrt', 'log2'],\n",
    "    'max_depth' : [4,5,6,7,8],\n",
    "    'criterion' :['gini', 'entropy']}\n",
    "\n",
    "g_search = GridSearchCV(estimator = rfc, \n",
    "                        param_grid = param_grid, \n",
    "                        cv = 3, n_jobs = 1, \n",
    "                        verbose = 0, \n",
    "                        return_train_score=True)\n",
    "\n",
    "g_search.fit(X_train, y_train)\n",
    "print(g_search.best_params_)"
   ]
  },
  {
   "cell_type": "code",
   "execution_count": 169,
   "metadata": {},
   "outputs": [
    {
     "name": "stdout",
     "output_type": "stream",
     "text": [
      "Training Set Accuracy: 0.6794666666666667\n",
      "Test Set Accuracy: 0.5804\n"
     ]
    }
   ],
   "source": [
    "rfc1 = RandomForestClassifier(random_state=42, \n",
    "                           max_features='sqrt', \n",
    "                           n_estimators= 200, \n",
    "                           max_depth=8,  \n",
    "                           criterion='entropy')\n",
    "\n",
    "rfc1.fit(X_train, y_train)\n",
    "pred_rfc = rfc1.predict(X_test)\n",
    "\n",
    "print('Training Set Accuracy: {}'.format(rfc1.score(X_train, y_train)))\n",
    "print('Test Set Accuracy: {}'.format(rfc1.score(X_test, y_test)))\n",
    "#print(\"Mean Squared Error: \"  + str(metrics.mean_squared_error(y_test, pred)))"
   ]
  },
  {
   "cell_type": "markdown",
   "metadata": {},
   "source": [
    "#### Gradient Boosting Classifier"
   ]
  },
  {
   "cell_type": "code",
   "execution_count": 171,
   "metadata": {},
   "outputs": [
    {
     "name": "stdout",
     "output_type": "stream",
     "text": [
      "{'criterion': 'squared_error', 'loss': 'deviance', 'max_depth': 5, 'max_features': 'auto', 'min_samples_leaf': 0.1, 'min_samples_split': 0.1, 'n_estimators': 10}\n"
     ]
    }
   ],
   "source": [
    "param_grid = {\n",
    "    \"loss\":[\"deviance\"],\n",
    "    \"min_samples_split\": np.linspace(0.1, 0.5, 12),\n",
    "    \"min_samples_leaf\": np.linspace(0.1, 0.5, 12),\n",
    "    \"max_depth\":[3,5,8],\n",
    "    \"max_features\":[\"log2\",\"sqrt\", \"auto\"],\n",
    "    \"criterion\": [\"mse\",  \"mae\", \"squared_error\"],\n",
    "    \"n_estimators\": [10]\n",
    "    }\n",
    "\n",
    "g_search = GridSearchCV(estimator = gbc,\n",
    "                        param_grid = param_grid, \n",
    "                        cv = 3, n_jobs = 1, \n",
    "                        verbose = 0, \n",
    "                        return_train_score=True)\n",
    "\n",
    "g_search.fit(X_train, y_train)\n",
    "print(g_search.best_params_)"
   ]
  },
  {
   "cell_type": "code",
   "execution_count": 173,
   "metadata": {},
   "outputs": [
    {
     "name": "stdout",
     "output_type": "stream",
     "text": [
      "Training Set Accuracy: 0.5312\n",
      "Test Set Accuracy: 0.5268\n"
     ]
    }
   ],
   "source": [
    "gbc1 = GradientBoostingClassifier(random_state=42, \n",
    "                               criterion = 'squared_error', \n",
    "                               loss = 'deviance', \n",
    "                               max_depth = 3, \n",
    "                               max_features = 'sqrt',\n",
    "                               min_samples_leaf = 0.1, \n",
    "                               min_samples_split = 0.1,\n",
    "                               n_estimators = 10)\n",
    "\n",
    "gbc1.fit(X_train, y_train)\n",
    "pred_gbc = gbc1.predict(X_test)\n",
    "\n",
    "print('Training Set Accuracy: {}'.format(gbc1.score(X_train, y_train)))\n",
    "print('Test Set Accuracy: {}'.format(gbc1.score(X_test, y_test)))"
   ]
  },
  {
   "cell_type": "markdown",
   "metadata": {},
   "source": [
    "### Classification Reports and Confusion Matrix "
   ]
  },
  {
   "cell_type": "code",
   "execution_count": 174,
   "metadata": {},
   "outputs": [
    {
     "name": "stdout",
     "output_type": "stream",
     "text": [
      "              precision    recall  f1-score   support\n",
      "\n",
      "           0       0.56      0.43      0.49      1186\n",
      "           1       0.57      0.69      0.63      1314\n",
      "\n",
      "    accuracy                           0.57      2500\n",
      "   macro avg       0.57      0.56      0.56      2500\n",
      "weighted avg       0.57      0.57      0.56      2500\n",
      "\n"
     ]
    }
   ],
   "source": [
    "# Classification report Logistic Regression\n",
    "print(classification_report(y_test, pred_lr))"
   ]
  },
  {
   "cell_type": "code",
   "execution_count": 175,
   "metadata": {},
   "outputs": [
    {
     "name": "stdout",
     "output_type": "stream",
     "text": [
      "[[510 676]\n",
      " [402 912]]\n"
     ]
    }
   ],
   "source": [
    "#Confusion Matrix Logistic Regression\n",
    "print(confusion_matrix(y_test, pred_lr))"
   ]
  },
  {
   "cell_type": "code",
   "execution_count": 176,
   "metadata": {},
   "outputs": [
    {
     "name": "stdout",
     "output_type": "stream",
     "text": [
      "              precision    recall  f1-score   support\n",
      "\n",
      "           0       0.52      0.03      0.06      1186\n",
      "           1       0.53      0.98      0.68      1314\n",
      "\n",
      "    accuracy                           0.53      2500\n",
      "   macro avg       0.52      0.50      0.37      2500\n",
      "weighted avg       0.52      0.53      0.39      2500\n",
      "\n"
     ]
    }
   ],
   "source": [
    "# Classification report Gradient Boosting\n",
    "from sklearn.metrics import classification_report\n",
    "print(classification_report(y_test, pred_gbc))"
   ]
  },
  {
   "cell_type": "code",
   "execution_count": 177,
   "metadata": {},
   "outputs": [
    {
     "name": "stdout",
     "output_type": "stream",
     "text": [
      "[[  35 1151]\n",
      " [  32 1282]]\n"
     ]
    }
   ],
   "source": [
    "# Confusion matrix Gradient Boosting\n",
    "from sklearn.metrics import confusion_matrix\n",
    "print(confusion_matrix(y_test, pred_gbc))"
   ]
  },
  {
   "cell_type": "code",
   "execution_count": 178,
   "metadata": {},
   "outputs": [
    {
     "name": "stdout",
     "output_type": "stream",
     "text": [
      "              precision    recall  f1-score   support\n",
      "\n",
      "           0       0.57      0.46      0.51      1186\n",
      "           1       0.59      0.69      0.63      1314\n",
      "\n",
      "    accuracy                           0.58      2500\n",
      "   macro avg       0.58      0.57      0.57      2500\n",
      "weighted avg       0.58      0.58      0.57      2500\n",
      "\n"
     ]
    }
   ],
   "source": [
    "# Classification report Random Forest\n",
    "from sklearn.metrics import classification_report\n",
    "print(classification_report(y_test, pred_rfc))"
   ]
  },
  {
   "cell_type": "code",
   "execution_count": 179,
   "metadata": {},
   "outputs": [
    {
     "name": "stdout",
     "output_type": "stream",
     "text": [
      "[[545 641]\n",
      " [408 906]]\n"
     ]
    }
   ],
   "source": [
    "# Confusion matrix Random Forest\n",
    "from sklearn.metrics import confusion_matrix\n",
    "print(confusion_matrix(y_test, pred_rfc))"
   ]
  },
  {
   "attachments": {},
   "cell_type": "markdown",
   "metadata": {},
   "source": [
    "### FEATURE IMPORTANCE"
   ]
  },
  {
   "cell_type": "code",
   "execution_count": 180,
   "metadata": {},
   "outputs": [],
   "source": [
    "df_features = pd.DataFrame(\n",
    "    {'coefficient': lr.coef_.flatten(), 'rfc_feature_importance': rfc.feature_importances_}, \n",
    "    index=df_sample.columns[2:])"
   ]
  },
  {
   "cell_type": "code",
   "execution_count": 181,
   "metadata": {},
   "outputs": [
    {
     "data": {
      "text/html": [
       "<div>\n",
       "<style scoped>\n",
       "    .dataframe tbody tr th:only-of-type {\n",
       "        vertical-align: middle;\n",
       "    }\n",
       "\n",
       "    .dataframe tbody tr th {\n",
       "        vertical-align: top;\n",
       "    }\n",
       "\n",
       "    .dataframe thead th {\n",
       "        text-align: right;\n",
       "    }\n",
       "</style>\n",
       "<table border=\"1\" class=\"dataframe\">\n",
       "  <thead>\n",
       "    <tr style=\"text-align: right;\">\n",
       "      <th></th>\n",
       "      <th>coefficient</th>\n",
       "      <th>rfc_feature_importance</th>\n",
       "    </tr>\n",
       "  </thead>\n",
       "  <tbody>\n",
       "    <tr>\n",
       "      <th>pz_prev</th>\n",
       "      <td>-0.022094</td>\n",
       "      <td>0.153677</td>\n",
       "    </tr>\n",
       "    <tr>\n",
       "      <th>px_prev</th>\n",
       "      <td>0.018483</td>\n",
       "      <td>0.152842</td>\n",
       "    </tr>\n",
       "    <tr>\n",
       "      <th>pitch_number</th>\n",
       "      <td>-0.006581</td>\n",
       "      <td>0.080411</td>\n",
       "    </tr>\n",
       "    <tr>\n",
       "      <th>stand_num</th>\n",
       "      <td>0.004341</td>\n",
       "      <td>0.030107</td>\n",
       "    </tr>\n",
       "    <tr>\n",
       "      <th>top_num</th>\n",
       "      <td>0.001968</td>\n",
       "      <td>0.030049</td>\n",
       "    </tr>\n",
       "    <tr>\n",
       "      <th>prev_fastball</th>\n",
       "      <td>-0.034361</td>\n",
       "      <td>0.029237</td>\n",
       "    </tr>\n",
       "    <tr>\n",
       "      <th>1b</th>\n",
       "      <td>0.028644</td>\n",
       "      <td>0.028674</td>\n",
       "    </tr>\n",
       "    <tr>\n",
       "      <th>p_throws_num</th>\n",
       "      <td>0.009942</td>\n",
       "      <td>0.024427</td>\n",
       "    </tr>\n",
       "    <tr>\n",
       "      <th>o_1</th>\n",
       "      <td>-0.069130</td>\n",
       "      <td>0.023586</td>\n",
       "    </tr>\n",
       "    <tr>\n",
       "      <th>pitcher_lead_0</th>\n",
       "      <td>-0.101763</td>\n",
       "      <td>0.021787</td>\n",
       "    </tr>\n",
       "    <tr>\n",
       "      <th>o_2</th>\n",
       "      <td>-0.223594</td>\n",
       "      <td>0.019928</td>\n",
       "    </tr>\n",
       "    <tr>\n",
       "      <th>2b</th>\n",
       "      <td>-0.275601</td>\n",
       "      <td>0.017059</td>\n",
       "    </tr>\n",
       "    <tr>\n",
       "      <th>pitcher_lead_1</th>\n",
       "      <td>-0.124533</td>\n",
       "      <td>0.016128</td>\n",
       "    </tr>\n",
       "    <tr>\n",
       "      <th>pitcher_lead_-1</th>\n",
       "      <td>-0.033098</td>\n",
       "      <td>0.015324</td>\n",
       "    </tr>\n",
       "    <tr>\n",
       "      <th>b_1</th>\n",
       "      <td>-0.124447</td>\n",
       "      <td>0.015256</td>\n",
       "    </tr>\n",
       "  </tbody>\n",
       "</table>\n",
       "</div>"
      ],
      "text/plain": [
       "                 coefficient  rfc_feature_importance\n",
       "pz_prev            -0.022094                0.153677\n",
       "px_prev             0.018483                0.152842\n",
       "pitch_number       -0.006581                0.080411\n",
       "stand_num           0.004341                0.030107\n",
       "top_num             0.001968                0.030049\n",
       "prev_fastball      -0.034361                0.029237\n",
       "1b                  0.028644                0.028674\n",
       "p_throws_num        0.009942                0.024427\n",
       "o_1                -0.069130                0.023586\n",
       "pitcher_lead_0     -0.101763                0.021787\n",
       "o_2                -0.223594                0.019928\n",
       "2b                 -0.275601                0.017059\n",
       "pitcher_lead_1     -0.124533                0.016128\n",
       "pitcher_lead_-1    -0.033098                0.015324\n",
       "b_1                -0.124447                0.015256"
      ]
     },
     "execution_count": 181,
     "metadata": {},
     "output_type": "execute_result"
    }
   ],
   "source": [
    "#top features\n",
    "df_features.sort_values('rfc_feature_importance', ascending=False)[:15]"
   ]
  },
  {
   "cell_type": "code",
   "execution_count": 182,
   "metadata": {},
   "outputs": [
    {
     "data": {
      "text/html": [
       "<div>\n",
       "<style scoped>\n",
       "    .dataframe tbody tr th:only-of-type {\n",
       "        vertical-align: middle;\n",
       "    }\n",
       "\n",
       "    .dataframe tbody tr th {\n",
       "        vertical-align: top;\n",
       "    }\n",
       "\n",
       "    .dataframe thead th {\n",
       "        text-align: right;\n",
       "    }\n",
       "</style>\n",
       "<table border=\"1\" class=\"dataframe\">\n",
       "  <thead>\n",
       "    <tr style=\"text-align: right;\">\n",
       "      <th></th>\n",
       "      <th>coefficient</th>\n",
       "      <th>rfc_feature_importance</th>\n",
       "    </tr>\n",
       "  </thead>\n",
       "  <tbody>\n",
       "    <tr>\n",
       "      <th>s_2</th>\n",
       "      <td>-1.101481</td>\n",
       "      <td>0.015197</td>\n",
       "    </tr>\n",
       "    <tr>\n",
       "      <th>pitch_number_9</th>\n",
       "      <td>-0.773978</td>\n",
       "      <td>0.000972</td>\n",
       "    </tr>\n",
       "    <tr>\n",
       "      <th>s_1</th>\n",
       "      <td>-0.678565</td>\n",
       "      <td>0.013774</td>\n",
       "    </tr>\n",
       "    <tr>\n",
       "      <th>inning_4</th>\n",
       "      <td>-0.380818</td>\n",
       "      <td>0.012915</td>\n",
       "    </tr>\n",
       "    <tr>\n",
       "      <th>pitcher_lead_-9</th>\n",
       "      <td>-0.340973</td>\n",
       "      <td>0.002151</td>\n",
       "    </tr>\n",
       "    <tr>\n",
       "      <th>inning_2</th>\n",
       "      <td>-0.318191</td>\n",
       "      <td>0.013514</td>\n",
       "    </tr>\n",
       "    <tr>\n",
       "      <th>inning_5</th>\n",
       "      <td>-0.313301</td>\n",
       "      <td>0.012821</td>\n",
       "    </tr>\n",
       "    <tr>\n",
       "      <th>inning_6</th>\n",
       "      <td>-0.290980</td>\n",
       "      <td>0.014467</td>\n",
       "    </tr>\n",
       "    <tr>\n",
       "      <th>2b</th>\n",
       "      <td>-0.275601</td>\n",
       "      <td>0.017059</td>\n",
       "    </tr>\n",
       "    <tr>\n",
       "      <th>pitcher_lead_-4</th>\n",
       "      <td>-0.265228</td>\n",
       "      <td>0.007760</td>\n",
       "    </tr>\n",
       "    <tr>\n",
       "      <th>pitcher_lead_-2</th>\n",
       "      <td>-0.239579</td>\n",
       "      <td>0.011323</td>\n",
       "    </tr>\n",
       "    <tr>\n",
       "      <th>inning_3</th>\n",
       "      <td>-0.239376</td>\n",
       "      <td>0.014751</td>\n",
       "    </tr>\n",
       "    <tr>\n",
       "      <th>o_2</th>\n",
       "      <td>-0.223594</td>\n",
       "      <td>0.019928</td>\n",
       "    </tr>\n",
       "    <tr>\n",
       "      <th>pitcher_lead_6</th>\n",
       "      <td>-0.192325</td>\n",
       "      <td>0.005673</td>\n",
       "    </tr>\n",
       "    <tr>\n",
       "      <th>pitch_number_8</th>\n",
       "      <td>-0.173029</td>\n",
       "      <td>0.002220</td>\n",
       "    </tr>\n",
       "  </tbody>\n",
       "</table>\n",
       "</div>"
      ],
      "text/plain": [
       "                 coefficient  rfc_feature_importance\n",
       "s_2                -1.101481                0.015197\n",
       "pitch_number_9     -0.773978                0.000972\n",
       "s_1                -0.678565                0.013774\n",
       "inning_4           -0.380818                0.012915\n",
       "pitcher_lead_-9    -0.340973                0.002151\n",
       "inning_2           -0.318191                0.013514\n",
       "inning_5           -0.313301                0.012821\n",
       "inning_6           -0.290980                0.014467\n",
       "2b                 -0.275601                0.017059\n",
       "pitcher_lead_-4    -0.265228                0.007760\n",
       "pitcher_lead_-2    -0.239579                0.011323\n",
       "inning_3           -0.239376                0.014751\n",
       "o_2                -0.223594                0.019928\n",
       "pitcher_lead_6     -0.192325                0.005673\n",
       "pitch_number_8     -0.173029                0.002220"
      ]
     },
     "execution_count": 182,
     "metadata": {},
     "output_type": "execute_result"
    }
   ],
   "source": [
    "#Least important features\n",
    "df_features.sort_values('coefficient')[:15]"
   ]
  }
 ],
 "metadata": {
  "accelerator": "GPU",
  "colab": {
   "name": "Untitled.ipynb",
   "provenance": [],
   "toc_visible": true
  },
  "kernelspec": {
   "display_name": "Python 3",
   "language": "python",
   "name": "python3"
  },
  "language_info": {
   "codemirror_mode": {
    "name": "ipython",
    "version": 3
   },
   "file_extension": ".py",
   "mimetype": "text/x-python",
   "name": "python",
   "nbconvert_exporter": "python",
   "pygments_lexer": "ipython3",
   "version": "3.8.15"
  }
 },
 "nbformat": 4,
 "nbformat_minor": 1
}
